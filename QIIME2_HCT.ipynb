{
 "cells": [
  {
   "cell_type": "code",
   "execution_count": null,
   "id": "81232a92",
   "metadata": {},
   "outputs": [],
   "source": [
    "#Metadata"
   ]
  },
  {
   "cell_type": "code",
   "execution_count": 2,
   "id": "fc400d67-ab9d-42ce-94d1-cd5eb0bf8ca6",
   "metadata": {},
   "outputs": [],
   "source": [
    "from qiime2 import Metadata\n",
    "from urllib import request\n",
    "\n",
    "url = 'https://docs.qiime2.org/jupyterbooks/cancer-microbiome-intervention-tutorial/data/020-tutorial-upstream/020-metadata/sample-metadata.tsv'\n",
    "fn = 'sample-metadata.tsv'\n",
    "request.urlretrieve(url, fn)\n",
    "sample_metadata_md = Metadata.load(fn)"
   ]
  },
  {
   "cell_type": "code",
   "execution_count": null,
   "id": "11378047",
   "metadata": {},
   "outputs": [],
   "source": [
    "import qiime2.plugins.metadata.actions as metadata_actions\n",
    "\n",
    "metadata_summ_1_viz, = metadata_actions.tabulate(input=sample_metadata_md,)"
   ]
  },
  {
   "cell_type": "code",
   "execution_count": null,
   "id": "5b4ab776",
   "metadata": {},
   "outputs": [],
   "source": []
  },
  {
   "cell_type": "code",
   "execution_count": 6,
   "id": "213bc632",
   "metadata": {},
   "outputs": [],
   "source": [
    "#Demultiplex"
   ]
  },
  {
   "cell_type": "code",
   "execution_count": null,
   "id": "3b897c4a",
   "metadata": {},
   "outputs": [],
   "source": [
    "import zipfile\n",
    "\n",
    "url = 'https://docs.qiime2.org/jupyterbooks/cancer-microbiome-intervention-tutorial/data/020-tutorial-upstream/030-importing/data_to_import.zip'\n",
    "fn = 'data_to_import.zip'\n",
    "request.urlretrieve(url, fn)\n",
    "with zipfile.ZipFile(fn) as zf:\n",
    "    zf.extractall('data_to_import')"
   ]
  },
  {
   "cell_type": "code",
   "execution_count": null,
   "id": "3d897e87",
   "metadata": {},
   "outputs": [],
   "source": [
    "from q2_types.per_sample_sequences import CasavaOneEightSingleLanePerSampleDirFmt\n",
    "from qiime2 import Artifact\n",
    "\n",
    "demultiplexed_sequences = Artifact.import_data(\n",
    "    'SampleData[PairedEndSequencesWithQuality]',\n",
    "    'data_to_import',\n",
    "    CasavaOneEightSingleLanePerSampleDirFmt,)"
   ]
  },
  {
   "cell_type": "code",
   "execution_count": null,
   "id": "7b4d5e20",
   "metadata": {},
   "outputs": [],
   "source": [
    "import qiime2.plugins.demux.actions as demux_actions\n",
    "\n",
    "demultiplexed_sequences_summ_viz, = demux_actions.summarize(\n",
    "    data=demultiplexed_sequences,)"
   ]
  },
  {
   "cell_type": "code",
   "execution_count": null,
   "id": "e7ac98f7",
   "metadata": {},
   "outputs": [],
   "source": []
  },
  {
   "cell_type": "code",
   "execution_count": null,
   "id": "3c0c41b9",
   "metadata": {},
   "outputs": [],
   "source": [
    "#Denoise"
   ]
  },
  {
   "cell_type": "code",
   "execution_count": null,
   "id": "9e9eff5a",
   "metadata": {},
   "outputs": [],
   "source": [
    "import qiime2.plugins.dada2.actions as dada2_actions\n",
    "\n",
    "feature_table_0, asv_sequences_0, dada2_stats = dada2_actions.denoise_paired(\n",
    "    demultiplexed_seqs=demultiplexed_sequences,\n",
    "    trunc_len_f=204,\n",
    "    trim_left_r=1,\n",
    "    trunc_len_r=205,)"
   ]
  },
  {
   "cell_type": "code",
   "execution_count": null,
   "id": "c992eb4f",
   "metadata": {},
   "outputs": [],
   "source": [
    "stats_dada2_md_md = dada2_stats.view(Metadata)\n",
    "dada2_stats_summ_viz, = metadata_actions.tabulate(\n",
    "    input=stats_dada2_md_md,)"
   ]
  },
  {
   "cell_type": "code",
   "execution_count": 8,
   "id": "12e3740e",
   "metadata": {},
   "outputs": [],
   "source": [
    "import qiime2.plugins.feature_table.actions as feature_table_actions\n",
    "\n",
    "feature_table_0_summ_viz, = feature_table_actions.summarize(\n",
    "    table=feature_table_0,\n",
    "    sample_metadata=sample_metadata_md,)\n",
    "\n",
    "asv_sequences_0_summ_viz, = feature_table_actions.tabulate_seqs(\n",
    "    data=asv_sequences_0,)"
   ]
  },
  {
   "cell_type": "code",
   "execution_count": null,
   "id": "546cb5aa",
   "metadata": {},
   "outputs": [],
   "source": []
  },
  {
   "cell_type": "code",
   "execution_count": null,
   "id": "3b112608",
   "metadata": {},
   "outputs": [],
   "source": [
    "#Filter\n",
    "#jupyter serverextension enable --py qiime2 --sys-prefix needed fro visualization"
   ]
  },
  {
   "cell_type": "code",
   "execution_count": 14,
   "id": "50314ddb",
   "metadata": {},
   "outputs": [],
   "source": [
    "url = 'https://docs.qiime2.org/jupyterbooks/cancer-microbiome-intervention-tutorial/data/030-tutorial-downstream/010-filtering/feature-table.qza'\n",
    "fn = 'feature-table.qza'\n",
    "request.urlretrieve(url, fn)\n",
    "feature_table = Artifact.load(fn)"
   ]
  },
  {
   "cell_type": "code",
   "execution_count": 15,
   "id": "163fa903",
   "metadata": {},
   "outputs": [],
   "source": [
    "url = 'https://docs.qiime2.org/jupyterbooks/cancer-microbiome-intervention-tutorial/data/030-tutorial-downstream/010-filtering/rep-seqs.qza'\n",
    "fn = 'rep-seqs.qza'\n",
    "request.urlretrieve(url, fn)\n",
    "rep_seqs = Artifact.load(fn)"
   ]
  },
  {
   "cell_type": "code",
   "execution_count": 27,
   "id": "bb891c18",
   "metadata": {},
   "outputs": [],
   "source": [
    "table_viz, = feature_table_actions.summarize(\n",
    "    table=feature_table,\n",
    "    sample_metadata=sample_metadata_md,)\n",
    "table_viz.save('table.qzv')\n",
    "\n",
    "rep_seqs_viz, = feature_table_actions.tabulate_seqs(\n",
    "    data=rep_seqs,)\n",
    "rep_seqs_viz.save('resp_seqs.qzv')"
   ]
  },
  {
   "cell_type": "code",
   "execution_count": 11,
   "id": "5cf467be",
   "metadata": {
    "collapsed": true
   },
   "outputs": [
    {
     "data": {
      "text/html": [
       "<div><img onload=\"(function(div, url){\n",
       "if (typeof require !== 'undefined') {\n",
       "    var baseURL = require.toUrl('').split('/').slice(0, -2).join('/');\n",
       "} else {\n",
       "    var baseURL = JSON.parse(\n",
       "        document.getElementById('jupyter-config-data').innerHTML\n",
       "    ).baseUrl.slice(0, -1);\n",
       "}\n",
       "url = baseURL + url;\n",
       "fetch(url).then(function(res) {\n",
       "    if (res.status === 404) {\n",
       "        div.innerHTML = 'Install QIIME 2 Jupyter extension with:<br />' +\n",
       "                        '<code>jupyter serverextension enable --py qiime2' +\n",
       "                        ' --sys-prefix</code><br />then restart your server.' +\n",
       "                        '<br /><br />(Interactive output not available on ' +\n",
       "                        'static notebook viewer services like nbviewer.)';\n",
       "    } else if (res.status === 409) {\n",
       "        div.innerHTML = 'Visualization no longer in scope. Re-run this cell' +\n",
       "                        ' to see the visualization.';\n",
       "    } else if (res.ok) {\n",
       "        url = res.url;\n",
       "        div.innerHTML = '<iframe src=\\'' + url + '\\' style=\\'' +\n",
       "                        'width: 100%; height: 700px; border: 0;\\'>' +\n",
       "                        '</iframe><hr />Open in a: <a href=\\'' + url + '\\'' +\n",
       "                        ' target=\\'_blank\\'>new window</a>'\n",
       "    } else {\n",
       "        div.innerHTML = 'Something has gone wrong. Check notebook server for' +\n",
       "                        ' errors.';\n",
       "    }\n",
       "});\n",
       "})(this.parentElement, '/qiime2/redirect?location=/var/folders/hq/mt_9wjp90cx45qsgnk3d7qfc0000gq/T/qiime2/reziw3/data/b0c159a8-df76-4fd4-9f8d-46d96c5abe8c')\" src=\"data:image/gif;base64,R0lGODlhAQABAIAAAP///wAAACH5BAEAAAAALAAAAAABAAEAAAICRAEAOw==\" /></div>"
      ],
      "text/plain": [
       "<visualization: Visualization uuid: b0c159a8-df76-4fd4-9f8d-46d96c5abe8c>"
      ]
     },
     "execution_count": 11,
     "metadata": {},
     "output_type": "execute_result"
    }
   ],
   "source": [
    "table_viz"
   ]
  },
  {
   "cell_type": "code",
   "execution_count": 15,
   "id": "37d26736",
   "metadata": {
    "collapsed": true
   },
   "outputs": [
    {
     "data": {
      "text/html": [
       "<div><img onload=\"(function(div, url){\n",
       "if (typeof require !== 'undefined') {\n",
       "    var baseURL = require.toUrl('').split('/').slice(0, -2).join('/');\n",
       "} else {\n",
       "    var baseURL = JSON.parse(\n",
       "        document.getElementById('jupyter-config-data').innerHTML\n",
       "    ).baseUrl.slice(0, -1);\n",
       "}\n",
       "url = baseURL + url;\n",
       "fetch(url).then(function(res) {\n",
       "    if (res.status === 404) {\n",
       "        div.innerHTML = 'Install QIIME 2 Jupyter extension with:<br />' +\n",
       "                        '<code>jupyter serverextension enable --py qiime2' +\n",
       "                        ' --sys-prefix</code><br />then restart your server.' +\n",
       "                        '<br /><br />(Interactive output not available on ' +\n",
       "                        'static notebook viewer services like nbviewer.)';\n",
       "    } else if (res.status === 409) {\n",
       "        div.innerHTML = 'Visualization no longer in scope. Re-run this cell' +\n",
       "                        ' to see the visualization.';\n",
       "    } else if (res.ok) {\n",
       "        url = res.url;\n",
       "        div.innerHTML = '<iframe src=\\'' + url + '\\' style=\\'' +\n",
       "                        'width: 100%; height: 700px; border: 0;\\'>' +\n",
       "                        '</iframe><hr />Open in a: <a href=\\'' + url + '\\'' +\n",
       "                        ' target=\\'_blank\\'>new window</a>'\n",
       "    } else {\n",
       "        div.innerHTML = 'Something has gone wrong. Check notebook server for' +\n",
       "                        ' errors.';\n",
       "    }\n",
       "});\n",
       "})(this.parentElement, '/qiime2/redirect?location=/var/folders/hq/mt_9wjp90cx45qsgnk3d7qfc0000gq/T/qiime2/reziw3/data/509f7752-0f06-438b-b997-7f15968c06e7')\" src=\"data:image/gif;base64,R0lGODlhAQABAIAAAP///wAAACH5BAEAAAAALAAAAAABAAEAAAICRAEAOw==\" /></div>"
      ],
      "text/plain": [
       "<visualization: Visualization uuid: 509f7752-0f06-438b-b997-7f15968c06e7>"
      ]
     },
     "execution_count": 15,
     "metadata": {},
     "output_type": "execute_result"
    }
   ],
   "source": [
    "rep_seqs_viz"
   ]
  },
  {
   "cell_type": "code",
   "execution_count": 16,
   "id": "36c36ec1",
   "metadata": {},
   "outputs": [],
   "source": [
    "autofmt_table, = feature_table_actions.filter_samples(\n",
    "    table=feature_table,\n",
    "    metadata=sample_metadata_md,\n",
    "    where='autoFmtGroup IS NOT NULL',)"
   ]
  },
  {
   "cell_type": "code",
   "execution_count": 17,
   "id": "b49af9f1",
   "metadata": {},
   "outputs": [
    {
     "data": {
      "text/plain": [
       "'autofmt-table.qza'"
      ]
     },
     "execution_count": 17,
     "metadata": {},
     "output_type": "execute_result"
    }
   ],
   "source": [
    "autofmt_table.save('autofmt-table.qza')"
   ]
  },
  {
   "cell_type": "code",
   "execution_count": 18,
   "id": "d0bd95fb",
   "metadata": {},
   "outputs": [],
   "source": [
    "autofmt_table_summ_viz, = feature_table_actions.summarize(\n",
    "    table=autofmt_table,\n",
    "    sample_metadata=sample_metadata_md,)"
   ]
  },
  {
   "cell_type": "code",
   "execution_count": 19,
   "id": "a52005a5",
   "metadata": {},
   "outputs": [
    {
     "data": {
      "text/plain": [
       "'autofmt-table-summ.qzv'"
      ]
     },
     "execution_count": 19,
     "metadata": {},
     "output_type": "execute_result"
    }
   ],
   "source": [
    "autofmt_table_summ_viz.save('autofmt-table-summ.qzv')"
   ]
  },
  {
   "cell_type": "code",
   "execution_count": 20,
   "id": "bf03db78",
   "metadata": {
    "collapsed": true
   },
   "outputs": [
    {
     "data": {
      "text/html": [
       "<div><img onload=\"(function(div, url){\n",
       "if (typeof require !== 'undefined') {\n",
       "    var baseURL = require.toUrl('').split('/').slice(0, -2).join('/');\n",
       "} else {\n",
       "    var baseURL = JSON.parse(\n",
       "        document.getElementById('jupyter-config-data').innerHTML\n",
       "    ).baseUrl.slice(0, -1);\n",
       "}\n",
       "url = baseURL + url;\n",
       "fetch(url).then(function(res) {\n",
       "    if (res.status === 404) {\n",
       "        div.innerHTML = 'Install QIIME 2 Jupyter extension with:<br />' +\n",
       "                        '<code>jupyter serverextension enable --py qiime2' +\n",
       "                        ' --sys-prefix</code><br />then restart your server.' +\n",
       "                        '<br /><br />(Interactive output not available on ' +\n",
       "                        'static notebook viewer services like nbviewer.)';\n",
       "    } else if (res.status === 409) {\n",
       "        div.innerHTML = 'Visualization no longer in scope. Re-run this cell' +\n",
       "                        ' to see the visualization.';\n",
       "    } else if (res.ok) {\n",
       "        url = res.url;\n",
       "        div.innerHTML = '<iframe src=\\'' + url + '\\' style=\\'' +\n",
       "                        'width: 100%; height: 700px; border: 0;\\'>' +\n",
       "                        '</iframe><hr />Open in a: <a href=\\'' + url + '\\'' +\n",
       "                        ' target=\\'_blank\\'>new window</a>'\n",
       "    } else {\n",
       "        div.innerHTML = 'Something has gone wrong. Check notebook server for' +\n",
       "                        ' errors.';\n",
       "    }\n",
       "});\n",
       "})(this.parentElement, '/qiime2/redirect?location=/var/folders/hq/mt_9wjp90cx45qsgnk3d7qfc0000gq/T/qiime2/reziw3/data/13642732-6850-400d-8669-c6cc88641c90')\" src=\"data:image/gif;base64,R0lGODlhAQABAIAAAP///wAAACH5BAEAAAAALAAAAAABAAEAAAICRAEAOw==\" /></div>"
      ],
      "text/plain": [
       "<visualization: Visualization uuid: 13642732-6850-400d-8669-c6cc88641c90>"
      ]
     },
     "execution_count": 20,
     "metadata": {},
     "output_type": "execute_result"
    }
   ],
   "source": [
    "autofmt_table_summ_viz"
   ]
  },
  {
   "cell_type": "code",
   "execution_count": 21,
   "id": "57fb32ee",
   "metadata": {},
   "outputs": [],
   "source": [
    "filtered_table_1, = feature_table_actions.filter_samples(\n",
    "    table=autofmt_table,\n",
    "    metadata=sample_metadata_md,\n",
    "    where='DayRelativeToNearestHCT BETWEEN -10 AND 70',)"
   ]
  },
  {
   "cell_type": "code",
   "execution_count": 22,
   "id": "347bbe73",
   "metadata": {},
   "outputs": [
    {
     "data": {
      "text/plain": [
       "'filtered_table_1.qza'"
      ]
     },
     "execution_count": 22,
     "metadata": {},
     "output_type": "execute_result"
    }
   ],
   "source": [
    "filtered_table_1.save('filtered_table_1.qza')"
   ]
  },
  {
   "cell_type": "code",
   "execution_count": 23,
   "id": "359216c3",
   "metadata": {},
   "outputs": [],
   "source": [
    "filtered_table_2, = feature_table_actions.filter_features(\n",
    "    table=filtered_table_1,\n",
    "    min_samples=2,)"
   ]
  },
  {
   "cell_type": "code",
   "execution_count": 24,
   "id": "301f5c93",
   "metadata": {},
   "outputs": [
    {
     "data": {
      "text/plain": [
       "'filtered_table_2.qza'"
      ]
     },
     "execution_count": 24,
     "metadata": {},
     "output_type": "execute_result"
    }
   ],
   "source": [
    "filtered_table_2.save('filtered_table_2.qza')"
   ]
  },
  {
   "cell_type": "code",
   "execution_count": 25,
   "id": "081dcf88",
   "metadata": {},
   "outputs": [
    {
     "name": "stderr",
     "output_type": "stream",
     "text": [
      "/opt/miniconda3/envs/qiime2a/lib/python3.8/site-packages/q2_types/feature_data/_transformer.py:258: FutureWarning: iteritems is deprecated and will be removed in a future version. Use .items instead.\n",
      "  for id_, seq in data.iteritems():\n"
     ]
    }
   ],
   "source": [
    "filtered_sequences_1, = feature_table_actions.filter_seqs(\n",
    "    data=rep_seqs,\n",
    "    table=filtered_table_2,)"
   ]
  },
  {
   "cell_type": "code",
   "execution_count": 26,
   "id": "d4243d8b",
   "metadata": {},
   "outputs": [
    {
     "data": {
      "text/plain": [
       "'filtered_sequences_1.qza'"
      ]
     },
     "execution_count": 26,
     "metadata": {},
     "output_type": "execute_result"
    }
   ],
   "source": [
    "filtered_sequences_1.save('filtered_sequences_1.qza')"
   ]
  },
  {
   "cell_type": "code",
   "execution_count": null,
   "id": "910545d5",
   "metadata": {},
   "outputs": [],
   "source": []
  },
  {
   "cell_type": "code",
   "execution_count": null,
   "id": "aa873e9f",
   "metadata": {},
   "outputs": [],
   "source": []
  },
  {
   "cell_type": "code",
   "execution_count": null,
   "id": "6fd67c0d",
   "metadata": {},
   "outputs": [],
   "source": []
  }
 ],
 "metadata": {
  "kernelspec": {
   "display_name": "Python 3 (ipykernel)",
   "language": "python",
   "name": "python3"
  },
  "language_info": {
   "codemirror_mode": {
    "name": "ipython",
    "version": 3
   },
   "file_extension": ".py",
   "mimetype": "text/x-python",
   "name": "python",
   "nbconvert_exporter": "python",
   "pygments_lexer": "ipython3",
   "version": "3.8.18"
  }
 },
 "nbformat": 4,
 "nbformat_minor": 5
}
