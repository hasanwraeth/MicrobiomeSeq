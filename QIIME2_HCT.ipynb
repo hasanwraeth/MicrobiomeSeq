{
 "cells": [
  {
   "cell_type": "code",
   "execution_count": null,
   "id": "81232a92",
   "metadata": {},
   "outputs": [],
   "source": [
    "#Metadata"
   ]
  },
  {
   "cell_type": "code",
   "execution_count": 2,
   "id": "fc400d67-ab9d-42ce-94d1-cd5eb0bf8ca6",
   "metadata": {},
   "outputs": [],
   "source": [
    "from qiime2 import Metadata\n",
    "from urllib import request\n",
    "\n",
    "url = 'https://docs.qiime2.org/jupyterbooks/cancer-microbiome-intervention-tutorial/data/020-tutorial-upstream/020-metadata/sample-metadata.tsv'\n",
    "fn = 'sample-metadata.tsv'\n",
    "request.urlretrieve(url, fn)\n",
    "sample_metadata_md = Metadata.load(fn)"
   ]
  },
  {
   "cell_type": "code",
   "execution_count": null,
   "id": "11378047",
   "metadata": {},
   "outputs": [],
   "source": [
    "import qiime2.plugins.metadata.actions as metadata_actions\n",
    "\n",
    "metadata_summ_1_viz, = metadata_actions.tabulate(input=sample_metadata_md,)"
   ]
  },
  {
   "cell_type": "code",
   "execution_count": null,
   "id": "5b4ab776",
   "metadata": {},
   "outputs": [],
   "source": []
  },
  {
   "cell_type": "code",
   "execution_count": 6,
   "id": "213bc632",
   "metadata": {},
   "outputs": [],
   "source": [
    "#Demultiplex"
   ]
  },
  {
   "cell_type": "code",
   "execution_count": null,
   "id": "3b897c4a",
   "metadata": {},
   "outputs": [],
   "source": [
    "import zipfile\n",
    "\n",
    "url = 'https://docs.qiime2.org/jupyterbooks/cancer-microbiome-intervention-tutorial/data/020-tutorial-upstream/030-importing/data_to_import.zip'\n",
    "fn = 'data_to_import.zip'\n",
    "request.urlretrieve(url, fn)\n",
    "with zipfile.ZipFile(fn) as zf:\n",
    "    zf.extractall('data_to_import')"
   ]
  },
  {
   "cell_type": "code",
   "execution_count": null,
   "id": "3d897e87",
   "metadata": {},
   "outputs": [],
   "source": [
    "from q2_types.per_sample_sequences import CasavaOneEightSingleLanePerSampleDirFmt\n",
    "from qiime2 import Artifact\n",
    "\n",
    "demultiplexed_sequences = Artifact.import_data(\n",
    "    'SampleData[PairedEndSequencesWithQuality]',\n",
    "    'data_to_import',\n",
    "    CasavaOneEightSingleLanePerSampleDirFmt,)"
   ]
  },
  {
   "cell_type": "code",
   "execution_count": null,
   "id": "7b4d5e20",
   "metadata": {},
   "outputs": [],
   "source": [
    "import qiime2.plugins.demux.actions as demux_actions\n",
    "\n",
    "demultiplexed_sequences_summ_viz, = demux_actions.summarize(\n",
    "    data=demultiplexed_sequences,)"
   ]
  },
  {
   "cell_type": "code",
   "execution_count": null,
   "id": "e7ac98f7",
   "metadata": {},
   "outputs": [],
   "source": []
  },
  {
   "cell_type": "code",
   "execution_count": null,
   "id": "3c0c41b9",
   "metadata": {},
   "outputs": [],
   "source": [
    "#Denoise"
   ]
  },
  {
   "cell_type": "code",
   "execution_count": null,
   "id": "9e9eff5a",
   "metadata": {},
   "outputs": [],
   "source": [
    "import qiime2.plugins.dada2.actions as dada2_actions\n",
    "\n",
    "feature_table_0, asv_sequences_0, dada2_stats = dada2_actions.denoise_paired(\n",
    "    demultiplexed_seqs=demultiplexed_sequences,\n",
    "    trunc_len_f=204,\n",
    "    trim_left_r=1,\n",
    "    trunc_len_r=205,)"
   ]
  },
  {
   "cell_type": "code",
   "execution_count": null,
   "id": "c992eb4f",
   "metadata": {},
   "outputs": [],
   "source": [
    "stats_dada2_md_md = dada2_stats.view(Metadata)\n",
    "dada2_stats_summ_viz, = metadata_actions.tabulate(\n",
    "    input=stats_dada2_md_md,)"
   ]
  },
  {
   "cell_type": "code",
   "execution_count": 8,
   "id": "12e3740e",
   "metadata": {},
   "outputs": [],
   "source": [
    "import qiime2.plugins.feature_table.actions as feature_table_actions\n",
    "\n",
    "feature_table_0_summ_viz, = feature_table_actions.summarize(\n",
    "    table=feature_table_0,\n",
    "    sample_metadata=sample_metadata_md,)\n",
    "\n",
    "asv_sequences_0_summ_viz, = feature_table_actions.tabulate_seqs(\n",
    "    data=asv_sequences_0,)"
   ]
  },
  {
   "cell_type": "code",
   "execution_count": null,
   "id": "546cb5aa",
   "metadata": {},
   "outputs": [],
   "source": []
  },
  {
   "cell_type": "code",
   "execution_count": null,
   "id": "3b112608",
   "metadata": {},
   "outputs": [],
   "source": [
    "#Filter\n",
    "#jupyter serverextension enable --py qiime2 --sys-prefix needed fro visualization"
   ]
  },
  {
   "cell_type": "code",
   "execution_count": 14,
   "id": "50314ddb",
   "metadata": {},
   "outputs": [],
   "source": [
    "url = 'https://docs.qiime2.org/jupyterbooks/cancer-microbiome-intervention-tutorial/data/030-tutorial-downstream/010-filtering/feature-table.qza'\n",
    "fn = 'feature-table.qza'\n",
    "request.urlretrieve(url, fn)\n",
    "feature_table = Artifact.load(fn)"
   ]
  },
  {
   "cell_type": "code",
   "execution_count": 15,
   "id": "163fa903",
   "metadata": {},
   "outputs": [],
   "source": [
    "url = 'https://docs.qiime2.org/jupyterbooks/cancer-microbiome-intervention-tutorial/data/030-tutorial-downstream/010-filtering/rep-seqs.qza'\n",
    "fn = 'rep-seqs.qza'\n",
    "request.urlretrieve(url, fn)\n",
    "rep_seqs = Artifact.load(fn)"
   ]
  },
  {
   "cell_type": "code",
   "execution_count": 27,
   "id": "bb891c18",
   "metadata": {},
   "outputs": [],
   "source": [
    "table_viz, = feature_table_actions.summarize(\n",
    "    table=feature_table,\n",
    "    sample_metadata=sample_metadata_md,)\n",
    "table_viz.save('table.qzv')\n",
    "\n",
    "rep_seqs_viz, = feature_table_actions.tabulate_seqs(\n",
    "    data=rep_seqs,)\n",
    "rep_seqs_viz.save('resp_seqs.qzv')"
   ]
  },
  {
   "cell_type": "code",
   "execution_count": 11,
   "id": "5cf467be",
   "metadata": {
    "collapsed": true
   },
   "outputs": [
    {
     "data": {
      "text/html": [
       "<div><img onload=\"(function(div, url){\n",
       "if (typeof require !== 'undefined') {\n",
       "    var baseURL = require.toUrl('').split('/').slice(0, -2).join('/');\n",
       "} else {\n",
       "    var baseURL = JSON.parse(\n",
       "        document.getElementById('jupyter-config-data').innerHTML\n",
       "    ).baseUrl.slice(0, -1);\n",
       "}\n",
       "url = baseURL + url;\n",
       "fetch(url).then(function(res) {\n",
       "    if (res.status === 404) {\n",
       "        div.innerHTML = 'Install QIIME 2 Jupyter extension with:<br />' +\n",
       "                        '<code>jupyter serverextension enable --py qiime2' +\n",
       "                        ' --sys-prefix</code><br />then restart your server.' +\n",
       "                        '<br /><br />(Interactive output not available on ' +\n",
       "                        'static notebook viewer services like nbviewer.)';\n",
       "    } else if (res.status === 409) {\n",
       "        div.innerHTML = 'Visualization no longer in scope. Re-run this cell' +\n",
       "                        ' to see the visualization.';\n",
       "    } else if (res.ok) {\n",
       "        url = res.url;\n",
       "        div.innerHTML = '<iframe src=\\'' + url + '\\' style=\\'' +\n",
       "                        'width: 100%; height: 700px; border: 0;\\'>' +\n",
       "                        '</iframe><hr />Open in a: <a href=\\'' + url + '\\'' +\n",
       "                        ' target=\\'_blank\\'>new window</a>'\n",
       "    } else {\n",
       "        div.innerHTML = 'Something has gone wrong. Check notebook server for' +\n",
       "                        ' errors.';\n",
       "    }\n",
       "});\n",
       "})(this.parentElement, '/qiime2/redirect?location=/var/folders/hq/mt_9wjp90cx45qsgnk3d7qfc0000gq/T/qiime2/reziw3/data/b0c159a8-df76-4fd4-9f8d-46d96c5abe8c')\" src=\"data:image/gif;base64,R0lGODlhAQABAIAAAP///wAAACH5BAEAAAAALAAAAAABAAEAAAICRAEAOw==\" /></div>"
      ],
      "text/plain": [
       "<visualization: Visualization uuid: b0c159a8-df76-4fd4-9f8d-46d96c5abe8c>"
      ]
     },
     "execution_count": 11,
     "metadata": {},
     "output_type": "execute_result"
    }
   ],
   "source": [
    "table_viz"
   ]
  },
  {
   "cell_type": "code",
   "execution_count": 15,
   "id": "37d26736",
   "metadata": {
    "collapsed": true
   },
   "outputs": [
    {
     "data": {
      "text/html": [
       "<div><img onload=\"(function(div, url){\n",
       "if (typeof require !== 'undefined') {\n",
       "    var baseURL = require.toUrl('').split('/').slice(0, -2).join('/');\n",
       "} else {\n",
       "    var baseURL = JSON.parse(\n",
       "        document.getElementById('jupyter-config-data').innerHTML\n",
       "    ).baseUrl.slice(0, -1);\n",
       "}\n",
       "url = baseURL + url;\n",
       "fetch(url).then(function(res) {\n",
       "    if (res.status === 404) {\n",
       "        div.innerHTML = 'Install QIIME 2 Jupyter extension with:<br />' +\n",
       "                        '<code>jupyter serverextension enable --py qiime2' +\n",
       "                        ' --sys-prefix</code><br />then restart your server.' +\n",
       "                        '<br /><br />(Interactive output not available on ' +\n",
       "                        'static notebook viewer services like nbviewer.)';\n",
       "    } else if (res.status === 409) {\n",
       "        div.innerHTML = 'Visualization no longer in scope. Re-run this cell' +\n",
       "                        ' to see the visualization.';\n",
       "    } else if (res.ok) {\n",
       "        url = res.url;\n",
       "        div.innerHTML = '<iframe src=\\'' + url + '\\' style=\\'' +\n",
       "                        'width: 100%; height: 700px; border: 0;\\'>' +\n",
       "                        '</iframe><hr />Open in a: <a href=\\'' + url + '\\'' +\n",
       "                        ' target=\\'_blank\\'>new window</a>'\n",
       "    } else {\n",
       "        div.innerHTML = 'Something has gone wrong. Check notebook server for' +\n",
       "                        ' errors.';\n",
       "    }\n",
       "});\n",
       "})(this.parentElement, '/qiime2/redirect?location=/var/folders/hq/mt_9wjp90cx45qsgnk3d7qfc0000gq/T/qiime2/reziw3/data/509f7752-0f06-438b-b997-7f15968c06e7')\" src=\"data:image/gif;base64,R0lGODlhAQABAIAAAP///wAAACH5BAEAAAAALAAAAAABAAEAAAICRAEAOw==\" /></div>"
      ],
      "text/plain": [
       "<visualization: Visualization uuid: 509f7752-0f06-438b-b997-7f15968c06e7>"
      ]
     },
     "execution_count": 15,
     "metadata": {},
     "output_type": "execute_result"
    }
   ],
   "source": [
    "rep_seqs_viz"
   ]
  },
  {
   "cell_type": "code",
   "execution_count": 16,
   "id": "c845ade9",
   "metadata": {},
   "outputs": [],
   "source": [
    "autofmt_table, = feature_table_actions.filter_samples(\n",
    "    table=feature_table,\n",
    "    metadata=sample_metadata_md,\n",
    "    where='autoFmtGroup IS NOT NULL',)"
   ]
  },
  {
   "cell_type": "code",
   "execution_count": 17,
   "id": "dfa92700",
   "metadata": {},
   "outputs": [
    {
     "data": {
      "text/plain": [
       "'autofmt-table.qza'"
      ]
     },
     "execution_count": 17,
     "metadata": {},
     "output_type": "execute_result"
    }
   ],
   "source": [
    "autofmt_table.save('autofmt-table.qza')"
   ]
  },
  {
   "cell_type": "code",
   "execution_count": 18,
   "id": "b93cd55a",
   "metadata": {},
   "outputs": [],
   "source": [
    "autofmt_table_summ_viz, = feature_table_actions.summarize(\n",
    "    table=autofmt_table,\n",
    "    sample_metadata=sample_metadata_md,)"
   ]
  },
  {
   "cell_type": "code",
   "execution_count": 19,
   "id": "7c59e1ad",
   "metadata": {},
   "outputs": [
    {
     "data": {
      "text/plain": [
       "'autofmt-table-summ.qzv'"
      ]
     },
     "execution_count": 19,
     "metadata": {},
     "output_type": "execute_result"
    }
   ],
   "source": [
    "autofmt_table_summ_viz.save('autofmt-table-summ.qzv')"
   ]
  },
  {
   "cell_type": "code",
   "execution_count": 20,
   "id": "4456ca95",
   "metadata": {
    "collapsed": true
   },
   "outputs": [
    {
     "data": {
      "text/html": [
       "<div><img onload=\"(function(div, url){\n",
       "if (typeof require !== 'undefined') {\n",
       "    var baseURL = require.toUrl('').split('/').slice(0, -2).join('/');\n",
       "} else {\n",
       "    var baseURL = JSON.parse(\n",
       "        document.getElementById('jupyter-config-data').innerHTML\n",
       "    ).baseUrl.slice(0, -1);\n",
       "}\n",
       "url = baseURL + url;\n",
       "fetch(url).then(function(res) {\n",
       "    if (res.status === 404) {\n",
       "        div.innerHTML = 'Install QIIME 2 Jupyter extension with:<br />' +\n",
       "                        '<code>jupyter serverextension enable --py qiime2' +\n",
       "                        ' --sys-prefix</code><br />then restart your server.' +\n",
       "                        '<br /><br />(Interactive output not available on ' +\n",
       "                        'static notebook viewer services like nbviewer.)';\n",
       "    } else if (res.status === 409) {\n",
       "        div.innerHTML = 'Visualization no longer in scope. Re-run this cell' +\n",
       "                        ' to see the visualization.';\n",
       "    } else if (res.ok) {\n",
       "        url = res.url;\n",
       "        div.innerHTML = '<iframe src=\\'' + url + '\\' style=\\'' +\n",
       "                        'width: 100%; height: 700px; border: 0;\\'>' +\n",
       "                        '</iframe><hr />Open in a: <a href=\\'' + url + '\\'' +\n",
       "                        ' target=\\'_blank\\'>new window</a>'\n",
       "    } else {\n",
       "        div.innerHTML = 'Something has gone wrong. Check notebook server for' +\n",
       "                        ' errors.';\n",
       "    }\n",
       "});\n",
       "})(this.parentElement, '/qiime2/redirect?location=/var/folders/hq/mt_9wjp90cx45qsgnk3d7qfc0000gq/T/qiime2/reziw3/data/13642732-6850-400d-8669-c6cc88641c90')\" src=\"data:image/gif;base64,R0lGODlhAQABAIAAAP///wAAACH5BAEAAAAALAAAAAABAAEAAAICRAEAOw==\" /></div>"
      ],
      "text/plain": [
       "<visualization: Visualization uuid: 13642732-6850-400d-8669-c6cc88641c90>"
      ]
     },
     "execution_count": 20,
     "metadata": {},
     "output_type": "execute_result"
    }
   ],
   "source": [
    "autofmt_table_summ_viz"
   ]
  },
  {
   "cell_type": "code",
   "execution_count": 21,
   "id": "144ffaa0",
   "metadata": {},
   "outputs": [],
   "source": [
    "filtered_table_1, = feature_table_actions.filter_samples(\n",
    "    table=autofmt_table,\n",
    "    metadata=sample_metadata_md,\n",
    "    where='DayRelativeToNearestHCT BETWEEN -10 AND 70',)"
   ]
  },
  {
   "cell_type": "code",
   "execution_count": 22,
   "id": "ddc7b4e9",
   "metadata": {},
   "outputs": [
    {
     "data": {
      "text/plain": [
       "'filtered_table_1.qza'"
      ]
     },
     "execution_count": 22,
     "metadata": {},
     "output_type": "execute_result"
    }
   ],
   "source": [
    "filtered_table_1.save('filtered_table_1.qza')"
   ]
  },
  {
   "cell_type": "code",
   "execution_count": 23,
   "id": "1461e8fc",
   "metadata": {},
   "outputs": [],
   "source": [
    "filtered_table_2, = feature_table_actions.filter_features(\n",
    "    table=filtered_table_1,\n",
    "    min_samples=2,)"
   ]
  },
  {
   "cell_type": "code",
   "execution_count": 24,
   "id": "3da341bf",
   "metadata": {},
   "outputs": [
    {
     "data": {
      "text/plain": [
       "'filtered_table_2.qza'"
      ]
     },
     "execution_count": 24,
     "metadata": {},
     "output_type": "execute_result"
    }
   ],
   "source": [
    "filtered_table_2.save('filtered_table_2.qza')"
   ]
  },
  {
   "cell_type": "code",
   "execution_count": 25,
   "id": "134bf954",
   "metadata": {},
   "outputs": [
    {
     "name": "stderr",
     "output_type": "stream",
     "text": [
      "/opt/miniconda3/envs/qiime2a/lib/python3.8/site-packages/q2_types/feature_data/_transformer.py:258: FutureWarning: iteritems is deprecated and will be removed in a future version. Use .items instead.\n",
      "  for id_, seq in data.iteritems():\n"
     ]
    }
   ],
   "source": [
    "filtered_sequences_1, = feature_table_actions.filter_seqs(\n",
    "    data=rep_seqs,\n",
    "    table=filtered_table_2,)"
   ]
  },
  {
   "cell_type": "code",
   "execution_count": 26,
   "id": "88e1259e",
   "metadata": {},
   "outputs": [
    {
     "data": {
      "text/plain": [
       "'filtered_sequences_1.qza'"
      ]
     },
     "execution_count": 26,
     "metadata": {},
     "output_type": "execute_result"
    }
   ],
   "source": [
    "filtered_sequences_1.save('filtered_sequences_1.qza')"
   ]
  },
  {
   "cell_type": "code",
   "execution_count": null,
   "id": "086154e3",
   "metadata": {},
   "outputs": [],
   "source": []
  },
  {
   "cell_type": "code",
   "execution_count": null,
   "id": "a2d108a9",
   "metadata": {},
   "outputs": [],
   "source": [
    "#Taxonomy"
   ]
  },
  {
   "cell_type": "code",
   "execution_count": 27,
   "id": "c840fcc3",
   "metadata": {},
   "outputs": [],
   "source": [
    "url = 'https://docs.qiime2.org/jupyterbooks/cancer-microbiome-intervention-tutorial/data/030-tutorial-downstream/020-taxonomy/gg-13-8-99-nb-classifier.qza'\n",
    "fn = 'gg-13-8-99-nb-classifier.qza'\n",
    "request.urlretrieve(url, fn)\n",
    "gg_13_8_99_nb_classifier = Artifact.load(fn)"
   ]
  },
  {
   "cell_type": "code",
   "execution_count": 28,
   "id": "9285da13",
   "metadata": {},
   "outputs": [],
   "source": [
    "import qiime2.plugins.feature_classifier.actions as feature_classifier_actions\n",
    "\n",
    "taxonomy, = feature_classifier_actions.classify_sklearn(\n",
    "    classifier=gg_13_8_99_nb_classifier,\n",
    "    reads=filtered_sequences_1,)"
   ]
  },
  {
   "cell_type": "code",
   "execution_count": 29,
   "id": "e821ce34",
   "metadata": {},
   "outputs": [
    {
     "data": {
      "text/plain": [
       "'taxonomy.qza'"
      ]
     },
     "execution_count": 29,
     "metadata": {},
     "output_type": "execute_result"
    }
   ],
   "source": [
    "taxonomy.save('taxonomy.qza')"
   ]
  },
  {
   "cell_type": "code",
   "execution_count": 32,
   "id": "e278b0c1",
   "metadata": {},
   "outputs": [],
   "source": [
    "taxonomy_as_md_md = taxonomy.view(Metadata)\n",
    "taxonomy_viz, = metadata_actions.tabulate(\n",
    "    input=taxonomy_as_md_md,)"
   ]
  },
  {
   "cell_type": "code",
   "execution_count": 33,
   "id": "3c5926e2",
   "metadata": {},
   "outputs": [
    {
     "data": {
      "text/plain": [
       "'taxonomy.qzv'"
      ]
     },
     "execution_count": 33,
     "metadata": {},
     "output_type": "execute_result"
    }
   ],
   "source": [
    "taxonomy_viz.save('taxonomy.qzv')"
   ]
  },
  {
   "cell_type": "code",
   "execution_count": 35,
   "id": "0ea8461e",
   "metadata": {
    "collapsed": true
   },
   "outputs": [
    {
     "data": {
      "text/html": [
       "<div><img onload=\"(function(div, url){\n",
       "if (typeof require !== 'undefined') {\n",
       "    var baseURL = require.toUrl('').split('/').slice(0, -2).join('/');\n",
       "} else {\n",
       "    var baseURL = JSON.parse(\n",
       "        document.getElementById('jupyter-config-data').innerHTML\n",
       "    ).baseUrl.slice(0, -1);\n",
       "}\n",
       "url = baseURL + url;\n",
       "fetch(url).then(function(res) {\n",
       "    if (res.status === 404) {\n",
       "        div.innerHTML = 'Install QIIME 2 Jupyter extension with:<br />' +\n",
       "                        '<code>jupyter serverextension enable --py qiime2' +\n",
       "                        ' --sys-prefix</code><br />then restart your server.' +\n",
       "                        '<br /><br />(Interactive output not available on ' +\n",
       "                        'static notebook viewer services like nbviewer.)';\n",
       "    } else if (res.status === 409) {\n",
       "        div.innerHTML = 'Visualization no longer in scope. Re-run this cell' +\n",
       "                        ' to see the visualization.';\n",
       "    } else if (res.ok) {\n",
       "        url = res.url;\n",
       "        div.innerHTML = '<iframe src=\\'' + url + '\\' style=\\'' +\n",
       "                        'width: 100%; height: 700px; border: 0;\\'>' +\n",
       "                        '</iframe><hr />Open in a: <a href=\\'' + url + '\\'' +\n",
       "                        ' target=\\'_blank\\'>new window</a>'\n",
       "    } else {\n",
       "        div.innerHTML = 'Something has gone wrong. Check notebook server for' +\n",
       "                        ' errors.';\n",
       "    }\n",
       "});\n",
       "})(this.parentElement, '/qiime2/redirect?location=/var/folders/hq/mt_9wjp90cx45qsgnk3d7qfc0000gq/T/qiime2/reziw3/data/94ec8592-7f97-4807-bb30-6434f3d502ab')\" src=\"data:image/gif;base64,R0lGODlhAQABAIAAAP///wAAACH5BAEAAAAALAAAAAABAAEAAAICRAEAOw==\" /></div>"
      ],
      "text/plain": [
       "<visualization: Visualization uuid: 94ec8592-7f97-4807-bb30-6434f3d502ab>"
      ]
     },
     "execution_count": 35,
     "metadata": {},
     "output_type": "execute_result"
    }
   ],
   "source": [
    "taxonomy_viz"
   ]
  },
  {
   "cell_type": "code",
   "execution_count": 36,
   "id": "6cfe3da5",
   "metadata": {},
   "outputs": [],
   "source": [
    "import qiime2.plugins.taxa.actions as taxa_actions\n",
    "\n",
    "filtered_table_3, = taxa_actions.filter_table(\n",
    "    table=filtered_table_2,\n",
    "    taxonomy=taxonomy,\n",
    "    mode='contains',\n",
    "    include='p__',\n",
    "    exclude='p__;,Chloroplast,Mitochondria',)"
   ]
  },
  {
   "cell_type": "code",
   "execution_count": 37,
   "id": "481c241d",
   "metadata": {},
   "outputs": [
    {
     "data": {
      "text/plain": [
       "'filtered_table_3.qza'"
      ]
     },
     "execution_count": 37,
     "metadata": {},
     "output_type": "execute_result"
    }
   ],
   "source": [
    "filtered_table_3.save('filtered_table_3.qza')"
   ]
  },
  {
   "cell_type": "code",
   "execution_count": 38,
   "id": "08a49285",
   "metadata": {},
   "outputs": [],
   "source": [
    "filtered_table_4, = feature_table_actions.filter_samples(\n",
    "    table=filtered_table_3,\n",
    "    min_frequency=10000,)"
   ]
  },
  {
   "cell_type": "code",
   "execution_count": 39,
   "id": "319c5e63",
   "metadata": {},
   "outputs": [
    {
     "data": {
      "text/plain": [
       "'filtered_table_4.qza'"
      ]
     },
     "execution_count": 39,
     "metadata": {},
     "output_type": "execute_result"
    }
   ],
   "source": [
    "filtered_table_4.save('filtered_table_4.qza')"
   ]
  },
  {
   "cell_type": "code",
   "execution_count": 41,
   "id": "1e3d1edc",
   "metadata": {},
   "outputs": [
    {
     "name": "stderr",
     "output_type": "stream",
     "text": [
      "/opt/miniconda3/envs/qiime2a/lib/python3.8/site-packages/q2_types/feature_data/_transformer.py:258: FutureWarning: iteritems is deprecated and will be removed in a future version. Use .items instead.\n",
      "  for id_, seq in data.iteritems():\n"
     ]
    }
   ],
   "source": [
    "filtered_sequences_2, = feature_table_actions.filter_seqs(\n",
    "    data=rep_seqs,\n",
    "    table=filtered_table_4,)"
   ]
  },
  {
   "cell_type": "code",
   "execution_count": 42,
   "id": "1e0ada0d",
   "metadata": {},
   "outputs": [
    {
     "data": {
      "text/plain": [
       "'filtered_sequences_2.qza'"
      ]
     },
     "execution_count": 42,
     "metadata": {},
     "output_type": "execute_result"
    }
   ],
   "source": [
    "filtered_sequences_2.save('filtered_sequences_2.qza')"
   ]
  },
  {
   "cell_type": "code",
   "execution_count": 43,
   "id": "ac2595bd",
   "metadata": {},
   "outputs": [],
   "source": [
    "taxa_bar_plots_1_viz, = taxa_actions.barplot(\n",
    "    table=filtered_table_4,\n",
    "    taxonomy=taxonomy,\n",
    "    metadata=sample_metadata_md,)"
   ]
  },
  {
   "cell_type": "code",
   "execution_count": 44,
   "id": "d4919c8d",
   "metadata": {},
   "outputs": [
    {
     "data": {
      "text/plain": [
       "'taxa_bar_plots_1.qzv'"
      ]
     },
     "execution_count": 44,
     "metadata": {},
     "output_type": "execute_result"
    }
   ],
   "source": [
    "taxa_bar_plots_1_viz.save('taxa_bar_plots_1.qzv')"
   ]
  },
  {
   "cell_type": "code",
   "execution_count": 45,
   "id": "d2ce5807",
   "metadata": {
    "collapsed": true
   },
   "outputs": [
    {
     "data": {
      "text/html": [
       "<div><img onload=\"(function(div, url){\n",
       "if (typeof require !== 'undefined') {\n",
       "    var baseURL = require.toUrl('').split('/').slice(0, -2).join('/');\n",
       "} else {\n",
       "    var baseURL = JSON.parse(\n",
       "        document.getElementById('jupyter-config-data').innerHTML\n",
       "    ).baseUrl.slice(0, -1);\n",
       "}\n",
       "url = baseURL + url;\n",
       "fetch(url).then(function(res) {\n",
       "    if (res.status === 404) {\n",
       "        div.innerHTML = 'Install QIIME 2 Jupyter extension with:<br />' +\n",
       "                        '<code>jupyter serverextension enable --py qiime2' +\n",
       "                        ' --sys-prefix</code><br />then restart your server.' +\n",
       "                        '<br /><br />(Interactive output not available on ' +\n",
       "                        'static notebook viewer services like nbviewer.)';\n",
       "    } else if (res.status === 409) {\n",
       "        div.innerHTML = 'Visualization no longer in scope. Re-run this cell' +\n",
       "                        ' to see the visualization.';\n",
       "    } else if (res.ok) {\n",
       "        url = res.url;\n",
       "        div.innerHTML = '<iframe src=\\'' + url + '\\' style=\\'' +\n",
       "                        'width: 100%; height: 700px; border: 0;\\'>' +\n",
       "                        '</iframe><hr />Open in a: <a href=\\'' + url + '\\'' +\n",
       "                        ' target=\\'_blank\\'>new window</a>'\n",
       "    } else {\n",
       "        div.innerHTML = 'Something has gone wrong. Check notebook server for' +\n",
       "                        ' errors.';\n",
       "    }\n",
       "});\n",
       "})(this.parentElement, '/qiime2/redirect?location=/var/folders/hq/mt_9wjp90cx45qsgnk3d7qfc0000gq/T/qiime2/reziw3/data/228e9833-9db3-4fd2-92f0-8f8b974da723')\" src=\"data:image/gif;base64,R0lGODlhAQABAIAAAP///wAAACH5BAEAAAAALAAAAAABAAEAAAICRAEAOw==\" /></div>"
      ],
      "text/plain": [
       "<visualization: Visualization uuid: 228e9833-9db3-4fd2-92f0-8f8b974da723>"
      ]
     },
     "execution_count": 45,
     "metadata": {},
     "output_type": "execute_result"
    }
   ],
   "source": [
    "taxa_bar_plots_1_viz"
   ]
  },
  {
   "cell_type": "code",
   "execution_count": null,
   "id": "a8c8f7fd",
   "metadata": {},
   "outputs": [],
   "source": []
  },
  {
   "cell_type": "code",
   "execution_count": null,
   "id": "72157d46",
   "metadata": {},
   "outputs": [],
   "source": []
  },
  {
   "cell_type": "code",
   "execution_count": null,
   "id": "eacb662f",
   "metadata": {},
   "outputs": [],
   "source": [
    "#Phylogeny"
   ]
  },
  {
   "cell_type": "code",
   "execution_count": 46,
   "id": "31ab58c9",
   "metadata": {
    "collapsed": true
   },
   "outputs": [
    {
     "name": "stdout",
     "output_type": "stream",
     "text": [
      "Running external command line application. This may print messages to stdout and/or stderr.\n",
      "The command being run is below. This command cannot be manually re-run as it will depend on temporary files that no longer exist.\n",
      "\n",
      "Command: mafft --preservecase --inputorder --thread 1 /var/folders/hq/mt_9wjp90cx45qsgnk3d7qfc0000gq/T/qiime2/reziw3/data/4aa1fd46-786d-401d-b7d5-34c8792b3655/data/dna-sequences.fasta\n",
      "\n"
     ]
    },
    {
     "name": "stderr",
     "output_type": "stream",
     "text": [
      "inputfile = orig\n",
      "2429 x 340 - 321 d\n",
      "nthread = 1\n",
      "nthreadpair = 1\n",
      "nthreadtb = 1\n",
      "ppenalty_ex = 0\n",
      "stacksize: 8192 kb\n",
      "generating a scoring matrix for nucleotide (dist=200) ... done\n",
      "Gap Penalty = -1.53, +0.00, +0.00\n",
      "\n",
      "\n",
      "\n",
      "Making a distance matrix ..\n",
      " 2401 / 2429 (thread    0)\n",
      "done.\n",
      "\n",
      "Constructing a UPGMA tree (efffree=0) ... \n",
      " 2420 / 2429\n",
      "done.\n",
      "\n",
      "Progressive alignment 1/2... \n",
      "STEP  2301 / 2428 (thread    0)\n",
      "Reallocating..done. *alloclen = 1684\n",
      "STEP  2401 / 2428 (thread    0)\n",
      "done.\n",
      "\n",
      "Making a distance matrix from msa.. \n",
      " 2400 / 2429 (thread    0)\n",
      "done.\n",
      "\n",
      "Constructing a UPGMA tree (efffree=1) ... \n",
      " 2420 / 2429\n",
      "done.\n",
      "\n",
      "Progressive alignment 2/2... \n",
      "STEP  2301 / 2428 (thread    0)\n",
      "Reallocating..done. *alloclen = 1684\n",
      "STEP  2401 / 2428 (thread    0)\n",
      "done.\n",
      "\n",
      "disttbfast (nuc) Version 7.520\n",
      "alg=A, model=DNA200 (2), 1.53 (4.59), -0.00 (-0.00), noshift, amax=0.0\n",
      "1 thread(s)\n",
      "\n",
      "\n",
      "Strategy:\n",
      " FFT-NS-2 (Fast but rough)\n",
      " Progressive method (guide trees were built 2 times.)\n",
      "\n",
      "If unsure which option to use, try 'mafft --auto input > output'.\n",
      "For more information, see 'mafft --help', 'mafft --man' and the mafft page.\n",
      "\n",
      "The default gap scoring scheme has been changed in version 7.110 (2013 Oct).\n",
      "It tends to insert more gaps into gap-rich regions than previous versions.\n",
      "To disable this change, add the --leavegappyregion option.\n",
      "\n"
     ]
    },
    {
     "name": "stdout",
     "output_type": "stream",
     "text": [
      "Running external command line application. This may print messages to stdout and/or stderr.\n",
      "The command being run is below. This command cannot be manually re-run as it will depend on temporary files that no longer exist.\n",
      "\n",
      "Command: FastTree -quote -nt /var/folders/hq/mt_9wjp90cx45qsgnk3d7qfc0000gq/T/qiime2/reziw3/data/d829c65f-16c4-4e7c-afb6-b4dfb2b94e9c/data/aligned-dna-sequences.fasta\n",
      "\n"
     ]
    },
    {
     "name": "stderr",
     "output_type": "stream",
     "text": [
      "FastTree Version 2.1.11 Double precision (No SSE3)\n",
      "Alignment: /var/folders/hq/mt_9wjp90cx45qsgnk3d7qfc0000gq/T/qiime2/reziw3/data/d829c65f-16c4-4e7c-afb6-b4dfb2b94e9c/data/aligned-dna-sequences.fasta\n",
      "Nucleotide distances: Jukes-Cantor Joins: balanced Support: SH-like 1000\n",
      "Search: Normal +NNI +SPR (2 rounds range 10) +ML-NNI opt-each=1\n",
      "TopHits: 1.00*sqrtN close=default refresh=0.80\n",
      "ML Model: Jukes-Cantor, CAT approximation with 20 rate categories\n",
      "      0.10 seconds: Top hits for    916 of   2389 seqs (at seed    400)\n",
      "      0.20 seconds: Top hits for   1694 of   2389 seqs (at seed   1200)\n",
      "      0.30 seconds: Top hits for   2379 of   2389 seqs (at seed   2300)\n",
      "      0.47 seconds: Joined    200 of   2386\n",
      "      0.60 seconds: Joined    300 of   2386\n",
      "      0.77 seconds: Joined    500 of   2386\n",
      "      0.93 seconds: Joined    700 of   2386\n",
      "      1.07 seconds: Joined    900 of   2386\n",
      "      1.24 seconds: Joined   1100 of   2386\n",
      "      1.41 seconds: Joined   1300 of   2386\n",
      "      1.52 seconds: Joined   1400 of   2386\n",
      "      1.66 seconds: Joined   1600 of   2386\n",
      "      1.79 seconds: Joined   1800 of   2386\n",
      "      1.93 seconds: Joined   2100 of   2386\n",
      "      2.03 seconds: Joined   2300 of   2386\n",
      "Initial topology in 2.06 seconds\n",
      "Refining topology: 45 rounds ME-NNIs, 2 rounds ME-SPRs, 22 rounds ML-NNIs\n",
      "      2.14 seconds: ME NNI round 2 of 45, 1301 of 2387 splits, 150 changes (max delta 0.052)\n",
      "      2.24 seconds: ME NNI round 6 of 45, 301 of 2387 splits, 12 changes (max delta 0.002)\n",
      "      2.34 seconds: SPR round   1 of   2, 301 of 4776 nodes\n",
      "      2.47 seconds: SPR round   1 of   2, 701 of 4776 nodes\n",
      "      2.60 seconds: SPR round   1 of   2, 1101 of 4776 nodes\n",
      "      2.74 seconds: SPR round   1 of   2, 1501 of 4776 nodes\n",
      "      2.85 seconds: SPR round   1 of   2, 1801 of 4776 nodes\n",
      "      2.97 seconds: SPR round   1 of   2, 2201 of 4776 nodes\n",
      "      3.08 seconds: SPR round   1 of   2, 2501 of 4776 nodes\n",
      "      3.20 seconds: SPR round   1 of   2, 2801 of 4776 nodes\n",
      "      3.31 seconds: SPR round   1 of   2, 3101 of 4776 nodes\n",
      "      3.42 seconds: SPR round   1 of   2, 3401 of 4776 nodes\n",
      "      3.53 seconds: SPR round   1 of   2, 3701 of 4776 nodes\n",
      "      3.65 seconds: SPR round   1 of   2, 4101 of 4776 nodes\n",
      "      3.78 seconds: SPR round   1 of   2, 4501 of 4776 nodes\n",
      "      3.88 seconds: ME NNI round 16 of 45, 501 of 2387 splits, 14 changes (max delta 0.008)\n",
      "      3.99 seconds: SPR round   2 of   2, 101 of 4776 nodes\n",
      "      4.12 seconds: SPR round   2 of   2, 501 of 4776 nodes\n",
      "      4.24 seconds: SPR round   2 of   2, 901 of 4776 nodes\n",
      "      4.35 seconds: SPR round   2 of   2, 1201 of 4776 nodes\n",
      "      4.47 seconds: SPR round   2 of   2, 1601 of 4776 nodes\n",
      "      4.58 seconds: SPR round   2 of   2, 1901 of 4776 nodes\n",
      "      4.68 seconds: SPR round   2 of   2, 2201 of 4776 nodes\n",
      "      4.78 seconds: SPR round   2 of   2, 2501 of 4776 nodes\n",
      "      4.90 seconds: SPR round   2 of   2, 2801 of 4776 nodes\n",
      "      5.01 seconds: SPR round   2 of   2, 3101 of 4776 nodes\n",
      "      5.13 seconds: SPR round   2 of   2, 3501 of 4776 nodes\n",
      "      5.23 seconds: SPR round   2 of   2, 3801 of 4776 nodes\n",
      "      5.36 seconds: SPR round   2 of   2, 4201 of 4776 nodes\n",
      "      5.46 seconds: SPR round   2 of   2, 4501 of 4776 nodes\n",
      "      5.56 seconds: ME NNI round 31 of 45, 801 of 2387 splits, 6 changes (max delta 0.001)\n",
      "Total branch-length 42.055 after 5.70 sec\n",
      "      5.70 seconds: ML Lengths 1 of 2387 splits\n",
      "      5.81 seconds: ML Lengths 601 of 2387 splits\n",
      "      5.91 seconds: ML Lengths 1201 of 2387 splits\n",
      "      6.03 seconds: ML Lengths 1901 of 2387 splits\n",
      "      6.17 seconds: ML NNI round 1 of 22, 101 of 2387 splits, 16 changes (max delta 5.615)\n",
      "      6.29 seconds: ML NNI round 1 of 22, 301 of 2387 splits, 55 changes (max delta 5.615)\n",
      "      6.42 seconds: ML NNI round 1 of 22, 501 of 2387 splits, 101 changes (max delta 9.144)\n",
      "      6.54 seconds: ML NNI round 1 of 22, 701 of 2387 splits, 148 changes (max delta 9.144)\n",
      "      6.66 seconds: ML NNI round 1 of 22, 901 of 2387 splits, 193 changes (max delta 11.580)\n",
      "      6.79 seconds: ML NNI round 1 of 22, 1101 of 2387 splits, 221 changes (max delta 11.580)\n",
      "      6.93 seconds: ML NNI round 1 of 22, 1301 of 2387 splits, 250 changes (max delta 11.580)\n",
      "      7.06 seconds: ML NNI round 1 of 22, 1501 of 2387 splits, 274 changes (max delta 11.580)\n",
      "      7.18 seconds: ML NNI round 1 of 22, 1701 of 2387 splits, 305 changes (max delta 11.580)\n",
      "      7.30 seconds: ML NNI round 1 of 22, 1901 of 2387 splits, 350 changes (max delta 11.580)\n",
      "      7.43 seconds: ML NNI round 1 of 22, 2101 of 2387 splits, 392 changes (max delta 11.580)\n",
      "      7.54 seconds: ML NNI round 1 of 22, 2301 of 2387 splits, 438 changes (max delta 11.580)\n",
      "ML-NNI round 1: LogLk = -91254.908 NNIs 462 max delta 11.58 Time 7.61\n",
      "      7.64 seconds: Site likelihoods with rate category 2 of 20\n",
      "      7.77 seconds: Site likelihoods with rate category 8 of 20\n",
      "      7.88 seconds: Site likelihoods with rate category 14 of 20\n",
      "      8.00 seconds: Site likelihoods with rate category 20 of 20\n",
      "Switched to using 20 rate categories (CAT approximation)\n",
      "Rate categories were divided by 1.110 so that average rate = 1.0\n",
      "CAT-based log-likelihoods may not be comparable across runs\n",
      "Use -gamma for approximate but comparable Gamma(20) log-likelihoods\n",
      "      8.10 seconds: ML NNI round 2 of 22, 201 of 2387 splits, 20 changes (max delta 6.692)\n",
      "      8.23 seconds: ML NNI round 2 of 22, 501 of 2387 splits, 53 changes (max delta 6.692)\n",
      "      8.35 seconds: ML NNI round 2 of 22, 801 of 2387 splits, 96 changes (max delta 9.445)\n",
      "      8.47 seconds: ML NNI round 2 of 22, 1101 of 2387 splits, 130 changes (max delta 9.445)\n",
      "      8.59 seconds: ML NNI round 2 of 22, 1401 of 2387 splits, 155 changes (max delta 9.445)\n",
      "      8.71 seconds: ML NNI round 2 of 22, 1701 of 2387 splits, 185 changes (max delta 9.445)\n",
      "      8.84 seconds: ML NNI round 2 of 22, 2001 of 2387 splits, 214 changes (max delta 9.445)\n",
      "      8.99 seconds: ML NNI round 2 of 22, 2301 of 2387 splits, 246 changes (max delta 9.445)\n",
      "ML-NNI round 2: LogLk = -76652.592 NNIs 256 max delta 9.45 Time 9.04\n",
      "      9.12 seconds: ML NNI round 3 of 22, 201 of 2387 splits, 11 changes (max delta 4.548)\n",
      "      9.23 seconds: ML NNI round 3 of 22, 501 of 2387 splits, 28 changes (max delta 4.548)\n",
      "      9.35 seconds: ML NNI round 3 of 22, 801 of 2387 splits, 45 changes (max delta 9.359)\n",
      "      9.48 seconds: ML NNI round 3 of 22, 1101 of 2387 splits, 58 changes (max delta 9.359)\n",
      "      9.61 seconds: ML NNI round 3 of 22, 1401 of 2387 splits, 75 changes (max delta 9.359)\n",
      "ML-NNI round 3: LogLk = -76576.413 NNIs 87 max delta 9.36 Time 9.69\n",
      "      9.72 seconds: ML NNI round 4 of 22, 101 of 2387 splits, 4 changes (max delta 6.454)\n",
      "      9.83 seconds: ML NNI round 4 of 22, 401 of 2387 splits, 15 changes (max delta 6.454)\n",
      "      9.94 seconds: ML NNI round 4 of 22, 701 of 2387 splits, 28 changes (max delta 6.454)\n",
      "ML-NNI round 4: LogLk = -76538.138 NNIs 34 max delta 6.45 Time 10.03\n",
      "     10.07 seconds: ML NNI round 5 of 22, 101 of 2387 splits, 0 changes\n",
      "     10.18 seconds: ML NNI round 5 of 22, 401 of 2387 splits, 7 changes (max delta 2.819)\n",
      "ML-NNI round 5: LogLk = -76531.425 NNIs 7 max delta 2.82 Time 10.21\n",
      "ML-NNI round 6: LogLk = -76529.697 NNIs 3 max delta 1.57 Time 10.30\n",
      "     10.29 seconds: ML NNI round 7 of 22, 1 of 2387 splits\n",
      "ML-NNI round 7: LogLk = -76526.198 NNIs 4 max delta 1.10 Time 10.35\n",
      "ML-NNI round 8: LogLk = -76525.841 NNIs 0 max delta 0.00 Time 10.39\n",
      "Turning off heuristics for final round of ML NNIs (converged)\n",
      "     10.45 seconds: ML NNI round 9 of 22, 101 of 2387 splits, 0 changes\n",
      "     10.56 seconds: ML NNI round 9 of 22, 301 of 2387 splits, 3 changes (max delta 3.625)\n",
      "     10.68 seconds: ML NNI round 9 of 22, 501 of 2387 splits, 7 changes (max delta 3.625)\n",
      "     10.79 seconds: ML NNI round 9 of 22, 701 of 2387 splits, 10 changes (max delta 3.625)\n",
      "     10.90 seconds: ML NNI round 9 of 22, 901 of 2387 splits, 13 changes (max delta 3.625)\n",
      "     11.02 seconds: ML NNI round 9 of 22, 1101 of 2387 splits, 13 changes (max delta 3.625)\n",
      "     11.14 seconds: ML NNI round 9 of 22, 1301 of 2387 splits, 14 changes (max delta 3.625)\n",
      "     11.27 seconds: ML NNI round 9 of 22, 1501 of 2387 splits, 15 changes (max delta 3.625)\n",
      "     11.40 seconds: ML NNI round 9 of 22, 1701 of 2387 splits, 18 changes (max delta 3.625)\n"
     ]
    },
    {
     "name": "stderr",
     "output_type": "stream",
     "text": [
      "     11.54 seconds: ML NNI round 9 of 22, 1901 of 2387 splits, 22 changes (max delta 3.625)\n",
      "     11.68 seconds: ML NNI round 9 of 22, 2101 of 2387 splits, 24 changes (max delta 4.285)\n",
      "     11.80 seconds: ML NNI round 9 of 22, 2301 of 2387 splits, 25 changes (max delta 4.285)\n",
      "ML-NNI round 9: LogLk = -76471.593 NNIs 25 max delta 4.28 Time 11.86 (final)\n",
      "     11.91 seconds: ML Lengths 401 of 2387 splits\n",
      "     12.03 seconds: ML Lengths 1201 of 2387 splits\n",
      "     12.13 seconds: ML Lengths 1901 of 2387 splits\n",
      "Optimize all lengths: LogLk = -76465.607 Time 12.22\n",
      "     12.32 seconds: ML split tests for    100 of   2386 internal splits\n",
      "     12.51 seconds: ML split tests for    300 of   2386 internal splits\n",
      "     12.62 seconds: ML split tests for    400 of   2386 internal splits\n",
      "     12.81 seconds: ML split tests for    600 of   2386 internal splits\n",
      "     12.91 seconds: ML split tests for    700 of   2386 internal splits\n",
      "     13.10 seconds: ML split tests for    900 of   2386 internal splits\n",
      "     13.29 seconds: ML split tests for   1100 of   2386 internal splits\n",
      "     13.48 seconds: ML split tests for   1300 of   2386 internal splits\n",
      "     13.59 seconds: ML split tests for   1400 of   2386 internal splits\n",
      "     13.69 seconds: ML split tests for   1500 of   2386 internal splits\n",
      "     13.89 seconds: ML split tests for   1700 of   2386 internal splits\n",
      "     14.13 seconds: ML split tests for   1900 of   2386 internal splits\n",
      "     14.26 seconds: ML split tests for   2000 of   2386 internal splits\n",
      "     14.37 seconds: ML split tests for   2100 of   2386 internal splits\n",
      "     14.53 seconds: ML split tests for   2200 of   2386 internal splits\n",
      "Total time: 14.72 seconds Unique: 2389/2429 Bad splits: 8/2386 Worst delta-LogLk 15.047\n"
     ]
    }
   ],
   "source": [
    "import qiime2.plugins.phylogeny.actions as phylogeny_actions\n",
    "\n",
    "action_results = phylogeny_actions.align_to_tree_mafft_fasttree(\n",
    "    sequences=filtered_sequences_2,)\n",
    "\n",
    "aligned_rep_seqs = action_results.alignment\n",
    "masked_aligned_rep_seqs = action_results.masked_alignment\n",
    "unrooted_tree = action_results.tree\n",
    "rooted_tree = action_results.rooted_tree"
   ]
  },
  {
   "cell_type": "code",
   "execution_count": 49,
   "id": "b2e4a8c9",
   "metadata": {},
   "outputs": [
    {
     "data": {
      "text/plain": [
       "'phylogeny/rooted_tree.qza'"
      ]
     },
     "execution_count": 49,
     "metadata": {},
     "output_type": "execute_result"
    }
   ],
   "source": [
    "aligned_rep_seqs.save('phylogeny/alignment.qza')\n",
    "masked_aligned_rep_seqs.save('phylogeny/masked_alignment.qza')\n",
    "unrooted_tree.save('phylogeny/tree.qza')\n",
    "rooted_tree.save('phylogeny/rooted_tree.qza')"
   ]
  },
  {
   "cell_type": "code",
   "execution_count": null,
   "id": "c534cc98",
   "metadata": {},
   "outputs": [],
   "source": []
  },
  {
   "cell_type": "code",
   "execution_count": null,
   "id": "3d4ff5b4",
   "metadata": {},
   "outputs": [],
   "source": [
    "#Sampling depth"
   ]
  },
  {
   "cell_type": "code",
   "execution_count": 51,
   "id": "c99b5e4d",
   "metadata": {},
   "outputs": [],
   "source": [
    "filtered_table_4_summ_viz, = feature_table_actions.summarize(\n",
    "    table=filtered_table_4,\n",
    "    sample_metadata=sample_metadata_md,)"
   ]
  },
  {
   "cell_type": "code",
   "execution_count": 52,
   "id": "ec70761a",
   "metadata": {},
   "outputs": [
    {
     "data": {
      "text/plain": [
       "'filtered_table_4_summ.qzv'"
      ]
     },
     "execution_count": 52,
     "metadata": {},
     "output_type": "execute_result"
    }
   ],
   "source": [
    "filtered_table_4_summ_viz.save('filtered_table_4_summ.qzv')"
   ]
  },
  {
   "cell_type": "code",
   "execution_count": null,
   "id": "68ef392e",
   "metadata": {},
   "outputs": [],
   "source": []
  },
  {
   "cell_type": "code",
   "execution_count": 53,
   "id": "bbc710e0",
   "metadata": {
    "collapsed": true
   },
   "outputs": [
    {
     "name": "stderr",
     "output_type": "stream",
     "text": [
      "/opt/miniconda3/envs/qiime2a/lib/python3.8/site-packages/q2_diversity/_alpha/_visualizer.py:245: FutureWarning: The default value of numeric_only in DataFrameGroupBy.median is deprecated. In a future version, numeric_only will default to False. Either specify numeric_only or select only columns which should be valid for the function.\n",
      "  median_ = grouped.median()\n",
      "/opt/miniconda3/envs/qiime2a/lib/python3.8/site-packages/q2_diversity/_alpha/_visualizer.py:245: FutureWarning: The default value of numeric_only in DataFrameGroupBy.median is deprecated. In a future version, numeric_only will default to False. Either specify numeric_only or select only columns which should be valid for the function.\n",
      "  median_ = grouped.median()\n",
      "/opt/miniconda3/envs/qiime2a/lib/python3.8/site-packages/q2_diversity/_alpha/_visualizer.py:245: FutureWarning: The default value of numeric_only in DataFrameGroupBy.median is deprecated. In a future version, numeric_only will default to False. Either specify numeric_only or select only columns which should be valid for the function.\n",
      "  median_ = grouped.median()\n",
      "/opt/miniconda3/envs/qiime2a/lib/python3.8/site-packages/q2_diversity/_alpha/_visualizer.py:245: FutureWarning: The default value of numeric_only in DataFrameGroupBy.median is deprecated. In a future version, numeric_only will default to False. Either specify numeric_only or select only columns which should be valid for the function.\n",
      "  median_ = grouped.median()\n",
      "/opt/miniconda3/envs/qiime2a/lib/python3.8/site-packages/q2_diversity/_alpha/_visualizer.py:245: FutureWarning: The default value of numeric_only in DataFrameGroupBy.median is deprecated. In a future version, numeric_only will default to False. Either specify numeric_only or select only columns which should be valid for the function.\n",
      "  median_ = grouped.median()\n",
      "/opt/miniconda3/envs/qiime2a/lib/python3.8/site-packages/q2_diversity/_alpha/_visualizer.py:245: FutureWarning: The default value of numeric_only in DataFrameGroupBy.median is deprecated. In a future version, numeric_only will default to False. Either specify numeric_only or select only columns which should be valid for the function.\n",
      "  median_ = grouped.median()\n",
      "/opt/miniconda3/envs/qiime2a/lib/python3.8/site-packages/q2_diversity/_alpha/_visualizer.py:245: FutureWarning: The default value of numeric_only in DataFrameGroupBy.median is deprecated. In a future version, numeric_only will default to False. Either specify numeric_only or select only columns which should be valid for the function.\n",
      "  median_ = grouped.median()\n",
      "/opt/miniconda3/envs/qiime2a/lib/python3.8/site-packages/q2_diversity/_alpha/_visualizer.py:245: FutureWarning: The default value of numeric_only in DataFrameGroupBy.median is deprecated. In a future version, numeric_only will default to False. Either specify numeric_only or select only columns which should be valid for the function.\n",
      "  median_ = grouped.median()\n",
      "/opt/miniconda3/envs/qiime2a/lib/python3.8/site-packages/q2_diversity/_alpha/_visualizer.py:245: FutureWarning: The default value of numeric_only in DataFrameGroupBy.median is deprecated. In a future version, numeric_only will default to False. Either specify numeric_only or select only columns which should be valid for the function.\n",
      "  median_ = grouped.median()\n",
      "/opt/miniconda3/envs/qiime2a/lib/python3.8/site-packages/q2_diversity/_alpha/_visualizer.py:245: FutureWarning: The default value of numeric_only in DataFrameGroupBy.median is deprecated. In a future version, numeric_only will default to False. Either specify numeric_only or select only columns which should be valid for the function.\n",
      "  median_ = grouped.median()\n",
      "/opt/miniconda3/envs/qiime2a/lib/python3.8/site-packages/q2_diversity/_alpha/_visualizer.py:245: FutureWarning: The default value of numeric_only in DataFrameGroupBy.median is deprecated. In a future version, numeric_only will default to False. Either specify numeric_only or select only columns which should be valid for the function.\n",
      "  median_ = grouped.median()\n",
      "/opt/miniconda3/envs/qiime2a/lib/python3.8/site-packages/q2_diversity/_alpha/_visualizer.py:245: FutureWarning: The default value of numeric_only in DataFrameGroupBy.median is deprecated. In a future version, numeric_only will default to False. Either specify numeric_only or select only columns which should be valid for the function.\n",
      "  median_ = grouped.median()\n",
      "/opt/miniconda3/envs/qiime2a/lib/python3.8/site-packages/q2_diversity/_alpha/_visualizer.py:245: FutureWarning: The default value of numeric_only in DataFrameGroupBy.median is deprecated. In a future version, numeric_only will default to False. Either specify numeric_only or select only columns which should be valid for the function.\n",
      "  median_ = grouped.median()\n",
      "/opt/miniconda3/envs/qiime2a/lib/python3.8/site-packages/q2_diversity/_alpha/_visualizer.py:245: FutureWarning: The default value of numeric_only in DataFrameGroupBy.median is deprecated. In a future version, numeric_only will default to False. Either specify numeric_only or select only columns which should be valid for the function.\n",
      "  median_ = grouped.median()\n",
      "/opt/miniconda3/envs/qiime2a/lib/python3.8/site-packages/q2_diversity/_alpha/_visualizer.py:245: FutureWarning: The default value of numeric_only in DataFrameGroupBy.median is deprecated. In a future version, numeric_only will default to False. Either specify numeric_only or select only columns which should be valid for the function.\n",
      "  median_ = grouped.median()\n",
      "/opt/miniconda3/envs/qiime2a/lib/python3.8/site-packages/q2_diversity/_alpha/_visualizer.py:245: FutureWarning: The default value of numeric_only in DataFrameGroupBy.median is deprecated. In a future version, numeric_only will default to False. Either specify numeric_only or select only columns which should be valid for the function.\n",
      "  median_ = grouped.median()\n"
     ]
    }
   ],
   "source": [
    "import qiime2.plugins.diversity.actions as diversity_actions\n",
    "\n",
    "shannon_rarefaction_plot_viz, = diversity_actions.alpha_rarefaction(\n",
    "    table=filtered_table_4,\n",
    "    metrics={'shannon'},\n",
    "    metadata=sample_metadata_md,\n",
    "    max_depth=33000,)"
   ]
  },
  {
   "cell_type": "code",
   "execution_count": 58,
   "id": "051898a4",
   "metadata": {},
   "outputs": [
    {
     "data": {
      "text/plain": [
       "'shannon_rarefaction_plot.qzv'"
      ]
     },
     "execution_count": 58,
     "metadata": {},
     "output_type": "execute_result"
    }
   ],
   "source": [
    "shannon_rarefaction_plot_viz.save('shannon_rarefaction_plot.qzv')"
   ]
  },
  {
   "cell_type": "code",
   "execution_count": 62,
   "id": "24645f73",
   "metadata": {
    "collapsed": true
   },
   "outputs": [
    {
     "data": {
      "text/html": [
       "<div><img onload=\"(function(div, url){\n",
       "if (typeof require !== 'undefined') {\n",
       "    var baseURL = require.toUrl('').split('/').slice(0, -2).join('/');\n",
       "} else {\n",
       "    var baseURL = JSON.parse(\n",
       "        document.getElementById('jupyter-config-data').innerHTML\n",
       "    ).baseUrl.slice(0, -1);\n",
       "}\n",
       "url = baseURL + url;\n",
       "fetch(url).then(function(res) {\n",
       "    if (res.status === 404) {\n",
       "        div.innerHTML = 'Install QIIME 2 Jupyter extension with:<br />' +\n",
       "                        '<code>jupyter serverextension enable --py qiime2' +\n",
       "                        ' --sys-prefix</code><br />then restart your server.' +\n",
       "                        '<br /><br />(Interactive output not available on ' +\n",
       "                        'static notebook viewer services like nbviewer.)';\n",
       "    } else if (res.status === 409) {\n",
       "        div.innerHTML = 'Visualization no longer in scope. Re-run this cell' +\n",
       "                        ' to see the visualization.';\n",
       "    } else if (res.ok) {\n",
       "        url = res.url;\n",
       "        div.innerHTML = '<iframe src=\\'' + url + '\\' style=\\'' +\n",
       "                        'width: 100%; height: 700px; border: 0;\\'>' +\n",
       "                        '</iframe><hr />Open in a: <a href=\\'' + url + '\\'' +\n",
       "                        ' target=\\'_blank\\'>new window</a>'\n",
       "    } else {\n",
       "        div.innerHTML = 'Something has gone wrong. Check notebook server for' +\n",
       "                        ' errors.';\n",
       "    }\n",
       "});\n",
       "})(this.parentElement, '/qiime2/redirect?location=/var/folders/hq/mt_9wjp90cx45qsgnk3d7qfc0000gq/T/qiime2/reziw3/data/bf8f0bad-d65e-40f4-a5f9-50da5448f84e')\" src=\"data:image/gif;base64,R0lGODlhAQABAIAAAP///wAAACH5BAEAAAAALAAAAAABAAEAAAICRAEAOw==\" /></div>"
      ],
      "text/plain": [
       "<visualization: Visualization uuid: bf8f0bad-d65e-40f4-a5f9-50da5448f84e>"
      ]
     },
     "execution_count": 62,
     "metadata": {},
     "output_type": "execute_result"
    }
   ],
   "source": [
    "shannon_rarefaction_plot_viz"
   ]
  },
  {
   "cell_type": "code",
   "execution_count": 56,
   "id": "49aa8df8",
   "metadata": {
    "collapsed": true
   },
   "outputs": [
    {
     "name": "stderr",
     "output_type": "stream",
     "text": [
      "/opt/miniconda3/envs/qiime2a/lib/python3.8/site-packages/skbio/stats/ordination/_principal_coordinate_analysis.py:143: RuntimeWarning: The result contains negative eigenvalues. Please compare their magnitude with the magnitude of some of the largest positive eigenvalues. If the negative ones are smaller, it's probably safe to ignore them, but if they are large in magnitude, the results won't be useful. See the Notes section for more details. The smallest eigenvalue is -0.6330448261356202 and the largest is 22.365742026405208.\n",
      "  warn(\n",
      "/opt/miniconda3/envs/qiime2a/lib/python3.8/site-packages/skbio/stats/ordination/_principal_coordinate_analysis.py:143: RuntimeWarning: The result contains negative eigenvalues. Please compare their magnitude with the magnitude of some of the largest positive eigenvalues. If the negative ones are smaller, it's probably safe to ignore them, but if they are large in magnitude, the results won't be useful. See the Notes section for more details. The smallest eigenvalue is -0.6322949560968978 and the largest is 22.350691502448566.\n",
      "  warn(\n",
      "/opt/miniconda3/envs/qiime2a/lib/python3.8/site-packages/skbio/stats/ordination/_principal_coordinate_analysis.py:143: RuntimeWarning: The result contains negative eigenvalues. Please compare their magnitude with the magnitude of some of the largest positive eigenvalues. If the negative ones are smaller, it's probably safe to ignore them, but if they are large in magnitude, the results won't be useful. See the Notes section for more details. The smallest eigenvalue is -0.6313648606923477 and the largest is 22.385077048744353.\n",
      "  warn(\n",
      "/opt/miniconda3/envs/qiime2a/lib/python3.8/site-packages/skbio/stats/ordination/_principal_coordinate_analysis.py:143: RuntimeWarning: The result contains negative eigenvalues. Please compare their magnitude with the magnitude of some of the largest positive eigenvalues. If the negative ones are smaller, it's probably safe to ignore them, but if they are large in magnitude, the results won't be useful. See the Notes section for more details. The smallest eigenvalue is -0.6327681706878469 and the largest is 22.392984083715383.\n",
      "  warn(\n",
      "/opt/miniconda3/envs/qiime2a/lib/python3.8/site-packages/skbio/stats/ordination/_principal_coordinate_analysis.py:143: RuntimeWarning: The result contains negative eigenvalues. Please compare their magnitude with the magnitude of some of the largest positive eigenvalues. If the negative ones are smaller, it's probably safe to ignore them, but if they are large in magnitude, the results won't be useful. See the Notes section for more details. The smallest eigenvalue is -0.6335902845731005 and the largest is 22.350797099935907.\n",
      "  warn(\n",
      "/opt/miniconda3/envs/qiime2a/lib/python3.8/site-packages/skbio/stats/ordination/_principal_coordinate_analysis.py:143: RuntimeWarning: The result contains negative eigenvalues. Please compare their magnitude with the magnitude of some of the largest positive eigenvalues. If the negative ones are smaller, it's probably safe to ignore them, but if they are large in magnitude, the results won't be useful. See the Notes section for more details. The smallest eigenvalue is -0.6328293554730718 and the largest is 22.352756372139893.\n",
      "  warn(\n",
      "/opt/miniconda3/envs/qiime2a/lib/python3.8/site-packages/skbio/stats/ordination/_principal_coordinate_analysis.py:143: RuntimeWarning: The result contains negative eigenvalues. Please compare their magnitude with the magnitude of some of the largest positive eigenvalues. If the negative ones are smaller, it's probably safe to ignore them, but if they are large in magnitude, the results won't be useful. See the Notes section for more details. The smallest eigenvalue is -0.6371524358477153 and the largest is 22.376004920913296.\n",
      "  warn(\n",
      "/opt/miniconda3/envs/qiime2a/lib/python3.8/site-packages/skbio/stats/ordination/_principal_coordinate_analysis.py:143: RuntimeWarning: The result contains negative eigenvalues. Please compare their magnitude with the magnitude of some of the largest positive eigenvalues. If the negative ones are smaller, it's probably safe to ignore them, but if they are large in magnitude, the results won't be useful. See the Notes section for more details. The smallest eigenvalue is -0.6327220463942205 and the largest is 22.336059601914997.\n",
      "  warn(\n",
      "/opt/miniconda3/envs/qiime2a/lib/python3.8/site-packages/skbio/stats/ordination/_principal_coordinate_analysis.py:143: RuntimeWarning: The result contains negative eigenvalues. Please compare their magnitude with the magnitude of some of the largest positive eigenvalues. If the negative ones are smaller, it's probably safe to ignore them, but if they are large in magnitude, the results won't be useful. See the Notes section for more details. The smallest eigenvalue is -0.6321803636969964 and the largest is 22.380802624888396.\n",
      "  warn(\n",
      "/opt/miniconda3/envs/qiime2a/lib/python3.8/site-packages/skbio/stats/ordination/_principal_coordinate_analysis.py:143: RuntimeWarning: The result contains negative eigenvalues. Please compare their magnitude with the magnitude of some of the largest positive eigenvalues. If the negative ones are smaller, it's probably safe to ignore them, but if they are large in magnitude, the results won't be useful. See the Notes section for more details. The smallest eigenvalue is -0.633233762366178 and the largest is 22.372429312852177.\n",
      "  warn(\n"
     ]
    }
   ],
   "source": [
    "braycurtis_rarefaction_plot_viz, = diversity_actions.beta_rarefaction(\n",
    "    table=filtered_table_4,\n",
    "    metric='braycurtis',\n",
    "    clustering_method='nj',\n",
    "    sampling_depth=10000,\n",
    "    metadata=sample_metadata_md,)"
   ]
  },
  {
   "cell_type": "code",
   "execution_count": 57,
   "id": "8c61b6f9",
   "metadata": {},
   "outputs": [
    {
     "data": {
      "text/plain": [
       "'braycurtis_rarefaction_plot.qzv'"
      ]
     },
     "execution_count": 57,
     "metadata": {},
     "output_type": "execute_result"
    }
   ],
   "source": [
    "braycurtis_rarefaction_plot_viz.save('braycurtis_rarefaction_plot.qzv')"
   ]
  },
  {
   "cell_type": "code",
   "execution_count": 60,
   "id": "e963bb45",
   "metadata": {
    "collapsed": true
   },
   "outputs": [
    {
     "data": {
      "text/html": [
       "<div><img onload=\"(function(div, url){\n",
       "if (typeof require !== 'undefined') {\n",
       "    var baseURL = require.toUrl('').split('/').slice(0, -2).join('/');\n",
       "} else {\n",
       "    var baseURL = JSON.parse(\n",
       "        document.getElementById('jupyter-config-data').innerHTML\n",
       "    ).baseUrl.slice(0, -1);\n",
       "}\n",
       "url = baseURL + url;\n",
       "fetch(url).then(function(res) {\n",
       "    if (res.status === 404) {\n",
       "        div.innerHTML = 'Install QIIME 2 Jupyter extension with:<br />' +\n",
       "                        '<code>jupyter serverextension enable --py qiime2' +\n",
       "                        ' --sys-prefix</code><br />then restart your server.' +\n",
       "                        '<br /><br />(Interactive output not available on ' +\n",
       "                        'static notebook viewer services like nbviewer.)';\n",
       "    } else if (res.status === 409) {\n",
       "        div.innerHTML = 'Visualization no longer in scope. Re-run this cell' +\n",
       "                        ' to see the visualization.';\n",
       "    } else if (res.ok) {\n",
       "        url = res.url;\n",
       "        div.innerHTML = '<iframe src=\\'' + url + '\\' style=\\'' +\n",
       "                        'width: 100%; height: 700px; border: 0;\\'>' +\n",
       "                        '</iframe><hr />Open in a: <a href=\\'' + url + '\\'' +\n",
       "                        ' target=\\'_blank\\'>new window</a>'\n",
       "    } else {\n",
       "        div.innerHTML = 'Something has gone wrong. Check notebook server for' +\n",
       "                        ' errors.';\n",
       "    }\n",
       "});\n",
       "})(this.parentElement, '/qiime2/redirect?location=/var/folders/hq/mt_9wjp90cx45qsgnk3d7qfc0000gq/T/qiime2/reziw3/data/dbf50e36-ccd5-4ea1-abf5-615d4b07cb6f')\" src=\"data:image/gif;base64,R0lGODlhAQABAIAAAP///wAAACH5BAEAAAAALAAAAAABAAEAAAICRAEAOw==\" /></div>"
      ],
      "text/plain": [
       "<visualization: Visualization uuid: dbf50e36-ccd5-4ea1-abf5-615d4b07cb6f>"
      ]
     },
     "execution_count": 60,
     "metadata": {},
     "output_type": "execute_result"
    }
   ],
   "source": [
    "braycurtis_rarefaction_plot_viz"
   ]
  },
  {
   "cell_type": "code",
   "execution_count": null,
   "id": "00824c44",
   "metadata": {},
   "outputs": [],
   "source": []
  },
  {
   "cell_type": "code",
   "execution_count": null,
   "id": "45d52fcd",
   "metadata": {},
   "outputs": [],
   "source": [
    "#Computing diversity metrics"
   ]
  },
  {
   "cell_type": "code",
   "execution_count": 20,
   "id": "8fb7ea8f",
   "metadata": {
    "collapsed": true
   },
   "outputs": [
    {
     "name": "stderr",
     "output_type": "stream",
     "text": [
      "/opt/miniconda3/envs/qiime2a/lib/python3.8/site-packages/skbio/stats/ordination/_principal_coordinate_analysis.py:143: RuntimeWarning: The result contains negative eigenvalues. Please compare their magnitude with the magnitude of some of the largest positive eigenvalues. If the negative ones are smaller, it's probably safe to ignore them, but if they are large in magnitude, the results won't be useful. See the Notes section for more details. The smallest eigenvalue is -0.021204273898313482 and the largest is 9.860404378772003.\n",
      "  warn(\n",
      "/opt/miniconda3/envs/qiime2a/lib/python3.8/site-packages/skbio/stats/ordination/_principal_coordinate_analysis.py:143: RuntimeWarning: The result contains negative eigenvalues. Please compare their magnitude with the magnitude of some of the largest positive eigenvalues. If the negative ones are smaller, it's probably safe to ignore them, but if they are large in magnitude, the results won't be useful. See the Notes section for more details. The smallest eigenvalue is -0.6313800197226674 and the largest is 22.3714143790482.\n",
      "  warn(\n"
     ]
    },
    {
     "name": "stdout",
     "output_type": "stream",
     "text": [
      "Running external command line application. This may print messages to stdout and/or stderr.\n",
      "The command being run is below. This command cannot be manually re-run as it will depend on temporary files that no longer exist.\n",
      "\n",
      "Command:\n",
      "\n",
      "faithpd -i /var/folders/hq/mt_9wjp90cx45qsgnk3d7qfc0000gq/T/qiime2/reziw3/data/e6cb807f-a7ce-4b20-bc85-75cf129f616b/data/feature-table.biom -t /var/folders/hq/mt_9wjp90cx45qsgnk3d7qfc0000gq/T/qiime2/reziw3/data/3f75b1f3-c11b-4f26-86e6-f22e7d970530/data/tree.nwk -o /var/folders/hq/mt_9wjp90cx45qsgnk3d7qfc0000gq/T/q2-AlphaDiversityFormat-lcvtw0sp\n",
      "\n",
      "Running external command line application. This may print messages to stdout and/or stderr.\n",
      "The command being run is below. This command cannot be manually re-run as it will depend on temporary files that no longer exist.\n",
      "\n",
      "Command:\n",
      "\n",
      "ssu -i /var/folders/hq/mt_9wjp90cx45qsgnk3d7qfc0000gq/T/qiime2/reziw3/data/e6cb807f-a7ce-4b20-bc85-75cf129f616b/data/feature-table.biom -t /var/folders/hq/mt_9wjp90cx45qsgnk3d7qfc0000gq/T/qiime2/reziw3/data/3f75b1f3-c11b-4f26-86e6-f22e7d970530/data/tree.nwk -m unweighted -o /var/folders/hq/mt_9wjp90cx45qsgnk3d7qfc0000gq/T/q2-LSMatFormat-xw2vykwk\n",
      "\n",
      "Running external command line application. This may print messages to stdout and/or stderr.\n",
      "The command being run is below. This command cannot be manually re-run as it will depend on temporary files that no longer exist.\n",
      "\n",
      "Command:\n",
      "\n",
      "ssu -i /var/folders/hq/mt_9wjp90cx45qsgnk3d7qfc0000gq/T/qiime2/reziw3/data/e6cb807f-a7ce-4b20-bc85-75cf129f616b/data/feature-table.biom -t /var/folders/hq/mt_9wjp90cx45qsgnk3d7qfc0000gq/T/qiime2/reziw3/data/3f75b1f3-c11b-4f26-86e6-f22e7d970530/data/tree.nwk -m weighted_unnormalized -o /var/folders/hq/mt_9wjp90cx45qsgnk3d7qfc0000gq/T/q2-LSMatFormat-jy9poqqi\n",
      "\n"
     ]
    },
    {
     "name": "stderr",
     "output_type": "stream",
     "text": [
      "/opt/miniconda3/envs/qiime2a/lib/python3.8/site-packages/skbio/stats/ordination/_principal_coordinate_analysis.py:143: RuntimeWarning: The result contains negative eigenvalues. Please compare their magnitude with the magnitude of some of the largest positive eigenvalues. If the negative ones are smaller, it's probably safe to ignore them, but if they are large in magnitude, the results won't be useful. See the Notes section for more details. The smallest eigenvalue is -0.06880147610415145 and the largest is 13.698096614841239.\n",
      "  warn(\n",
      "/opt/miniconda3/envs/qiime2a/lib/python3.8/site-packages/skbio/stats/ordination/_principal_coordinate_analysis.py:143: RuntimeWarning: The result contains negative eigenvalues. Please compare their magnitude with the magnitude of some of the largest positive eigenvalues. If the negative ones are smaller, it's probably safe to ignore them, but if they are large in magnitude, the results won't be useful. See the Notes section for more details. The smallest eigenvalue is -0.44896300713340925 and the largest is 16.049512623752953.\n",
      "  warn(\n"
     ]
    }
   ],
   "source": [
    "action_results = diversity_actions.core_metrics_phylogenetic(\n",
    "    phylogeny=rooted_tree,\n",
    "    table=filtered_table_4,\n",
    "    sampling_depth=10000,\n",
    "    metadata=sample_metadata_md,)\n",
    "\n",
    "rarefied_table = action_results.rarefied_table\n",
    "faith_pd_vector = action_results.faith_pd_vector\n",
    "observed_features_vector = action_results.observed_features_vector\n",
    "shannon_vector = action_results.shannon_vector\n",
    "evenness_vector = action_results.evenness_vector\n",
    "unweighted_unifrac_distance_matrix = action_results.unweighted_unifrac_distance_matrix\n",
    "weighted_unifrac_distance_matrix = action_results.weighted_unifrac_distance_matrix\n",
    "jaccard_distance_matrix = action_results.jaccard_distance_matrix\n",
    "bray_curtis_distance_matrix = action_results.bray_curtis_distance_matrix\n",
    "unweighted_unifrac_pcoa_results = action_results.unweighted_unifrac_pcoa_results\n",
    "weighted_unifrac_pcoa_results = action_results.weighted_unifrac_pcoa_results\n",
    "jaccard_pcoa_results = action_results.jaccard_pcoa_results\n",
    "bray_curtis_pcoa_results = action_results.bray_curtis_pcoa_results\n",
    "unweighted_unifrac_emperor_viz = action_results.unweighted_unifrac_emperor\n",
    "weighted_unifrac_emperor_viz = action_results.weighted_unifrac_emperor\n",
    "jaccard_emperor_viz = action_results.jaccard_emperor\n",
    "bray_curtis_emperor_viz = action_results.bray_curtis_emperor"
   ]
  },
  {
   "cell_type": "code",
   "execution_count": 66,
   "id": "7aca29c2",
   "metadata": {},
   "outputs": [
    {
     "data": {
      "text/plain": [
       "'diversity/bray_curtis_emperor.qzv'"
      ]
     },
     "execution_count": 66,
     "metadata": {},
     "output_type": "execute_result"
    }
   ],
   "source": [
    "rarefied_table.save('diversity/rarefied_table.qza')\n",
    "faith_pd_vector.save('diversity/faith_pd_vector.qza')\n",
    "observed_features_vector.save('diversity/observed_features_vector.qza')\n",
    "shannon_vector.save('diversity/shannon_vector.qza')\n",
    "evenness_vector.save('diversity/evenness_vector.qza')\n",
    "unweighted_unifrac_distance_matrix.save('diversity/unweighted_unifrac_distance_matrix.qza')\n",
    "weighted_unifrac_distance_matrix.save('diversity/weighted_unifrac_distance_matrix.qza')\n",
    "jaccard_distance_matrix.save('diversity/jaccard_distance_matrix.qza')\n",
    "bray_curtis_distance_matrix.save('diversity/bray_curtis_distance_matrix.qza')\n",
    "unweighted_unifrac_pcoa_results.save('diversity/unweighted_unifrac_pcoa_results.qza')\n",
    "weighted_unifrac_pcoa_results.save('diversity/weighted_unifrac_pcoa_results.qza')\n",
    "jaccard_pcoa_results.save('diversity/jaccard_pcoa_results.qza')\n",
    "bray_curtis_pcoa_results.save('diversity/bray_curtis_pcoa_results.qza')\n",
    "unweighted_unifrac_emperor_viz.save('diversity/unweighted_unifrac_emperor.qzv')\n",
    "weighted_unifrac_emperor_viz.save('diversity/weighted_unifrac_emperor.qzv')\n",
    "jaccard_emperor_viz.save('diversity/jaccard_emperor.qzv')\n",
    "bray_curtis_emperor_viz.save('diversity/bray_curtis_emperor.qzv')"
   ]
  },
  {
   "cell_type": "code",
   "execution_count": 70,
   "id": "be8c3c80",
   "metadata": {
    "collapsed": true
   },
   "outputs": [
    {
     "data": {
      "text/html": [
       "<div><img onload=\"(function(div, url){\n",
       "if (typeof require !== 'undefined') {\n",
       "    var baseURL = require.toUrl('').split('/').slice(0, -2).join('/');\n",
       "} else {\n",
       "    var baseURL = JSON.parse(\n",
       "        document.getElementById('jupyter-config-data').innerHTML\n",
       "    ).baseUrl.slice(0, -1);\n",
       "}\n",
       "url = baseURL + url;\n",
       "fetch(url).then(function(res) {\n",
       "    if (res.status === 404) {\n",
       "        div.innerHTML = 'Install QIIME 2 Jupyter extension with:<br />' +\n",
       "                        '<code>jupyter serverextension enable --py qiime2' +\n",
       "                        ' --sys-prefix</code><br />then restart your server.' +\n",
       "                        '<br /><br />(Interactive output not available on ' +\n",
       "                        'static notebook viewer services like nbviewer.)';\n",
       "    } else if (res.status === 409) {\n",
       "        div.innerHTML = 'Visualization no longer in scope. Re-run this cell' +\n",
       "                        ' to see the visualization.';\n",
       "    } else if (res.ok) {\n",
       "        url = res.url;\n",
       "        div.innerHTML = '<iframe src=\\'' + url + '\\' style=\\'' +\n",
       "                        'width: 100%; height: 700px; border: 0;\\'>' +\n",
       "                        '</iframe><hr />Open in a: <a href=\\'' + url + '\\'' +\n",
       "                        ' target=\\'_blank\\'>new window</a>'\n",
       "    } else {\n",
       "        div.innerHTML = 'Something has gone wrong. Check notebook server for' +\n",
       "                        ' errors.';\n",
       "    }\n",
       "});\n",
       "})(this.parentElement, '/qiime2/redirect?location=/var/folders/hq/mt_9wjp90cx45qsgnk3d7qfc0000gq/T/qiime2/reziw3/data/411ff9a0-2901-4f23-a453-094761a81853')\" src=\"data:image/gif;base64,R0lGODlhAQABAIAAAP///wAAACH5BAEAAAAALAAAAAABAAEAAAICRAEAOw==\" /></div>"
      ],
      "text/plain": [
       "<visualization: Visualization uuid: 411ff9a0-2901-4f23-a453-094761a81853>"
      ]
     },
     "execution_count": 70,
     "metadata": {},
     "output_type": "execute_result"
    }
   ],
   "source": [
    "bray_curtis_emperor_viz"
   ]
  },
  {
   "cell_type": "code",
   "execution_count": 29,
   "id": "fd1fa290",
   "metadata": {},
   "outputs": [],
   "source": [
    "from qiime2 import Artifact\n",
    "faith_pd_vector=Artifact.load('diversity/faith_pd_vector.qza')\n",
    "evenness_vector=Artifact.load('diversity/evenness_vector.qza')"
   ]
  },
  {
   "cell_type": "code",
   "execution_count": 30,
   "id": "5ac72595",
   "metadata": {},
   "outputs": [],
   "source": [
    "faith_pd_group_significance_viz, = diversity_actions.alpha_group_significance(\n",
    "    alpha_diversity=faith_pd_vector,\n",
    "    metadata=sample_metadata_md,)\n",
    "\n",
    "evenness_group_significance_viz, = diversity_actions.alpha_group_significance(\n",
    "    alpha_diversity=evenness_vector,\n",
    "    metadata=sample_metadata_md,)"
   ]
  },
  {
   "cell_type": "code",
   "execution_count": 31,
   "id": "ac57386d",
   "metadata": {},
   "outputs": [
    {
     "data": {
      "text/plain": [
       "'evenness_group_significance.qzv'"
      ]
     },
     "execution_count": 31,
     "metadata": {},
     "output_type": "execute_result"
    }
   ],
   "source": [
    "faith_pd_group_significance_viz.save('faith_pd_group_significance.qzv')\n",
    "evenness_group_significance_viz.save('evenness_group_significance.qzv')"
   ]
  },
  {
   "cell_type": "code",
   "execution_count": 32,
   "id": "2d3beb27",
   "metadata": {
    "collapsed": true
   },
   "outputs": [
    {
     "data": {
      "text/html": [
       "<div><img onload=\"(function(div, url){\n",
       "if (typeof require !== 'undefined') {\n",
       "    var baseURL = require.toUrl('').split('/').slice(0, -2).join('/');\n",
       "} else {\n",
       "    var baseURL = JSON.parse(\n",
       "        document.getElementById('jupyter-config-data').innerHTML\n",
       "    ).baseUrl.slice(0, -1);\n",
       "}\n",
       "url = baseURL + url;\n",
       "fetch(url).then(function(res) {\n",
       "    if (res.status === 404) {\n",
       "        div.innerHTML = 'Install QIIME 2 Jupyter extension with:<br />' +\n",
       "                        '<code>jupyter serverextension enable --py qiime2' +\n",
       "                        ' --sys-prefix</code><br />then restart your server.' +\n",
       "                        '<br /><br />(Interactive output not available on ' +\n",
       "                        'static notebook viewer services like nbviewer.)';\n",
       "    } else if (res.status === 409) {\n",
       "        div.innerHTML = 'Visualization no longer in scope. Re-run this cell' +\n",
       "                        ' to see the visualization.';\n",
       "    } else if (res.ok) {\n",
       "        url = res.url;\n",
       "        div.innerHTML = '<iframe src=\\'' + url + '\\' style=\\'' +\n",
       "                        'width: 100%; height: 700px; border: 0;\\'>' +\n",
       "                        '</iframe><hr />Open in a: <a href=\\'' + url + '\\'' +\n",
       "                        ' target=\\'_blank\\'>new window</a>'\n",
       "    } else {\n",
       "        div.innerHTML = 'Something has gone wrong. Check notebook server for' +\n",
       "                        ' errors.';\n",
       "    }\n",
       "});\n",
       "})(this.parentElement, '/qiime2/redirect?location=/var/folders/hq/mt_9wjp90cx45qsgnk3d7qfc0000gq/T/qiime2/reziw3/data/4d917894-dd1d-4dec-a016-2c3a302a4b0d')\" src=\"data:image/gif;base64,R0lGODlhAQABAIAAAP///wAAACH5BAEAAAAALAAAAAABAAEAAAICRAEAOw==\" /></div>"
      ],
      "text/plain": [
       "<visualization: Visualization uuid: 4d917894-dd1d-4dec-a016-2c3a302a4b0d>"
      ]
     },
     "execution_count": 32,
     "metadata": {},
     "output_type": "execute_result"
    }
   ],
   "source": [
    "evenness_group_significance_viz"
   ]
  },
  {
   "cell_type": "code",
   "execution_count": 28,
   "id": "ef4980b5",
   "metadata": {
    "collapsed": true
   },
   "outputs": [
    {
     "data": {
      "text/html": [
       "<div><img onload=\"(function(div, url){\n",
       "if (typeof require !== 'undefined') {\n",
       "    var baseURL = require.toUrl('').split('/').slice(0, -2).join('/');\n",
       "} else {\n",
       "    var baseURL = JSON.parse(\n",
       "        document.getElementById('jupyter-config-data').innerHTML\n",
       "    ).baseUrl.slice(0, -1);\n",
       "}\n",
       "url = baseURL + url;\n",
       "fetch(url).then(function(res) {\n",
       "    if (res.status === 404) {\n",
       "        div.innerHTML = 'Install QIIME 2 Jupyter extension with:<br />' +\n",
       "                        '<code>jupyter serverextension enable --py qiime2' +\n",
       "                        ' --sys-prefix</code><br />then restart your server.' +\n",
       "                        '<br /><br />(Interactive output not available on ' +\n",
       "                        'static notebook viewer services like nbviewer.)';\n",
       "    } else if (res.status === 409) {\n",
       "        div.innerHTML = 'Visualization no longer in scope. Re-run this cell' +\n",
       "                        ' to see the visualization.';\n",
       "    } else if (res.ok) {\n",
       "        url = res.url;\n",
       "        div.innerHTML = '<iframe src=\\'' + url + '\\' style=\\'' +\n",
       "                        'width: 100%; height: 700px; border: 0;\\'>' +\n",
       "                        '</iframe><hr />Open in a: <a href=\\'' + url + '\\'' +\n",
       "                        ' target=\\'_blank\\'>new window</a>'\n",
       "    } else {\n",
       "        div.innerHTML = 'Something has gone wrong. Check notebook server for' +\n",
       "                        ' errors.';\n",
       "    }\n",
       "});\n",
       "})(this.parentElement, '/qiime2/redirect?location=/var/folders/hq/mt_9wjp90cx45qsgnk3d7qfc0000gq/T/qiime2/reziw3/data/501ababa-e109-4403-a012-8c6593910148')\" src=\"data:image/gif;base64,R0lGODlhAQABAIAAAP///wAAACH5BAEAAAAALAAAAAABAAEAAAICRAEAOw==\" /></div>"
      ],
      "text/plain": [
       "<visualization: Visualization uuid: 501ababa-e109-4403-a012-8c6593910148>"
      ]
     },
     "execution_count": 28,
     "metadata": {},
     "output_type": "execute_result"
    }
   ],
   "source": [
    "faith_pd_group_significance_viz"
   ]
  },
  {
   "cell_type": "code",
   "execution_count": 39,
   "id": "78406b88",
   "metadata": {},
   "outputs": [],
   "source": [
    "hctsource_mdc = sample_metadata_md.get_column('HCTSource')\n",
    "unweighted_unifrac_disease_group_significance_viz, = diversity_actions.beta_group_significance(\n",
    "    distance_matrix=unweighted_unifrac_distance_matrix,\n",
    "    metadata=hctsource_mdc,\n",
    "    pairwise=True,)"
   ]
  },
  {
   "cell_type": "code",
   "execution_count": 48,
   "id": "6ce7eced",
   "metadata": {},
   "outputs": [
    {
     "data": {
      "text/plain": [
       "'unweighted_unifrac_disease_group_significance.qzv'"
      ]
     },
     "execution_count": 48,
     "metadata": {},
     "output_type": "execute_result"
    }
   ],
   "source": [
    "unweighted_unifrac_disease_group_significance_viz.save('unweighted_unifrac_disease_group_significance.qzv')"
   ]
  },
  {
   "cell_type": "code",
   "execution_count": 40,
   "id": "b4a24444",
   "metadata": {
    "collapsed": true
   },
   "outputs": [
    {
     "data": {
      "text/html": [
       "<div><img onload=\"(function(div, url){\n",
       "if (typeof require !== 'undefined') {\n",
       "    var baseURL = require.toUrl('').split('/').slice(0, -2).join('/');\n",
       "} else {\n",
       "    var baseURL = JSON.parse(\n",
       "        document.getElementById('jupyter-config-data').innerHTML\n",
       "    ).baseUrl.slice(0, -1);\n",
       "}\n",
       "url = baseURL + url;\n",
       "fetch(url).then(function(res) {\n",
       "    if (res.status === 404) {\n",
       "        div.innerHTML = 'Install QIIME 2 Jupyter extension with:<br />' +\n",
       "                        '<code>jupyter serverextension enable --py qiime2' +\n",
       "                        ' --sys-prefix</code><br />then restart your server.' +\n",
       "                        '<br /><br />(Interactive output not available on ' +\n",
       "                        'static notebook viewer services like nbviewer.)';\n",
       "    } else if (res.status === 409) {\n",
       "        div.innerHTML = 'Visualization no longer in scope. Re-run this cell' +\n",
       "                        ' to see the visualization.';\n",
       "    } else if (res.ok) {\n",
       "        url = res.url;\n",
       "        div.innerHTML = '<iframe src=\\'' + url + '\\' style=\\'' +\n",
       "                        'width: 100%; height: 700px; border: 0;\\'>' +\n",
       "                        '</iframe><hr />Open in a: <a href=\\'' + url + '\\'' +\n",
       "                        ' target=\\'_blank\\'>new window</a>'\n",
       "    } else {\n",
       "        div.innerHTML = 'Something has gone wrong. Check notebook server for' +\n",
       "                        ' errors.';\n",
       "    }\n",
       "});\n",
       "})(this.parentElement, '/qiime2/redirect?location=/var/folders/hq/mt_9wjp90cx45qsgnk3d7qfc0000gq/T/qiime2/reziw3/data/be93496a-ed2d-4a88-b6b0-96ea4953af8a')\" src=\"data:image/gif;base64,R0lGODlhAQABAIAAAP///wAAACH5BAEAAAAALAAAAAABAAEAAAICRAEAOw==\" /></div>"
      ],
      "text/plain": [
       "<visualization: Visualization uuid: be93496a-ed2d-4a88-b6b0-96ea4953af8a>"
      ]
     },
     "execution_count": 40,
     "metadata": {},
     "output_type": "execute_result"
    }
   ],
   "source": [
    "unweighted_unifrac_disease_group_significance_viz"
   ]
  },
  {
   "cell_type": "code",
   "execution_count": 46,
   "id": "c7a769b6",
   "metadata": {},
   "outputs": [],
   "source": [
    "from qiime2 import Visualization\n",
    "filtered_table_4_summ_viz=Visualization.load('filtered_table_4_summ.qzv')"
   ]
  },
  {
   "cell_type": "code",
   "execution_count": 47,
   "id": "49329163",
   "metadata": {
    "collapsed": true
   },
   "outputs": [
    {
     "data": {
      "text/html": [
       "<div><img onload=\"(function(div, url){\n",
       "if (typeof require !== 'undefined') {\n",
       "    var baseURL = require.toUrl('').split('/').slice(0, -2).join('/');\n",
       "} else {\n",
       "    var baseURL = JSON.parse(\n",
       "        document.getElementById('jupyter-config-data').innerHTML\n",
       "    ).baseUrl.slice(0, -1);\n",
       "}\n",
       "url = baseURL + url;\n",
       "fetch(url).then(function(res) {\n",
       "    if (res.status === 404) {\n",
       "        div.innerHTML = 'Install QIIME 2 Jupyter extension with:<br />' +\n",
       "                        '<code>jupyter serverextension enable --py qiime2' +\n",
       "                        ' --sys-prefix</code><br />then restart your server.' +\n",
       "                        '<br /><br />(Interactive output not available on ' +\n",
       "                        'static notebook viewer services like nbviewer.)';\n",
       "    } else if (res.status === 409) {\n",
       "        div.innerHTML = 'Visualization no longer in scope. Re-run this cell' +\n",
       "                        ' to see the visualization.';\n",
       "    } else if (res.ok) {\n",
       "        url = res.url;\n",
       "        div.innerHTML = '<iframe src=\\'' + url + '\\' style=\\'' +\n",
       "                        'width: 100%; height: 700px; border: 0;\\'>' +\n",
       "                        '</iframe><hr />Open in a: <a href=\\'' + url + '\\'' +\n",
       "                        ' target=\\'_blank\\'>new window</a>'\n",
       "    } else {\n",
       "        div.innerHTML = 'Something has gone wrong. Check notebook server for' +\n",
       "                        ' errors.';\n",
       "    }\n",
       "});\n",
       "})(this.parentElement, '/qiime2/redirect?location=/var/folders/hq/mt_9wjp90cx45qsgnk3d7qfc0000gq/T/qiime2/reziw3/data/d1eaade5-84dd-46d2-9d8a-7d791c0fb8f5')\" src=\"data:image/gif;base64,R0lGODlhAQABAIAAAP///wAAACH5BAEAAAAALAAAAAABAAEAAAICRAEAOw==\" /></div>"
      ],
      "text/plain": [
       "<visualization: Visualization uuid: d1eaade5-84dd-46d2-9d8a-7d791c0fb8f5>"
      ]
     },
     "execution_count": 47,
     "metadata": {},
     "output_type": "execute_result"
    }
   ],
   "source": [
    "filtered_table_4_summ_viz"
   ]
  },
  {
   "cell_type": "code",
   "execution_count": 8,
   "id": "0d45c6f1",
   "metadata": {},
   "outputs": [],
   "source": []
  },
  {
   "cell_type": "code",
   "execution_count": null,
   "id": "3c4c2a21",
   "metadata": {},
   "outputs": [],
   "source": [
    "#Alpha diversity"
   ]
  },
  {
   "cell_type": "code",
   "execution_count": 71,
   "id": "bce307c7",
   "metadata": {},
   "outputs": [],
   "source": [
    "alpha_group_sig_obs_feats_viz, = diversity_actions.alpha_group_significance(\n",
    "    alpha_diversity=observed_features_vector,\n",
    "    metadata=sample_metadata_md,)"
   ]
  },
  {
   "cell_type": "code",
   "execution_count": 72,
   "id": "cc4406ae",
   "metadata": {},
   "outputs": [
    {
     "data": {
      "text/plain": [
       "'alpha-group-sig-obs-feats.qzv'"
      ]
     },
     "execution_count": 72,
     "metadata": {},
     "output_type": "execute_result"
    }
   ],
   "source": [
    "alpha_group_sig_obs_feats_viz.save('alpha-group-sig-obs-feats.qzv')"
   ]
  },
  {
   "cell_type": "code",
   "execution_count": 73,
   "id": "788d2a2b",
   "metadata": {
    "collapsed": true
   },
   "outputs": [
    {
     "data": {
      "text/html": [
       "<div><img onload=\"(function(div, url){\n",
       "if (typeof require !== 'undefined') {\n",
       "    var baseURL = require.toUrl('').split('/').slice(0, -2).join('/');\n",
       "} else {\n",
       "    var baseURL = JSON.parse(\n",
       "        document.getElementById('jupyter-config-data').innerHTML\n",
       "    ).baseUrl.slice(0, -1);\n",
       "}\n",
       "url = baseURL + url;\n",
       "fetch(url).then(function(res) {\n",
       "    if (res.status === 404) {\n",
       "        div.innerHTML = 'Install QIIME 2 Jupyter extension with:<br />' +\n",
       "                        '<code>jupyter serverextension enable --py qiime2' +\n",
       "                        ' --sys-prefix</code><br />then restart your server.' +\n",
       "                        '<br /><br />(Interactive output not available on ' +\n",
       "                        'static notebook viewer services like nbviewer.)';\n",
       "    } else if (res.status === 409) {\n",
       "        div.innerHTML = 'Visualization no longer in scope. Re-run this cell' +\n",
       "                        ' to see the visualization.';\n",
       "    } else if (res.ok) {\n",
       "        url = res.url;\n",
       "        div.innerHTML = '<iframe src=\\'' + url + '\\' style=\\'' +\n",
       "                        'width: 100%; height: 700px; border: 0;\\'>' +\n",
       "                        '</iframe><hr />Open in a: <a href=\\'' + url + '\\'' +\n",
       "                        ' target=\\'_blank\\'>new window</a>'\n",
       "    } else {\n",
       "        div.innerHTML = 'Something has gone wrong. Check notebook server for' +\n",
       "                        ' errors.';\n",
       "    }\n",
       "});\n",
       "})(this.parentElement, '/qiime2/redirect?location=/var/folders/hq/mt_9wjp90cx45qsgnk3d7qfc0000gq/T/qiime2/reziw3/data/b77fcd97-70bf-4c9e-b001-388ab2157e14')\" src=\"data:image/gif;base64,R0lGODlhAQABAIAAAP///wAAACH5BAEAAAAALAAAAAABAAEAAAICRAEAOw==\" /></div>"
      ],
      "text/plain": [
       "<visualization: Visualization uuid: b77fcd97-70bf-4c9e-b001-388ab2157e14>"
      ]
     },
     "execution_count": 73,
     "metadata": {},
     "output_type": "execute_result"
    }
   ],
   "source": [
    "alpha_group_sig_obs_feats_viz"
   ]
  },
  {
   "cell_type": "code",
   "execution_count": 74,
   "id": "1a470135",
   "metadata": {},
   "outputs": [
    {
     "name": "stderr",
     "output_type": "stream",
     "text": [
      "/opt/miniconda3/envs/qiime2a/lib/python3.8/site-packages/statsmodels/base/model.py:607: ConvergenceWarning: Maximum Likelihood optimization failed to converge. Check mle_retvals\n",
      "  warnings.warn(\"Maximum Likelihood optimization failed to \"\n",
      "/opt/miniconda3/envs/qiime2a/lib/python3.8/site-packages/statsmodels/regression/mixed_linear_model.py:2201: ConvergenceWarning: Retrying MixedLM optimization with lbfgs\n",
      "  warnings.warn(\n",
      "/opt/miniconda3/envs/qiime2a/lib/python3.8/site-packages/statsmodels/base/model.py:607: ConvergenceWarning: Maximum Likelihood optimization failed to converge. Check mle_retvals\n",
      "  warnings.warn(\"Maximum Likelihood optimization failed to \"\n",
      "/opt/miniconda3/envs/qiime2a/lib/python3.8/site-packages/statsmodels/regression/mixed_linear_model.py:2201: ConvergenceWarning: Retrying MixedLM optimization with cg\n",
      "  warnings.warn(\n",
      "/opt/miniconda3/envs/qiime2a/lib/python3.8/site-packages/statsmodels/base/model.py:607: ConvergenceWarning: Maximum Likelihood optimization failed to converge. Check mle_retvals\n",
      "  warnings.warn(\"Maximum Likelihood optimization failed to \"\n",
      "/opt/miniconda3/envs/qiime2a/lib/python3.8/site-packages/statsmodels/regression/mixed_linear_model.py:2207: ConvergenceWarning: MixedLM optimization failed, trying a different optimizer may help.\n",
      "  warnings.warn(msg, ConvergenceWarning)\n",
      "/opt/miniconda3/envs/qiime2a/lib/python3.8/site-packages/statsmodels/regression/mixed_linear_model.py:2219: ConvergenceWarning: Gradient optimization failed, |grad| = 6.649234\n",
      "  warnings.warn(msg, ConvergenceWarning)\n",
      "No artists with labels found to put in legend.  Note that artists whose label start with an underscore are ignored when legend() is called with no argument.\n",
      "No artists with labels found to put in legend.  Note that artists whose label start with an underscore are ignored when legend() is called with no argument.\n",
      "/opt/miniconda3/envs/qiime2a/lib/python3.8/site-packages/q2_longitudinal/_longitudinal.py:327: UserWarning: This is only a warning, and the results of this action are still valid. The column name \"predicted observed_features\" already exists in your metadata file. Any \"raw\" metadata that can be downloaded from the resulting visualization will contain overwritten values for this metadata column, not the original values.\n",
      "  warnings.warn(warning, UserWarning)\n"
     ]
    }
   ],
   "source": [
    "import qiime2.plugins.longitudinal.actions as longitudinal_actions\n",
    "\n",
    "md_observed_features_md = observed_features_vector.view(Metadata)\n",
    "merged_observed_features_md = sample_metadata_md.merge(md_observed_features_md)\n",
    "lme_obs_features_HCT_viz, = longitudinal_actions.linear_mixed_effects(\n",
    "    metadata=merged_observed_features_md,\n",
    "    state_column='DayRelativeToNearestHCT',\n",
    "    individual_id_column='PatientID',\n",
    "    metric='observed_features',)"
   ]
  },
  {
   "cell_type": "code",
   "execution_count": 75,
   "id": "00def1c4",
   "metadata": {},
   "outputs": [
    {
     "data": {
      "text/plain": [
       "'lme_obs_features_HCT.qzv'"
      ]
     },
     "execution_count": 75,
     "metadata": {},
     "output_type": "execute_result"
    }
   ],
   "source": [
    "lme_obs_features_HCT_viz.save('lme_obs_features_HCT.qzv')"
   ]
  },
  {
   "cell_type": "code",
   "execution_count": 76,
   "id": "726b1524",
   "metadata": {
    "collapsed": true
   },
   "outputs": [
    {
     "data": {
      "text/html": [
       "<div><img onload=\"(function(div, url){\n",
       "if (typeof require !== 'undefined') {\n",
       "    var baseURL = require.toUrl('').split('/').slice(0, -2).join('/');\n",
       "} else {\n",
       "    var baseURL = JSON.parse(\n",
       "        document.getElementById('jupyter-config-data').innerHTML\n",
       "    ).baseUrl.slice(0, -1);\n",
       "}\n",
       "url = baseURL + url;\n",
       "fetch(url).then(function(res) {\n",
       "    if (res.status === 404) {\n",
       "        div.innerHTML = 'Install QIIME 2 Jupyter extension with:<br />' +\n",
       "                        '<code>jupyter serverextension enable --py qiime2' +\n",
       "                        ' --sys-prefix</code><br />then restart your server.' +\n",
       "                        '<br /><br />(Interactive output not available on ' +\n",
       "                        'static notebook viewer services like nbviewer.)';\n",
       "    } else if (res.status === 409) {\n",
       "        div.innerHTML = 'Visualization no longer in scope. Re-run this cell' +\n",
       "                        ' to see the visualization.';\n",
       "    } else if (res.ok) {\n",
       "        url = res.url;\n",
       "        div.innerHTML = '<iframe src=\\'' + url + '\\' style=\\'' +\n",
       "                        'width: 100%; height: 700px; border: 0;\\'>' +\n",
       "                        '</iframe><hr />Open in a: <a href=\\'' + url + '\\'' +\n",
       "                        ' target=\\'_blank\\'>new window</a>'\n",
       "    } else {\n",
       "        div.innerHTML = 'Something has gone wrong. Check notebook server for' +\n",
       "                        ' errors.';\n",
       "    }\n",
       "});\n",
       "})(this.parentElement, '/qiime2/redirect?location=/var/folders/hq/mt_9wjp90cx45qsgnk3d7qfc0000gq/T/qiime2/reziw3/data/5dd621b6-559e-442b-8ddf-707e272d03ee')\" src=\"data:image/gif;base64,R0lGODlhAQABAIAAAP///wAAACH5BAEAAAAALAAAAAABAAEAAAICRAEAOw==\" /></div>"
      ],
      "text/plain": [
       "<visualization: Visualization uuid: 5dd621b6-559e-442b-8ddf-707e272d03ee>"
      ]
     },
     "execution_count": 76,
     "metadata": {},
     "output_type": "execute_result"
    }
   ],
   "source": [
    "lme_obs_features_HCT_viz"
   ]
  },
  {
   "cell_type": "code",
   "execution_count": 80,
   "id": "8492f1a0",
   "metadata": {},
   "outputs": [
    {
     "name": "stderr",
     "output_type": "stream",
     "text": [
      "/opt/miniconda3/envs/qiime2a/lib/python3.8/site-packages/statsmodels/base/model.py:607: ConvergenceWarning: Maximum Likelihood optimization failed to converge. Check mle_retvals\n",
      "  warnings.warn(\"Maximum Likelihood optimization failed to \"\n",
      "/opt/miniconda3/envs/qiime2a/lib/python3.8/site-packages/statsmodels/regression/mixed_linear_model.py:2201: ConvergenceWarning: Retrying MixedLM optimization with lbfgs\n",
      "  warnings.warn(\n",
      "/opt/miniconda3/envs/qiime2a/lib/python3.8/site-packages/statsmodels/base/model.py:607: ConvergenceWarning: Maximum Likelihood optimization failed to converge. Check mle_retvals\n",
      "  warnings.warn(\"Maximum Likelihood optimization failed to \"\n",
      "/opt/miniconda3/envs/qiime2a/lib/python3.8/site-packages/statsmodels/regression/mixed_linear_model.py:2201: ConvergenceWarning: Retrying MixedLM optimization with cg\n",
      "  warnings.warn(\n",
      "/opt/miniconda3/envs/qiime2a/lib/python3.8/site-packages/statsmodels/base/model.py:607: ConvergenceWarning: Maximum Likelihood optimization failed to converge. Check mle_retvals\n",
      "  warnings.warn(\"Maximum Likelihood optimization failed to \"\n",
      "/opt/miniconda3/envs/qiime2a/lib/python3.8/site-packages/statsmodels/regression/mixed_linear_model.py:2207: ConvergenceWarning: MixedLM optimization failed, trying a different optimizer may help.\n",
      "  warnings.warn(msg, ConvergenceWarning)\n",
      "/opt/miniconda3/envs/qiime2a/lib/python3.8/site-packages/statsmodels/regression/mixed_linear_model.py:2219: ConvergenceWarning: Gradient optimization failed, |grad| = 6.458606\n",
      "  warnings.warn(msg, ConvergenceWarning)\n",
      "No artists with labels found to put in legend.  Note that artists whose label start with an underscore are ignored when legend() is called with no argument.\n",
      "No artists with labels found to put in legend.  Note that artists whose label start with an underscore are ignored when legend() is called with no argument.\n",
      "/opt/miniconda3/envs/qiime2a/lib/python3.8/site-packages/q2_longitudinal/_longitudinal.py:327: UserWarning: This is only a warning, and the results of this action are still valid. The column name \"predicted observed_features\" already exists in your metadata file. Any \"raw\" metadata that can be downloaded from the resulting visualization will contain overwritten values for this metadata column, not the original values.\n",
      "  warnings.warn(warning, UserWarning)\n"
     ]
    }
   ],
   "source": [
    "lme_obs_features_FMT_viz, = longitudinal_actions.linear_mixed_effects(\n",
    "    metadata=merged_observed_features_md,\n",
    "    state_column='day-relative-to-fmt',\n",
    "    individual_id_column='PatientID',\n",
    "    metric='observed_features',)"
   ]
  },
  {
   "cell_type": "code",
   "execution_count": 81,
   "id": "a86cac4b",
   "metadata": {},
   "outputs": [
    {
     "data": {
      "text/plain": [
       "'lme_obs_features_FMT.qzv'"
      ]
     },
     "execution_count": 81,
     "metadata": {},
     "output_type": "execute_result"
    }
   ],
   "source": [
    "lme_obs_features_FMT_viz.save('lme_obs_features_FMT.qzv')"
   ]
  },
  {
   "cell_type": "code",
   "execution_count": 82,
   "id": "3cf097f3",
   "metadata": {
    "collapsed": true
   },
   "outputs": [
    {
     "data": {
      "text/html": [
       "<div><img onload=\"(function(div, url){\n",
       "if (typeof require !== 'undefined') {\n",
       "    var baseURL = require.toUrl('').split('/').slice(0, -2).join('/');\n",
       "} else {\n",
       "    var baseURL = JSON.parse(\n",
       "        document.getElementById('jupyter-config-data').innerHTML\n",
       "    ).baseUrl.slice(0, -1);\n",
       "}\n",
       "url = baseURL + url;\n",
       "fetch(url).then(function(res) {\n",
       "    if (res.status === 404) {\n",
       "        div.innerHTML = 'Install QIIME 2 Jupyter extension with:<br />' +\n",
       "                        '<code>jupyter serverextension enable --py qiime2' +\n",
       "                        ' --sys-prefix</code><br />then restart your server.' +\n",
       "                        '<br /><br />(Interactive output not available on ' +\n",
       "                        'static notebook viewer services like nbviewer.)';\n",
       "    } else if (res.status === 409) {\n",
       "        div.innerHTML = 'Visualization no longer in scope. Re-run this cell' +\n",
       "                        ' to see the visualization.';\n",
       "    } else if (res.ok) {\n",
       "        url = res.url;\n",
       "        div.innerHTML = '<iframe src=\\'' + url + '\\' style=\\'' +\n",
       "                        'width: 100%; height: 700px; border: 0;\\'>' +\n",
       "                        '</iframe><hr />Open in a: <a href=\\'' + url + '\\'' +\n",
       "                        ' target=\\'_blank\\'>new window</a>'\n",
       "    } else {\n",
       "        div.innerHTML = 'Something has gone wrong. Check notebook server for' +\n",
       "                        ' errors.';\n",
       "    }\n",
       "});\n",
       "})(this.parentElement, '/qiime2/redirect?location=/var/folders/hq/mt_9wjp90cx45qsgnk3d7qfc0000gq/T/qiime2/reziw3/data/772ce856-e0bd-4ea3-a5bd-51714ba532af')\" src=\"data:image/gif;base64,R0lGODlhAQABAIAAAP///wAAACH5BAEAAAAALAAAAAABAAEAAAICRAEAOw==\" /></div>"
      ],
      "text/plain": [
       "<visualization: Visualization uuid: 772ce856-e0bd-4ea3-a5bd-51714ba532af>"
      ]
     },
     "execution_count": 82,
     "metadata": {},
     "output_type": "execute_result"
    }
   ],
   "source": [
    "lme_obs_features_FMT_viz"
   ]
  },
  {
   "cell_type": "code",
   "execution_count": 77,
   "id": "0b66da11",
   "metadata": {},
   "outputs": [
    {
     "name": "stderr",
     "output_type": "stream",
     "text": [
      "/opt/miniconda3/envs/qiime2a/lib/python3.8/site-packages/statsmodels/base/model.py:607: ConvergenceWarning: Maximum Likelihood optimization failed to converge. Check mle_retvals\n",
      "  warnings.warn(\"Maximum Likelihood optimization failed to \"\n",
      "/opt/miniconda3/envs/qiime2a/lib/python3.8/site-packages/statsmodels/regression/mixed_linear_model.py:2201: ConvergenceWarning: Retrying MixedLM optimization with lbfgs\n",
      "  warnings.warn(\n",
      "/opt/miniconda3/envs/qiime2a/lib/python3.8/site-packages/q2_longitudinal/_longitudinal.py:327: UserWarning: This is only a warning, and the results of this action are still valid. The column name \"predicted observed_features\" already exists in your metadata file. Any \"raw\" metadata that can be downloaded from the resulting visualization will contain overwritten values for this metadata column, not the original values.\n",
      "  warnings.warn(warning, UserWarning)\n"
     ]
    }
   ],
   "source": [
    "lme_obs_features_treatmentVScontrol_viz, = longitudinal_actions.linear_mixed_effects(\n",
    "    metadata=merged_observed_features_md,\n",
    "    state_column='day-relative-to-fmt',\n",
    "    group_columns='autoFmtGroup',\n",
    "    individual_id_column='PatientID',\n",
    "    metric='observed_features',)"
   ]
  },
  {
   "cell_type": "code",
   "execution_count": 78,
   "id": "8d516ca7",
   "metadata": {},
   "outputs": [
    {
     "data": {
      "text/plain": [
       "'lme_obs_features_treatmentVScontrol.qzv'"
      ]
     },
     "execution_count": 78,
     "metadata": {},
     "output_type": "execute_result"
    }
   ],
   "source": [
    "lme_obs_features_treatmentVScontrol_viz.save('lme_obs_features_treatmentVScontrol.qzv')"
   ]
  },
  {
   "cell_type": "code",
   "execution_count": 79,
   "id": "56082ecc",
   "metadata": {
    "collapsed": true
   },
   "outputs": [
    {
     "data": {
      "text/html": [
       "<div><img onload=\"(function(div, url){\n",
       "if (typeof require !== 'undefined') {\n",
       "    var baseURL = require.toUrl('').split('/').slice(0, -2).join('/');\n",
       "} else {\n",
       "    var baseURL = JSON.parse(\n",
       "        document.getElementById('jupyter-config-data').innerHTML\n",
       "    ).baseUrl.slice(0, -1);\n",
       "}\n",
       "url = baseURL + url;\n",
       "fetch(url).then(function(res) {\n",
       "    if (res.status === 404) {\n",
       "        div.innerHTML = 'Install QIIME 2 Jupyter extension with:<br />' +\n",
       "                        '<code>jupyter serverextension enable --py qiime2' +\n",
       "                        ' --sys-prefix</code><br />then restart your server.' +\n",
       "                        '<br /><br />(Interactive output not available on ' +\n",
       "                        'static notebook viewer services like nbviewer.)';\n",
       "    } else if (res.status === 409) {\n",
       "        div.innerHTML = 'Visualization no longer in scope. Re-run this cell' +\n",
       "                        ' to see the visualization.';\n",
       "    } else if (res.ok) {\n",
       "        url = res.url;\n",
       "        div.innerHTML = '<iframe src=\\'' + url + '\\' style=\\'' +\n",
       "                        'width: 100%; height: 700px; border: 0;\\'>' +\n",
       "                        '</iframe><hr />Open in a: <a href=\\'' + url + '\\'' +\n",
       "                        ' target=\\'_blank\\'>new window</a>'\n",
       "    } else {\n",
       "        div.innerHTML = 'Something has gone wrong. Check notebook server for' +\n",
       "                        ' errors.';\n",
       "    }\n",
       "});\n",
       "})(this.parentElement, '/qiime2/redirect?location=/var/folders/hq/mt_9wjp90cx45qsgnk3d7qfc0000gq/T/qiime2/reziw3/data/88c5d17c-a02a-4c50-a094-a30c9c892002')\" src=\"data:image/gif;base64,R0lGODlhAQABAIAAAP///wAAACH5BAEAAAAALAAAAAABAAEAAAICRAEAOw==\" /></div>"
      ],
      "text/plain": [
       "<visualization: Visualization uuid: 88c5d17c-a02a-4c50-a094-a30c9c892002>"
      ]
     },
     "execution_count": 79,
     "metadata": {},
     "output_type": "execute_result"
    }
   ],
   "source": [
    "lme_obs_features_treatmentVScontrol_viz"
   ]
  },
  {
   "cell_type": "code",
   "execution_count": null,
   "id": "3b4e15f9",
   "metadata": {},
   "outputs": [],
   "source": []
  },
  {
   "cell_type": "code",
   "execution_count": null,
   "id": "097e0823",
   "metadata": {},
   "outputs": [],
   "source": [
    "#Beta diversity"
   ]
  },
  {
   "cell_type": "code",
   "execution_count": 83,
   "id": "f101b30f",
   "metadata": {},
   "outputs": [
    {
     "name": "stderr",
     "output_type": "stream",
     "text": [
      "/opt/miniconda3/envs/qiime2a/lib/python3.8/site-packages/q2_diversity/_ordination.py:103: FutureWarning: The default dtype for empty Series will be 'object' instead of 'float64' in a future version. Specify a dtype explicitly to silence this warning.\n",
      "  proportion_explained=pd.Series(None, index=axis_labels),\n",
      "/opt/miniconda3/envs/qiime2a/lib/python3.8/site-packages/q2_diversity/_ordination.py:103: FutureWarning: The default dtype for empty Series will be 'object' instead of 'float64' in a future version. Specify a dtype explicitly to silence this warning.\n",
      "  proportion_explained=pd.Series(None, index=axis_labels),\n"
     ]
    }
   ],
   "source": [
    "uu_umap, = diversity_actions.umap(\n",
    "    distance_matrix=unweighted_unifrac_distance_matrix,)\n",
    "\n",
    "wu_umap, = diversity_actions.umap(\n",
    "    distance_matrix=weighted_unifrac_distance_matrix,)"
   ]
  },
  {
   "cell_type": "code",
   "execution_count": 84,
   "id": "ee05dcf1",
   "metadata": {},
   "outputs": [
    {
     "data": {
      "text/plain": [
       "'wu_umap.qza'"
      ]
     },
     "execution_count": 84,
     "metadata": {},
     "output_type": "execute_result"
    }
   ],
   "source": [
    "uu_umap.save('uu_umap.qza')\n",
    "wu_umap.save('wu_umap.qza')"
   ]
  },
  {
   "cell_type": "code",
   "execution_count": 85,
   "id": "0abdc851",
   "metadata": {},
   "outputs": [],
   "source": [
    "uu_umap_as_metadata_md = uu_umap.view(Metadata)\n",
    "faith_pd_as_metadata_md = faith_pd_vector.view(Metadata)\n",
    "evenness_as_metadata_md = evenness_vector.view(Metadata)\n",
    "shannon_as_metadata_md = shannon_vector.view(Metadata)\n",
    "expanded_sample_metadata_md = sample_metadata_md.merge(uu_umap_as_metadata_md, faith_pd_as_metadata_md, evenness_as_metadata_md, shannon_as_metadata_md)"
   ]
  },
  {
   "cell_type": "code",
   "execution_count": 86,
   "id": "36a02f40",
   "metadata": {},
   "outputs": [],
   "source": [
    "expanded_metadata_summ_viz, = metadata_actions.tabulate(\n",
    "    input=expanded_sample_metadata_md,)"
   ]
  },
  {
   "cell_type": "code",
   "execution_count": 87,
   "id": "341785bf",
   "metadata": {},
   "outputs": [
    {
     "data": {
      "text/plain": [
       "'expanded_metadata_summ.qzv'"
      ]
     },
     "execution_count": 87,
     "metadata": {},
     "output_type": "execute_result"
    }
   ],
   "source": [
    "expanded_metadata_summ_viz.save('expanded_metadata_summ.qzv')"
   ]
  },
  {
   "cell_type": "code",
   "execution_count": 88,
   "id": "ffbf51cc",
   "metadata": {
    "collapsed": true
   },
   "outputs": [
    {
     "data": {
      "text/html": [
       "<div><img onload=\"(function(div, url){\n",
       "if (typeof require !== 'undefined') {\n",
       "    var baseURL = require.toUrl('').split('/').slice(0, -2).join('/');\n",
       "} else {\n",
       "    var baseURL = JSON.parse(\n",
       "        document.getElementById('jupyter-config-data').innerHTML\n",
       "    ).baseUrl.slice(0, -1);\n",
       "}\n",
       "url = baseURL + url;\n",
       "fetch(url).then(function(res) {\n",
       "    if (res.status === 404) {\n",
       "        div.innerHTML = 'Install QIIME 2 Jupyter extension with:<br />' +\n",
       "                        '<code>jupyter serverextension enable --py qiime2' +\n",
       "                        ' --sys-prefix</code><br />then restart your server.' +\n",
       "                        '<br /><br />(Interactive output not available on ' +\n",
       "                        'static notebook viewer services like nbviewer.)';\n",
       "    } else if (res.status === 409) {\n",
       "        div.innerHTML = 'Visualization no longer in scope. Re-run this cell' +\n",
       "                        ' to see the visualization.';\n",
       "    } else if (res.ok) {\n",
       "        url = res.url;\n",
       "        div.innerHTML = '<iframe src=\\'' + url + '\\' style=\\'' +\n",
       "                        'width: 100%; height: 700px; border: 0;\\'>' +\n",
       "                        '</iframe><hr />Open in a: <a href=\\'' + url + '\\'' +\n",
       "                        ' target=\\'_blank\\'>new window</a>'\n",
       "    } else {\n",
       "        div.innerHTML = 'Something has gone wrong. Check notebook server for' +\n",
       "                        ' errors.';\n",
       "    }\n",
       "});\n",
       "})(this.parentElement, '/qiime2/redirect?location=/var/folders/hq/mt_9wjp90cx45qsgnk3d7qfc0000gq/T/qiime2/reziw3/data/c90bf3ff-252a-418e-83bc-06970b852346')\" src=\"data:image/gif;base64,R0lGODlhAQABAIAAAP///wAAACH5BAEAAAAALAAAAAABAAEAAAICRAEAOw==\" /></div>"
      ],
      "text/plain": [
       "<visualization: Visualization uuid: c90bf3ff-252a-418e-83bc-06970b852346>"
      ]
     },
     "execution_count": 88,
     "metadata": {},
     "output_type": "execute_result"
    }
   ],
   "source": [
    "expanded_metadata_summ_viz"
   ]
  },
  {
   "cell_type": "code",
   "execution_count": 89,
   "id": "5a21e39b",
   "metadata": {},
   "outputs": [],
   "source": [
    "taxa_bar_plots_2_viz, = taxa_actions.barplot(\n",
    "    table=filtered_table_4,\n",
    "    taxonomy=taxonomy,\n",
    "    metadata=expanded_sample_metadata_md,)"
   ]
  },
  {
   "cell_type": "code",
   "execution_count": 90,
   "id": "ff63d62e",
   "metadata": {},
   "outputs": [
    {
     "data": {
      "text/plain": [
       "'taxa_bar_plots_2.qzv'"
      ]
     },
     "execution_count": 90,
     "metadata": {},
     "output_type": "execute_result"
    }
   ],
   "source": [
    "taxa_bar_plots_2_viz.save('taxa_bar_plots_2.qzv')"
   ]
  },
  {
   "cell_type": "code",
   "execution_count": 91,
   "id": "cf44a607",
   "metadata": {
    "collapsed": true
   },
   "outputs": [
    {
     "data": {
      "text/html": [
       "<div><img onload=\"(function(div, url){\n",
       "if (typeof require !== 'undefined') {\n",
       "    var baseURL = require.toUrl('').split('/').slice(0, -2).join('/');\n",
       "} else {\n",
       "    var baseURL = JSON.parse(\n",
       "        document.getElementById('jupyter-config-data').innerHTML\n",
       "    ).baseUrl.slice(0, -1);\n",
       "}\n",
       "url = baseURL + url;\n",
       "fetch(url).then(function(res) {\n",
       "    if (res.status === 404) {\n",
       "        div.innerHTML = 'Install QIIME 2 Jupyter extension with:<br />' +\n",
       "                        '<code>jupyter serverextension enable --py qiime2' +\n",
       "                        ' --sys-prefix</code><br />then restart your server.' +\n",
       "                        '<br /><br />(Interactive output not available on ' +\n",
       "                        'static notebook viewer services like nbviewer.)';\n",
       "    } else if (res.status === 409) {\n",
       "        div.innerHTML = 'Visualization no longer in scope. Re-run this cell' +\n",
       "                        ' to see the visualization.';\n",
       "    } else if (res.ok) {\n",
       "        url = res.url;\n",
       "        div.innerHTML = '<iframe src=\\'' + url + '\\' style=\\'' +\n",
       "                        'width: 100%; height: 700px; border: 0;\\'>' +\n",
       "                        '</iframe><hr />Open in a: <a href=\\'' + url + '\\'' +\n",
       "                        ' target=\\'_blank\\'>new window</a>'\n",
       "    } else {\n",
       "        div.innerHTML = 'Something has gone wrong. Check notebook server for' +\n",
       "                        ' errors.';\n",
       "    }\n",
       "});\n",
       "})(this.parentElement, '/qiime2/redirect?location=/var/folders/hq/mt_9wjp90cx45qsgnk3d7qfc0000gq/T/qiime2/reziw3/data/45000cf7-d7fb-4988-b8a4-c11178391d5a')\" src=\"data:image/gif;base64,R0lGODlhAQABAIAAAP///wAAACH5BAEAAAAALAAAAAABAAEAAAICRAEAOw==\" /></div>"
      ],
      "text/plain": [
       "<visualization: Visualization uuid: 45000cf7-d7fb-4988-b8a4-c11178391d5a>"
      ]
     },
     "execution_count": 91,
     "metadata": {},
     "output_type": "execute_result"
    }
   ],
   "source": [
    "taxa_bar_plots_2_viz"
   ]
  },
  {
   "cell_type": "code",
   "execution_count": 92,
   "id": "ac0a61a8",
   "metadata": {},
   "outputs": [],
   "source": [
    "import qiime2.plugins.emperor.actions as emperor_actions\n",
    "\n",
    "uu_umap_emperor_w_time_viz, = emperor_actions.plot(\n",
    "    pcoa=uu_umap,\n",
    "    metadata=expanded_sample_metadata_md,\n",
    "    custom_axes=['week-relative-to-hct'],)\n",
    "\n",
    "wu_umap_emperor_w_time_viz, = emperor_actions.plot(\n",
    "    pcoa=wu_umap,\n",
    "    metadata=expanded_sample_metadata_md,\n",
    "    custom_axes=['week-relative-to-hct'],)\n",
    "\n",
    "uu_pcoa_emperor_w_time_viz, = emperor_actions.plot(\n",
    "    pcoa=unweighted_unifrac_pcoa_results,\n",
    "    metadata=expanded_sample_metadata_md,\n",
    "    custom_axes=['week-relative-to-hct'],)\n",
    "\n",
    "wu_pcoa_emperor_w_time_viz, = emperor_actions.plot(\n",
    "    pcoa=weighted_unifrac_pcoa_results,\n",
    "    metadata=expanded_sample_metadata_md,\n",
    "    custom_axes=['week-relative-to-hct'],)"
   ]
  },
  {
   "cell_type": "code",
   "execution_count": 93,
   "id": "da5b3029",
   "metadata": {},
   "outputs": [
    {
     "data": {
      "text/plain": [
       "'wu_pcoa_emperor_w_time.qzv'"
      ]
     },
     "execution_count": 93,
     "metadata": {},
     "output_type": "execute_result"
    }
   ],
   "source": [
    "uu_umap_emperor_w_time_viz.save('uu_umap_emperor_w_time.qzv')\n",
    "wu_umap_emperor_w_time_viz.save('wu_umap_emperor_w_time.qzv')\n",
    "uu_pcoa_emperor_w_time_viz.save('uu_pcoa_emperor_w_time.qzv')\n",
    "wu_pcoa_emperor_w_time_viz.save('wu_pcoa_emperor_w_time.qzv')"
   ]
  },
  {
   "cell_type": "code",
   "execution_count": 95,
   "id": "6c2ff89c",
   "metadata": {
    "collapsed": true
   },
   "outputs": [
    {
     "data": {
      "text/html": [
       "<div><img onload=\"(function(div, url){\n",
       "if (typeof require !== 'undefined') {\n",
       "    var baseURL = require.toUrl('').split('/').slice(0, -2).join('/');\n",
       "} else {\n",
       "    var baseURL = JSON.parse(\n",
       "        document.getElementById('jupyter-config-data').innerHTML\n",
       "    ).baseUrl.slice(0, -1);\n",
       "}\n",
       "url = baseURL + url;\n",
       "fetch(url).then(function(res) {\n",
       "    if (res.status === 404) {\n",
       "        div.innerHTML = 'Install QIIME 2 Jupyter extension with:<br />' +\n",
       "                        '<code>jupyter serverextension enable --py qiime2' +\n",
       "                        ' --sys-prefix</code><br />then restart your server.' +\n",
       "                        '<br /><br />(Interactive output not available on ' +\n",
       "                        'static notebook viewer services like nbviewer.)';\n",
       "    } else if (res.status === 409) {\n",
       "        div.innerHTML = 'Visualization no longer in scope. Re-run this cell' +\n",
       "                        ' to see the visualization.';\n",
       "    } else if (res.ok) {\n",
       "        url = res.url;\n",
       "        div.innerHTML = '<iframe src=\\'' + url + '\\' style=\\'' +\n",
       "                        'width: 100%; height: 700px; border: 0;\\'>' +\n",
       "                        '</iframe><hr />Open in a: <a href=\\'' + url + '\\'' +\n",
       "                        ' target=\\'_blank\\'>new window</a>'\n",
       "    } else {\n",
       "        div.innerHTML = 'Something has gone wrong. Check notebook server for' +\n",
       "                        ' errors.';\n",
       "    }\n",
       "});\n",
       "})(this.parentElement, '/qiime2/redirect?location=/var/folders/hq/mt_9wjp90cx45qsgnk3d7qfc0000gq/T/qiime2/reziw3/data/6cafa853-7331-4118-a1a9-b87955f5820e')\" src=\"data:image/gif;base64,R0lGODlhAQABAIAAAP///wAAACH5BAEAAAAALAAAAAABAAEAAAICRAEAOw==\" /></div>"
      ],
      "text/plain": [
       "<visualization: Visualization uuid: 6cafa853-7331-4118-a1a9-b87955f5820e>"
      ]
     },
     "execution_count": 95,
     "metadata": {},
     "output_type": "execute_result"
    }
   ],
   "source": [
    "wu_umap_emperor_w_time_viz"
   ]
  },
  {
   "cell_type": "code",
   "execution_count": 97,
   "id": "3a61aeea",
   "metadata": {
    "collapsed": true
   },
   "outputs": [
    {
     "data": {
      "text/html": [
       "<div><img onload=\"(function(div, url){\n",
       "if (typeof require !== 'undefined') {\n",
       "    var baseURL = require.toUrl('').split('/').slice(0, -2).join('/');\n",
       "} else {\n",
       "    var baseURL = JSON.parse(\n",
       "        document.getElementById('jupyter-config-data').innerHTML\n",
       "    ).baseUrl.slice(0, -1);\n",
       "}\n",
       "url = baseURL + url;\n",
       "fetch(url).then(function(res) {\n",
       "    if (res.status === 404) {\n",
       "        div.innerHTML = 'Install QIIME 2 Jupyter extension with:<br />' +\n",
       "                        '<code>jupyter serverextension enable --py qiime2' +\n",
       "                        ' --sys-prefix</code><br />then restart your server.' +\n",
       "                        '<br /><br />(Interactive output not available on ' +\n",
       "                        'static notebook viewer services like nbviewer.)';\n",
       "    } else if (res.status === 409) {\n",
       "        div.innerHTML = 'Visualization no longer in scope. Re-run this cell' +\n",
       "                        ' to see the visualization.';\n",
       "    } else if (res.ok) {\n",
       "        url = res.url;\n",
       "        div.innerHTML = '<iframe src=\\'' + url + '\\' style=\\'' +\n",
       "                        'width: 100%; height: 700px; border: 0;\\'>' +\n",
       "                        '</iframe><hr />Open in a: <a href=\\'' + url + '\\'' +\n",
       "                        ' target=\\'_blank\\'>new window</a>'\n",
       "    } else {\n",
       "        div.innerHTML = 'Something has gone wrong. Check notebook server for' +\n",
       "                        ' errors.';\n",
       "    }\n",
       "});\n",
       "})(this.parentElement, '/qiime2/redirect?location=/var/folders/hq/mt_9wjp90cx45qsgnk3d7qfc0000gq/T/qiime2/reziw3/data/a70d2567-0a05-4c56-842b-88bdac96f80e')\" src=\"data:image/gif;base64,R0lGODlhAQABAIAAAP///wAAACH5BAEAAAAALAAAAAABAAEAAAICRAEAOw==\" /></div>"
      ],
      "text/plain": [
       "<visualization: Visualization uuid: a70d2567-0a05-4c56-842b-88bdac96f80e>"
      ]
     },
     "execution_count": 97,
     "metadata": {},
     "output_type": "execute_result"
    }
   ],
   "source": [
    "wu_pcoa_emperor_w_time_viz"
   ]
  },
  {
   "cell_type": "code",
   "execution_count": null,
   "id": "b3d632d6",
   "metadata": {},
   "outputs": [],
   "source": []
  },
  {
   "cell_type": "code",
   "execution_count": null,
   "id": "46fc3cdf",
   "metadata": {},
   "outputs": [],
   "source": [
    "#Longitudinal microbiome analysis"
   ]
  },
  {
   "cell_type": "code",
   "execution_count": 99,
   "id": "98f7b529",
   "metadata": {},
   "outputs": [],
   "source": [
    "genus_table, = taxa_actions.collapse(\n",
    "    table=filtered_table_4,\n",
    "    taxonomy=taxonomy,\n",
    "    level=6,)"
   ]
  },
  {
   "cell_type": "code",
   "execution_count": 100,
   "id": "9be36cf5",
   "metadata": {},
   "outputs": [
    {
     "data": {
      "text/plain": [
       "'genus_table.qza'"
      ]
     },
     "execution_count": 100,
     "metadata": {},
     "output_type": "execute_result"
    }
   ],
   "source": [
    "genus_table.save('genus_table.qza')"
   ]
  },
  {
   "cell_type": "code",
   "execution_count": 101,
   "id": "13e09d6c",
   "metadata": {},
   "outputs": [],
   "source": [
    "filtered_genus_table, = feature_table_actions.filter_features_conditionally(\n",
    "    table=genus_table,\n",
    "    prevalence=0.1,\n",
    "    abundance=0.01,)"
   ]
  },
  {
   "cell_type": "code",
   "execution_count": 102,
   "id": "b64878fb",
   "metadata": {},
   "outputs": [
    {
     "data": {
      "text/plain": [
       "'filtered_genus_table.qza'"
      ]
     },
     "execution_count": 102,
     "metadata": {},
     "output_type": "execute_result"
    }
   ],
   "source": [
    "filtered_genus_table.save('filtered_genus_table.qza')"
   ]
  },
  {
   "cell_type": "code",
   "execution_count": 105,
   "id": "03668f6a",
   "metadata": {},
   "outputs": [],
   "source": [
    "genus_rf_table, = feature_table_actions.relative_frequency(\n",
    "    table=filtered_genus_table,)"
   ]
  },
  {
   "cell_type": "code",
   "execution_count": 106,
   "id": "5f880889",
   "metadata": {},
   "outputs": [
    {
     "data": {
      "text/plain": [
       "'genus_rf_table.qza'"
      ]
     },
     "execution_count": 106,
     "metadata": {},
     "output_type": "execute_result"
    }
   ],
   "source": [
    "genus_rf_table.save('genus_rf_table.qza')"
   ]
  },
  {
   "cell_type": "code",
   "execution_count": 107,
   "id": "4e096f39",
   "metadata": {},
   "outputs": [],
   "source": [
    "volatility_plot_1_viz, = longitudinal_actions.volatility(\n",
    "    table=genus_rf_table,\n",
    "    state_column='week-relative-to-hct',\n",
    "    metadata=expanded_sample_metadata_md,\n",
    "    individual_id_column='PatientID',\n",
    "    default_group_column='autoFmtGroup',)"
   ]
  },
  {
   "cell_type": "code",
   "execution_count": 108,
   "id": "21e09561",
   "metadata": {},
   "outputs": [
    {
     "data": {
      "text/plain": [
       "'volatility_plot_1.qza.qzv'"
      ]
     },
     "execution_count": 108,
     "metadata": {},
     "output_type": "execute_result"
    }
   ],
   "source": [
    "volatility_plot_1_viz.save('volatility_plot_1.qzv')"
   ]
  },
  {
   "cell_type": "code",
   "execution_count": 109,
   "id": "b67270a1",
   "metadata": {
    "collapsed": true
   },
   "outputs": [
    {
     "data": {
      "text/html": [
       "<div><img onload=\"(function(div, url){\n",
       "if (typeof require !== 'undefined') {\n",
       "    var baseURL = require.toUrl('').split('/').slice(0, -2).join('/');\n",
       "} else {\n",
       "    var baseURL = JSON.parse(\n",
       "        document.getElementById('jupyter-config-data').innerHTML\n",
       "    ).baseUrl.slice(0, -1);\n",
       "}\n",
       "url = baseURL + url;\n",
       "fetch(url).then(function(res) {\n",
       "    if (res.status === 404) {\n",
       "        div.innerHTML = 'Install QIIME 2 Jupyter extension with:<br />' +\n",
       "                        '<code>jupyter serverextension enable --py qiime2' +\n",
       "                        ' --sys-prefix</code><br />then restart your server.' +\n",
       "                        '<br /><br />(Interactive output not available on ' +\n",
       "                        'static notebook viewer services like nbviewer.)';\n",
       "    } else if (res.status === 409) {\n",
       "        div.innerHTML = 'Visualization no longer in scope. Re-run this cell' +\n",
       "                        ' to see the visualization.';\n",
       "    } else if (res.ok) {\n",
       "        url = res.url;\n",
       "        div.innerHTML = '<iframe src=\\'' + url + '\\' style=\\'' +\n",
       "                        'width: 100%; height: 700px; border: 0;\\'>' +\n",
       "                        '</iframe><hr />Open in a: <a href=\\'' + url + '\\'' +\n",
       "                        ' target=\\'_blank\\'>new window</a>'\n",
       "    } else {\n",
       "        div.innerHTML = 'Something has gone wrong. Check notebook server for' +\n",
       "                        ' errors.';\n",
       "    }\n",
       "});\n",
       "})(this.parentElement, '/qiime2/redirect?location=/var/folders/hq/mt_9wjp90cx45qsgnk3d7qfc0000gq/T/qiime2/reziw3/data/67e27ee6-1f20-451a-839f-a46076c9f66c')\" src=\"data:image/gif;base64,R0lGODlhAQABAIAAAP///wAAACH5BAEAAAAALAAAAAABAAEAAAICRAEAOw==\" /></div>"
      ],
      "text/plain": [
       "<visualization: Visualization uuid: 67e27ee6-1f20-451a-839f-a46076c9f66c>"
      ]
     },
     "execution_count": 109,
     "metadata": {},
     "output_type": "execute_result"
    }
   ],
   "source": [
    "volatility_plot_1_viz"
   ]
  },
  {
   "cell_type": "code",
   "execution_count": 110,
   "id": "b516c36b",
   "metadata": {},
   "outputs": [],
   "source": [
    "volatility_plot_2_viz, = longitudinal_actions.volatility(\n",
    "    table=genus_rf_table,\n",
    "    state_column='week-relative-to-fmt',\n",
    "    metadata=expanded_sample_metadata_md,\n",
    "    individual_id_column='PatientID',\n",
    "    default_group_column='autoFmtGroup',)"
   ]
  },
  {
   "cell_type": "code",
   "execution_count": 111,
   "id": "bf4a6883",
   "metadata": {},
   "outputs": [
    {
     "data": {
      "text/plain": [
       "'volatility_plot_2.qzv'"
      ]
     },
     "execution_count": 111,
     "metadata": {},
     "output_type": "execute_result"
    }
   ],
   "source": [
    "volatility_plot_2_viz.save('volatility_plot_2.qzv')"
   ]
  },
  {
   "cell_type": "code",
   "execution_count": 113,
   "id": "004a1b5b",
   "metadata": {
    "collapsed": true
   },
   "outputs": [
    {
     "data": {
      "text/html": [
       "<div><img onload=\"(function(div, url){\n",
       "if (typeof require !== 'undefined') {\n",
       "    var baseURL = require.toUrl('').split('/').slice(0, -2).join('/');\n",
       "} else {\n",
       "    var baseURL = JSON.parse(\n",
       "        document.getElementById('jupyter-config-data').innerHTML\n",
       "    ).baseUrl.slice(0, -1);\n",
       "}\n",
       "url = baseURL + url;\n",
       "fetch(url).then(function(res) {\n",
       "    if (res.status === 404) {\n",
       "        div.innerHTML = 'Install QIIME 2 Jupyter extension with:<br />' +\n",
       "                        '<code>jupyter serverextension enable --py qiime2' +\n",
       "                        ' --sys-prefix</code><br />then restart your server.' +\n",
       "                        '<br /><br />(Interactive output not available on ' +\n",
       "                        'static notebook viewer services like nbviewer.)';\n",
       "    } else if (res.status === 409) {\n",
       "        div.innerHTML = 'Visualization no longer in scope. Re-run this cell' +\n",
       "                        ' to see the visualization.';\n",
       "    } else if (res.ok) {\n",
       "        url = res.url;\n",
       "        div.innerHTML = '<iframe src=\\'' + url + '\\' style=\\'' +\n",
       "                        'width: 100%; height: 700px; border: 0;\\'>' +\n",
       "                        '</iframe><hr />Open in a: <a href=\\'' + url + '\\'' +\n",
       "                        ' target=\\'_blank\\'>new window</a>'\n",
       "    } else {\n",
       "        div.innerHTML = 'Something has gone wrong. Check notebook server for' +\n",
       "                        ' errors.';\n",
       "    }\n",
       "});\n",
       "})(this.parentElement, '/qiime2/redirect?location=/var/folders/hq/mt_9wjp90cx45qsgnk3d7qfc0000gq/T/qiime2/reziw3/data/27a3a86b-baea-4c48-ae87-ffc5ff1b577b')\" src=\"data:image/gif;base64,R0lGODlhAQABAIAAAP///wAAACH5BAEAAAAALAAAAAABAAEAAAICRAEAOw==\" /></div>"
      ],
      "text/plain": [
       "<visualization: Visualization uuid: 27a3a86b-baea-4c48-ae87-ffc5ff1b577b>"
      ]
     },
     "execution_count": 113,
     "metadata": {},
     "output_type": "execute_result"
    }
   ],
   "source": [
    "volatility_plot_2_viz"
   ]
  },
  {
   "cell_type": "code",
   "execution_count": 114,
   "id": "1305483b",
   "metadata": {},
   "outputs": [],
   "source": [
    "action_results = longitudinal_actions.feature_volatility(\n",
    "    table=filtered_genus_table,\n",
    "    metadata=expanded_sample_metadata_md,\n",
    "    state_column='week-relative-to-hct',\n",
    "    individual_id_column='PatientID',)\n",
    "\n",
    "important_genera_table_1 = action_results.filtered_table\n",
    "genus_importances_1 = action_results.feature_importance\n",
    "genus_volatility_plot_1_viz = action_results.volatility_plot\n",
    "accuracy_results_1_viz = action_results.accuracy_results\n",
    "sample_estimator_1 = action_results.sample_estimator"
   ]
  },
  {
   "cell_type": "code",
   "execution_count": 117,
   "id": "23a19940",
   "metadata": {},
   "outputs": [
    {
     "data": {
      "text/plain": [
       "'longitudinal/sample_estimator.qza'"
      ]
     },
     "execution_count": 117,
     "metadata": {},
     "output_type": "execute_result"
    }
   ],
   "source": [
    "important_genera_table_1.save('longitudinal/filtered_table.qza')\n",
    "genus_importances_1.save('longitudinal/feature_importance.qza')\n",
    "genus_volatility_plot_1_viz.save('longitudinal/volatility_plot.qzv')\n",
    "accuracy_results_1_viz.save('longitudinal/accuracy_results.qzv')\n",
    "sample_estimator_1.save('longitudinal/sample_estimator.qza')"
   ]
  },
  {
   "cell_type": "code",
   "execution_count": 118,
   "id": "8d19124a",
   "metadata": {
    "collapsed": true
   },
   "outputs": [
    {
     "data": {
      "text/html": [
       "<div><img onload=\"(function(div, url){\n",
       "if (typeof require !== 'undefined') {\n",
       "    var baseURL = require.toUrl('').split('/').slice(0, -2).join('/');\n",
       "} else {\n",
       "    var baseURL = JSON.parse(\n",
       "        document.getElementById('jupyter-config-data').innerHTML\n",
       "    ).baseUrl.slice(0, -1);\n",
       "}\n",
       "url = baseURL + url;\n",
       "fetch(url).then(function(res) {\n",
       "    if (res.status === 404) {\n",
       "        div.innerHTML = 'Install QIIME 2 Jupyter extension with:<br />' +\n",
       "                        '<code>jupyter serverextension enable --py qiime2' +\n",
       "                        ' --sys-prefix</code><br />then restart your server.' +\n",
       "                        '<br /><br />(Interactive output not available on ' +\n",
       "                        'static notebook viewer services like nbviewer.)';\n",
       "    } else if (res.status === 409) {\n",
       "        div.innerHTML = 'Visualization no longer in scope. Re-run this cell' +\n",
       "                        ' to see the visualization.';\n",
       "    } else if (res.ok) {\n",
       "        url = res.url;\n",
       "        div.innerHTML = '<iframe src=\\'' + url + '\\' style=\\'' +\n",
       "                        'width: 100%; height: 700px; border: 0;\\'>' +\n",
       "                        '</iframe><hr />Open in a: <a href=\\'' + url + '\\'' +\n",
       "                        ' target=\\'_blank\\'>new window</a>'\n",
       "    } else {\n",
       "        div.innerHTML = 'Something has gone wrong. Check notebook server for' +\n",
       "                        ' errors.';\n",
       "    }\n",
       "});\n",
       "})(this.parentElement, '/qiime2/redirect?location=/var/folders/hq/mt_9wjp90cx45qsgnk3d7qfc0000gq/T/qiime2/reziw3/data/ba7aee0e-ef38-4a29-b076-e8018ac5410c')\" src=\"data:image/gif;base64,R0lGODlhAQABAIAAAP///wAAACH5BAEAAAAALAAAAAABAAEAAAICRAEAOw==\" /></div>"
      ],
      "text/plain": [
       "<visualization: Visualization uuid: ba7aee0e-ef38-4a29-b076-e8018ac5410c>"
      ]
     },
     "execution_count": 118,
     "metadata": {},
     "output_type": "execute_result"
    }
   ],
   "source": [
    "genus_volatility_plot_1_viz"
   ]
  },
  {
   "cell_type": "code",
   "execution_count": 119,
   "id": "a335ba20",
   "metadata": {
    "collapsed": true
   },
   "outputs": [
    {
     "data": {
      "text/html": [
       "<div><img onload=\"(function(div, url){\n",
       "if (typeof require !== 'undefined') {\n",
       "    var baseURL = require.toUrl('').split('/').slice(0, -2).join('/');\n",
       "} else {\n",
       "    var baseURL = JSON.parse(\n",
       "        document.getElementById('jupyter-config-data').innerHTML\n",
       "    ).baseUrl.slice(0, -1);\n",
       "}\n",
       "url = baseURL + url;\n",
       "fetch(url).then(function(res) {\n",
       "    if (res.status === 404) {\n",
       "        div.innerHTML = 'Install QIIME 2 Jupyter extension with:<br />' +\n",
       "                        '<code>jupyter serverextension enable --py qiime2' +\n",
       "                        ' --sys-prefix</code><br />then restart your server.' +\n",
       "                        '<br /><br />(Interactive output not available on ' +\n",
       "                        'static notebook viewer services like nbviewer.)';\n",
       "    } else if (res.status === 409) {\n",
       "        div.innerHTML = 'Visualization no longer in scope. Re-run this cell' +\n",
       "                        ' to see the visualization.';\n",
       "    } else if (res.ok) {\n",
       "        url = res.url;\n",
       "        div.innerHTML = '<iframe src=\\'' + url + '\\' style=\\'' +\n",
       "                        'width: 100%; height: 700px; border: 0;\\'>' +\n",
       "                        '</iframe><hr />Open in a: <a href=\\'' + url + '\\'' +\n",
       "                        ' target=\\'_blank\\'>new window</a>'\n",
       "    } else {\n",
       "        div.innerHTML = 'Something has gone wrong. Check notebook server for' +\n",
       "                        ' errors.';\n",
       "    }\n",
       "});\n",
       "})(this.parentElement, '/qiime2/redirect?location=/var/folders/hq/mt_9wjp90cx45qsgnk3d7qfc0000gq/T/qiime2/reziw3/data/76c3894b-bd50-4935-bf3c-e66cc56c3534')\" src=\"data:image/gif;base64,R0lGODlhAQABAIAAAP///wAAACH5BAEAAAAALAAAAAABAAEAAAICRAEAOw==\" /></div>"
      ],
      "text/plain": [
       "<visualization: Visualization uuid: 76c3894b-bd50-4935-bf3c-e66cc56c3534>"
      ]
     },
     "execution_count": 119,
     "metadata": {},
     "output_type": "execute_result"
    }
   ],
   "source": [
    "accuracy_results_1_viz"
   ]
  },
  {
   "cell_type": "code",
   "execution_count": 120,
   "id": "fbd372c3",
   "metadata": {},
   "outputs": [],
   "source": [
    "action_results = longitudinal_actions.feature_volatility(\n",
    "    table=filtered_genus_table,\n",
    "    metadata=expanded_sample_metadata_md,\n",
    "    state_column='week-relative-to-fmt',\n",
    "    individual_id_column='PatientID',)\n",
    "\n",
    "important_genera_table_2 = action_results.filtered_table\n",
    "genus_importances_2 = action_results.feature_importance\n",
    "genus_volatility_plot_2_viz = action_results.volatility_plot\n",
    "accuracy_results_2_viz = action_results.accuracy_results\n",
    "sample_estimator_2 = action_results.sample_estimator"
   ]
  },
  {
   "cell_type": "code",
   "execution_count": 121,
   "id": "1de63a66",
   "metadata": {},
   "outputs": [
    {
     "data": {
      "text/plain": [
       "'longitudinal2/sample_estimator.qza'"
      ]
     },
     "execution_count": 121,
     "metadata": {},
     "output_type": "execute_result"
    }
   ],
   "source": [
    "important_genera_table_2.save('longitudinal2/filtered_table.qza')\n",
    "genus_importances_2.save('longitudinal2/feature_importance.qza')\n",
    "genus_volatility_plot_2_viz.save('longitudinal2/volatility_plot.qzv')\n",
    "accuracy_results_2_viz.save('longitudinal2/accuracy_results.qzv')\n",
    "sample_estimator_2.save('longitudinal2/sample_estimator.qza')"
   ]
  },
  {
   "cell_type": "code",
   "execution_count": 122,
   "id": "84cd245a",
   "metadata": {
    "collapsed": true
   },
   "outputs": [
    {
     "data": {
      "text/html": [
       "<div><img onload=\"(function(div, url){\n",
       "if (typeof require !== 'undefined') {\n",
       "    var baseURL = require.toUrl('').split('/').slice(0, -2).join('/');\n",
       "} else {\n",
       "    var baseURL = JSON.parse(\n",
       "        document.getElementById('jupyter-config-data').innerHTML\n",
       "    ).baseUrl.slice(0, -1);\n",
       "}\n",
       "url = baseURL + url;\n",
       "fetch(url).then(function(res) {\n",
       "    if (res.status === 404) {\n",
       "        div.innerHTML = 'Install QIIME 2 Jupyter extension with:<br />' +\n",
       "                        '<code>jupyter serverextension enable --py qiime2' +\n",
       "                        ' --sys-prefix</code><br />then restart your server.' +\n",
       "                        '<br /><br />(Interactive output not available on ' +\n",
       "                        'static notebook viewer services like nbviewer.)';\n",
       "    } else if (res.status === 409) {\n",
       "        div.innerHTML = 'Visualization no longer in scope. Re-run this cell' +\n",
       "                        ' to see the visualization.';\n",
       "    } else if (res.ok) {\n",
       "        url = res.url;\n",
       "        div.innerHTML = '<iframe src=\\'' + url + '\\' style=\\'' +\n",
       "                        'width: 100%; height: 700px; border: 0;\\'>' +\n",
       "                        '</iframe><hr />Open in a: <a href=\\'' + url + '\\'' +\n",
       "                        ' target=\\'_blank\\'>new window</a>'\n",
       "    } else {\n",
       "        div.innerHTML = 'Something has gone wrong. Check notebook server for' +\n",
       "                        ' errors.';\n",
       "    }\n",
       "});\n",
       "})(this.parentElement, '/qiime2/redirect?location=/var/folders/hq/mt_9wjp90cx45qsgnk3d7qfc0000gq/T/qiime2/reziw3/data/b350165a-5968-4716-bf54-9a269bd026b4')\" src=\"data:image/gif;base64,R0lGODlhAQABAIAAAP///wAAACH5BAEAAAAALAAAAAABAAEAAAICRAEAOw==\" /></div>"
      ],
      "text/plain": [
       "<visualization: Visualization uuid: b350165a-5968-4716-bf54-9a269bd026b4>"
      ]
     },
     "execution_count": 122,
     "metadata": {},
     "output_type": "execute_result"
    }
   ],
   "source": [
    "genus_volatility_plot_2_viz"
   ]
  },
  {
   "cell_type": "code",
   "execution_count": 123,
   "id": "9aae3476",
   "metadata": {
    "collapsed": true
   },
   "outputs": [
    {
     "data": {
      "text/html": [
       "<div><img onload=\"(function(div, url){\n",
       "if (typeof require !== 'undefined') {\n",
       "    var baseURL = require.toUrl('').split('/').slice(0, -2).join('/');\n",
       "} else {\n",
       "    var baseURL = JSON.parse(\n",
       "        document.getElementById('jupyter-config-data').innerHTML\n",
       "    ).baseUrl.slice(0, -1);\n",
       "}\n",
       "url = baseURL + url;\n",
       "fetch(url).then(function(res) {\n",
       "    if (res.status === 404) {\n",
       "        div.innerHTML = 'Install QIIME 2 Jupyter extension with:<br />' +\n",
       "                        '<code>jupyter serverextension enable --py qiime2' +\n",
       "                        ' --sys-prefix</code><br />then restart your server.' +\n",
       "                        '<br /><br />(Interactive output not available on ' +\n",
       "                        'static notebook viewer services like nbviewer.)';\n",
       "    } else if (res.status === 409) {\n",
       "        div.innerHTML = 'Visualization no longer in scope. Re-run this cell' +\n",
       "                        ' to see the visualization.';\n",
       "    } else if (res.ok) {\n",
       "        url = res.url;\n",
       "        div.innerHTML = '<iframe src=\\'' + url + '\\' style=\\'' +\n",
       "                        'width: 100%; height: 700px; border: 0;\\'>' +\n",
       "                        '</iframe><hr />Open in a: <a href=\\'' + url + '\\'' +\n",
       "                        ' target=\\'_blank\\'>new window</a>'\n",
       "    } else {\n",
       "        div.innerHTML = 'Something has gone wrong. Check notebook server for' +\n",
       "                        ' errors.';\n",
       "    }\n",
       "});\n",
       "})(this.parentElement, '/qiime2/redirect?location=/var/folders/hq/mt_9wjp90cx45qsgnk3d7qfc0000gq/T/qiime2/reziw3/data/8dc1d3cb-ca56-4f75-913a-434d4ee9b9f9')\" src=\"data:image/gif;base64,R0lGODlhAQABAIAAAP///wAAACH5BAEAAAAALAAAAAABAAEAAAICRAEAOw==\" /></div>"
      ],
      "text/plain": [
       "<visualization: Visualization uuid: 8dc1d3cb-ca56-4f75-913a-434d4ee9b9f9>"
      ]
     },
     "execution_count": 123,
     "metadata": {},
     "output_type": "execute_result"
    }
   ],
   "source": [
    "accuracy_results_2_viz"
   ]
  },
  {
   "cell_type": "code",
   "execution_count": null,
   "id": "a93fe4d6",
   "metadata": {},
   "outputs": [],
   "source": []
  },
  {
   "cell_type": "code",
   "execution_count": null,
   "id": "059cdd9c",
   "metadata": {},
   "outputs": [],
   "source": [
    "#Differential abundance"
   ]
  },
  {
   "cell_type": "code",
   "execution_count": 52,
   "id": "66173738",
   "metadata": {},
   "outputs": [],
   "source": [
    "import qiime2.plugins.feature_table.actions as feature_table_actions\n",
    "cord_table, = feature_table_actions.filter_samples(\n",
    "    table=filtered_table_4,\n",
    "    metadata=sample_metadata_md,\n",
    "    where='[HCTSource]=\"cord\"',)"
   ]
  },
  {
   "cell_type": "code",
   "execution_count": 53,
   "id": "253d216c",
   "metadata": {},
   "outputs": [
    {
     "data": {
      "text/plain": [
       "'cord_table.qza'"
      ]
     },
     "execution_count": 53,
     "metadata": {},
     "output_type": "execute_result"
    }
   ],
   "source": [
    "cord_table.save('cord_table.qza')"
   ]
  },
  {
   "cell_type": "code",
   "execution_count": 62,
   "id": "ecc6324c",
   "metadata": {},
   "outputs": [
    {
     "name": "stdout",
     "output_type": "stream",
     "text": [
      "Running external command line application(s). This may print messages to stdout and/or stderr.\n",
      "The command(s) being run are below. These commands cannot be manually re-run as they will depend on temporary files that no longer exist.\n",
      "\n",
      "Command: run_ancombc.R --inp_abundances_path /var/folders/hq/mt_9wjp90cx45qsgnk3d7qfc0000gq/T/tmpws79qhh8/input.biom.tsv --inp_metadata_path /var/folders/hq/mt_9wjp90cx45qsgnk3d7qfc0000gq/T/tmpws79qhh8/input.map.txt --md_column_types {\"day-relative-to-fmt\": \"numeric\", \"PatientID\": \"categorical\", \"Timepoint\": \"numeric\", \"Consistency\": \"categorical\", \"Accession\": \"categorical\", \"BioProject\": \"categorical\", \"DayRelativeToNearestHCT\": \"numeric\", \"AccessionShotgun\": \"categorical\", \"patient-sample-counts\": \"numeric\", \"TimepointOfTransplant\": \"numeric\", \"HCTSource\": \"categorical\", \"Disease\": \"categorical\", \"wbcPatientId\": \"categorical\", \"autoFmtPatientId\": \"categorical\", \"nejmPatientId\": \"numeric\", \"autoFmtGroup\": \"categorical\", \"categorical-time-relative-to-hct\": \"categorical\", \"week-relative-to-hct\": \"numeric\", \"RandomizationArm\": \"categorical\", \"RandomizationDayRelativeToNearestHCT\": \"numeric\", \"FMTDayRelativeToNearestHCT\": \"numeric\", \"DonorSampleID\": \"categorical\", \"LastSampleBeforeFMT\": \"categorical\", \"FirstSampleAfterFMT\": \"categorical\", \"week-relative-to-fmt\": \"numeric\", \"categorical-time-relative-to-fmt\": \"categorical\"} --formula RandomizationArm --p_adj_method holm --prv_cut 0.1 --lib_cut 0 --reference_levels ['RandomizationArm::Control'] --tol 1e-05 --max_iter 100 --conserve False --alpha 0.05 --output_loaf /var/folders/hq/mt_9wjp90cx45qsgnk3d7qfc0000gq/T/q2-DataLoafPackageDirFmt-_g8kjaur\n",
      "\n"
     ]
    },
    {
     "name": "stderr",
     "output_type": "stream",
     "text": [
      "── Attaching core tidyverse packages ──────────────────────── tidyverse 2.0.0 ──\n",
      "✔ dplyr     1.1.4     ✔ readr     2.1.5\n",
      "✔ forcats   1.0.0     ✔ stringr   1.5.1\n",
      "✔ ggplot2   3.5.0     ✔ tibble    3.2.1\n",
      "✔ lubridate 1.9.3     ✔ tidyr     1.3.1\n",
      "✔ purrr     1.0.2     \n",
      "── Conflicts ────────────────────────────────────────── tidyverse_conflicts() ──\n",
      "✖ dplyr::filter() masks stats::filter()\n",
      "✖ dplyr::lag()    masks stats::lag()\n",
      "ℹ Use the conflicted package (<http://conflicted.r-lib.org/>) to force all conflicts to become errors\n",
      "Registered S3 methods overwritten by 'treeio':\n",
      "  method              from    \n",
      "  MRCA.phylo          tidytree\n",
      "  MRCA.treedata       tidytree\n",
      "  Nnode.treedata      tidytree\n",
      "  Ntip.treedata       tidytree\n",
      "  ancestor.phylo      tidytree\n",
      "  ancestor.treedata   tidytree\n",
      "  child.phylo         tidytree\n",
      "  child.treedata      tidytree\n",
      "  full_join.phylo     tidytree\n",
      "  full_join.treedata  tidytree\n",
      "  groupClade.phylo    tidytree\n",
      "  groupClade.treedata tidytree\n",
      "  groupOTU.phylo      tidytree\n",
      "  groupOTU.treedata   tidytree\n",
      "  is.rooted.treedata  tidytree\n",
      "  nodeid.phylo        tidytree\n",
      "  nodeid.treedata     tidytree\n",
      "  nodelab.phylo       tidytree\n",
      "  nodelab.treedata    tidytree\n",
      "  offspring.phylo     tidytree\n",
      "  offspring.treedata  tidytree\n",
      "  parent.phylo        tidytree\n",
      "  parent.treedata     tidytree\n",
      "  root.treedata       tidytree\n",
      "  rootnode.phylo      tidytree\n",
      "  sibling.phylo       tidytree\n",
      "Warning message:\n",
      "package ‘optparse’ was built under R version 4.2.3 \n",
      "Warning message:\n",
      "package ‘frictionless’ was built under R version 4.2.3 \n",
      "\n",
      "Attaching package: ‘jsonlite’\n",
      "\n",
      "The following object is masked from ‘package:purrr’:\n",
      "\n",
      "    flatten\n",
      "\n",
      "Warning message:\n",
      "package ‘jsonlite’ was built under R version 4.2.3 \n"
     ]
    },
    {
     "name": "stdout",
     "output_type": "stream",
     "text": [
      "R version 4.2.2 (2022-10-31) \n"
     ]
    },
    {
     "name": "stderr",
     "output_type": "stream",
     "text": [
      "'ancombc' is deprecated \n",
      "Use 'ancombc2' instead\n",
      "`tax_level` is not speficified \n",
      "No agglomeration will be performed\n",
      "Otherwise, please speficy `tax_level` by one of the following: \n",
      "Species\n"
     ]
    }
   ],
   "source": [
    "import qiime2.plugins.composition.actions as composition_actions\n",
    "\n",
    "ancombc_subject, = composition_actions.ancombc(\n",
    "    table=cord_table,\n",
    "    metadata=sample_metadata_md,\n",
    "    formula='RandomizationArm',)\n",
    "\n",
    "da_barplot_subject_viz, = composition_actions.da_barplot(\n",
    "    data=ancombc_subject,\n",
    "    significance_threshold=0.001,)"
   ]
  },
  {
   "cell_type": "code",
   "execution_count": 63,
   "id": "31d66305",
   "metadata": {
    "collapsed": true
   },
   "outputs": [
    {
     "data": {
      "text/html": [
       "<div><img onload=\"(function(div, url){\n",
       "if (typeof require !== 'undefined') {\n",
       "    var baseURL = require.toUrl('').split('/').slice(0, -2).join('/');\n",
       "} else {\n",
       "    var baseURL = JSON.parse(\n",
       "        document.getElementById('jupyter-config-data').innerHTML\n",
       "    ).baseUrl.slice(0, -1);\n",
       "}\n",
       "url = baseURL + url;\n",
       "fetch(url).then(function(res) {\n",
       "    if (res.status === 404) {\n",
       "        div.innerHTML = 'Install QIIME 2 Jupyter extension with:<br />' +\n",
       "                        '<code>jupyter serverextension enable --py qiime2' +\n",
       "                        ' --sys-prefix</code><br />then restart your server.' +\n",
       "                        '<br /><br />(Interactive output not available on ' +\n",
       "                        'static notebook viewer services like nbviewer.)';\n",
       "    } else if (res.status === 409) {\n",
       "        div.innerHTML = 'Visualization no longer in scope. Re-run this cell' +\n",
       "                        ' to see the visualization.';\n",
       "    } else if (res.ok) {\n",
       "        url = res.url;\n",
       "        div.innerHTML = '<iframe src=\\'' + url + '\\' style=\\'' +\n",
       "                        'width: 100%; height: 700px; border: 0;\\'>' +\n",
       "                        '</iframe><hr />Open in a: <a href=\\'' + url + '\\'' +\n",
       "                        ' target=\\'_blank\\'>new window</a>'\n",
       "    } else {\n",
       "        div.innerHTML = 'Something has gone wrong. Check notebook server for' +\n",
       "                        ' errors.';\n",
       "    }\n",
       "});\n",
       "})(this.parentElement, '/qiime2/redirect?location=/var/folders/hq/mt_9wjp90cx45qsgnk3d7qfc0000gq/T/qiime2/reziw3/data/a79d3df0-aecb-40af-b491-ec99e03f24b7')\" src=\"data:image/gif;base64,R0lGODlhAQABAIAAAP///wAAACH5BAEAAAAALAAAAAABAAEAAAICRAEAOw==\" /></div>"
      ],
      "text/plain": [
       "<visualization: Visualization uuid: a79d3df0-aecb-40af-b491-ec99e03f24b7>"
      ]
     },
     "execution_count": 63,
     "metadata": {},
     "output_type": "execute_result"
    }
   ],
   "source": [
    "da_barplot_subject_viz"
   ]
  },
  {
   "cell_type": "code",
   "execution_count": null,
   "id": "8428a606",
   "metadata": {},
   "outputs": [],
   "source": []
  },
  {
   "cell_type": "code",
   "execution_count": 70,
   "id": "5f4abc5d",
   "metadata": {},
   "outputs": [],
   "source": [
    "sample_metadata1 = Metadata.load('2/sample-metadata1.tsv')\n",
    "table=Artifact.load('2/table.qza')\n",
    "gut_table=Artifact.load('2/gut-table.qza')\n",
    "taxonomy=Artifact.load('2/taxonomy.qza')"
   ]
  },
  {
   "cell_type": "code",
   "execution_count": 66,
   "id": "d89ebe9e",
   "metadata": {},
   "outputs": [
    {
     "name": "stdout",
     "output_type": "stream",
     "text": [
      "Running external command line application(s). This may print messages to stdout and/or stderr.\n",
      "The command(s) being run are below. These commands cannot be manually re-run as they will depend on temporary files that no longer exist.\n",
      "\n",
      "Command: run_ancombc.R --inp_abundances_path /var/folders/hq/mt_9wjp90cx45qsgnk3d7qfc0000gq/T/tmpmpmn58tv/input.biom.tsv --inp_metadata_path /var/folders/hq/mt_9wjp90cx45qsgnk3d7qfc0000gq/T/tmpmpmn58tv/input.map.txt --md_column_types {\"barcode-sequence\": \"categorical\", \"body-site\": \"categorical\", \"year\": \"numeric\", \"month\": \"numeric\", \"day\": \"numeric\", \"subject\": \"categorical\", \"reported-antibiotic-usage\": \"categorical\", \"days-since-experiment-start\": \"numeric\"} --formula subject --p_adj_method holm --prv_cut 0.1 --lib_cut 0 --reference_levels ['subject::subject-1'] --tol 1e-05 --max_iter 100 --conserve False --alpha 0.05 --output_loaf /var/folders/hq/mt_9wjp90cx45qsgnk3d7qfc0000gq/T/q2-DataLoafPackageDirFmt-5ulsm8l6\n",
      "\n"
     ]
    },
    {
     "name": "stderr",
     "output_type": "stream",
     "text": [
      "── Attaching core tidyverse packages ──────────────────────── tidyverse 2.0.0 ──\n",
      "✔ dplyr     1.1.4     ✔ readr     2.1.5\n",
      "✔ forcats   1.0.0     ✔ stringr   1.5.1\n",
      "✔ ggplot2   3.5.0     ✔ tibble    3.2.1\n",
      "✔ lubridate 1.9.3     ✔ tidyr     1.3.1\n",
      "✔ purrr     1.0.2     \n",
      "── Conflicts ────────────────────────────────────────── tidyverse_conflicts() ──\n",
      "✖ dplyr::filter() masks stats::filter()\n",
      "✖ dplyr::lag()    masks stats::lag()\n",
      "ℹ Use the conflicted package (<http://conflicted.r-lib.org/>) to force all conflicts to become errors\n",
      "Registered S3 methods overwritten by 'treeio':\n",
      "  method              from    \n",
      "  MRCA.phylo          tidytree\n",
      "  MRCA.treedata       tidytree\n",
      "  Nnode.treedata      tidytree\n",
      "  Ntip.treedata       tidytree\n",
      "  ancestor.phylo      tidytree\n",
      "  ancestor.treedata   tidytree\n",
      "  child.phylo         tidytree\n",
      "  child.treedata      tidytree\n",
      "  full_join.phylo     tidytree\n",
      "  full_join.treedata  tidytree\n",
      "  groupClade.phylo    tidytree\n",
      "  groupClade.treedata tidytree\n",
      "  groupOTU.phylo      tidytree\n",
      "  groupOTU.treedata   tidytree\n",
      "  is.rooted.treedata  tidytree\n",
      "  nodeid.phylo        tidytree\n",
      "  nodeid.treedata     tidytree\n",
      "  nodelab.phylo       tidytree\n",
      "  nodelab.treedata    tidytree\n",
      "  offspring.phylo     tidytree\n",
      "  offspring.treedata  tidytree\n",
      "  parent.phylo        tidytree\n",
      "  parent.treedata     tidytree\n",
      "  root.treedata       tidytree\n",
      "  rootnode.phylo      tidytree\n",
      "  sibling.phylo       tidytree\n",
      "Warning message:\n",
      "package ‘optparse’ was built under R version 4.2.3 \n",
      "Warning message:\n",
      "package ‘frictionless’ was built under R version 4.2.3 \n",
      "\n",
      "Attaching package: ‘jsonlite’\n",
      "\n",
      "The following object is masked from ‘package:purrr’:\n",
      "\n",
      "    flatten\n",
      "\n",
      "Warning message:\n",
      "package ‘jsonlite’ was built under R version 4.2.3 \n"
     ]
    },
    {
     "name": "stdout",
     "output_type": "stream",
     "text": [
      "R version 4.2.2 (2022-10-31) \n"
     ]
    },
    {
     "name": "stderr",
     "output_type": "stream",
     "text": [
      "'ancombc' is deprecated \n",
      "Use 'ancombc2' instead\n",
      "`tax_level` is not speficified \n",
      "No agglomeration will be performed\n",
      "Otherwise, please speficy `tax_level` by one of the following: \n",
      "Species\n"
     ]
    }
   ],
   "source": [
    "ancombc_subject, = composition_actions.ancombc(\n",
    "    table=gut_table,\n",
    "    metadata=sample_metadata1,\n",
    "    formula='subject',)\n",
    "\n",
    "da_barplot_subject_viz, = composition_actions.da_barplot(\n",
    "    data=ancombc_subject,\n",
    "    significance_threshold=0.001,)"
   ]
  },
  {
   "cell_type": "code",
   "execution_count": 73,
   "id": "b58323be",
   "metadata": {},
   "outputs": [
    {
     "data": {
      "text/plain": [
       "'2/da_barplot_subject.qzv'"
      ]
     },
     "execution_count": 73,
     "metadata": {},
     "output_type": "execute_result"
    }
   ],
   "source": [
    "ancombc_subject.save('2/ancombc_subject.qza')\n",
    "da_barplot_subject_viz.save('2/da_barplot_subject.qzv')"
   ]
  },
  {
   "cell_type": "code",
   "execution_count": 67,
   "id": "0b74fb18",
   "metadata": {
    "collapsed": true
   },
   "outputs": [
    {
     "data": {
      "text/html": [
       "<div><img onload=\"(function(div, url){\n",
       "if (typeof require !== 'undefined') {\n",
       "    var baseURL = require.toUrl('').split('/').slice(0, -2).join('/');\n",
       "} else {\n",
       "    var baseURL = JSON.parse(\n",
       "        document.getElementById('jupyter-config-data').innerHTML\n",
       "    ).baseUrl.slice(0, -1);\n",
       "}\n",
       "url = baseURL + url;\n",
       "fetch(url).then(function(res) {\n",
       "    if (res.status === 404) {\n",
       "        div.innerHTML = 'Install QIIME 2 Jupyter extension with:<br />' +\n",
       "                        '<code>jupyter serverextension enable --py qiime2' +\n",
       "                        ' --sys-prefix</code><br />then restart your server.' +\n",
       "                        '<br /><br />(Interactive output not available on ' +\n",
       "                        'static notebook viewer services like nbviewer.)';\n",
       "    } else if (res.status === 409) {\n",
       "        div.innerHTML = 'Visualization no longer in scope. Re-run this cell' +\n",
       "                        ' to see the visualization.';\n",
       "    } else if (res.ok) {\n",
       "        url = res.url;\n",
       "        div.innerHTML = '<iframe src=\\'' + url + '\\' style=\\'' +\n",
       "                        'width: 100%; height: 700px; border: 0;\\'>' +\n",
       "                        '</iframe><hr />Open in a: <a href=\\'' + url + '\\'' +\n",
       "                        ' target=\\'_blank\\'>new window</a>'\n",
       "    } else {\n",
       "        div.innerHTML = 'Something has gone wrong. Check notebook server for' +\n",
       "                        ' errors.';\n",
       "    }\n",
       "});\n",
       "})(this.parentElement, '/qiime2/redirect?location=/var/folders/hq/mt_9wjp90cx45qsgnk3d7qfc0000gq/T/qiime2/reziw3/data/9223bac3-6d24-4e67-8ee8-4c63c8bafc9a')\" src=\"data:image/gif;base64,R0lGODlhAQABAIAAAP///wAAACH5BAEAAAAALAAAAAABAAEAAAICRAEAOw==\" /></div>"
      ],
      "text/plain": [
       "<visualization: Visualization uuid: 9223bac3-6d24-4e67-8ee8-4c63c8bafc9a>"
      ]
     },
     "execution_count": 67,
     "metadata": {},
     "output_type": "execute_result"
    }
   ],
   "source": [
    "da_barplot_subject_viz"
   ]
  },
  {
   "cell_type": "code",
   "execution_count": 71,
   "id": "479495c7",
   "metadata": {},
   "outputs": [
    {
     "name": "stdout",
     "output_type": "stream",
     "text": [
      "Running external command line application(s). This may print messages to stdout and/or stderr.\n",
      "The command(s) being run are below. These commands cannot be manually re-run as they will depend on temporary files that no longer exist.\n",
      "\n",
      "Command: run_ancombc.R --inp_abundances_path /var/folders/hq/mt_9wjp90cx45qsgnk3d7qfc0000gq/T/tmp9ba5jg0y/input.biom.tsv --inp_metadata_path /var/folders/hq/mt_9wjp90cx45qsgnk3d7qfc0000gq/T/tmp9ba5jg0y/input.map.txt --md_column_types {\"barcode-sequence\": \"categorical\", \"body-site\": \"categorical\", \"year\": \"numeric\", \"month\": \"numeric\", \"day\": \"numeric\", \"subject\": \"categorical\", \"reported-antibiotic-usage\": \"categorical\", \"days-since-experiment-start\": \"numeric\"} --formula subject --p_adj_method holm --prv_cut 0.1 --lib_cut 0 --reference_levels ['subject::subject-1'] --tol 1e-05 --max_iter 100 --conserve False --alpha 0.05 --output_loaf /var/folders/hq/mt_9wjp90cx45qsgnk3d7qfc0000gq/T/q2-DataLoafPackageDirFmt-tmhmkuaj\n",
      "\n"
     ]
    },
    {
     "name": "stderr",
     "output_type": "stream",
     "text": [
      "── Attaching core tidyverse packages ──────────────────────── tidyverse 2.0.0 ──\n",
      "✔ dplyr     1.1.4     ✔ readr     2.1.5\n",
      "✔ forcats   1.0.0     ✔ stringr   1.5.1\n",
      "✔ ggplot2   3.5.0     ✔ tibble    3.2.1\n",
      "✔ lubridate 1.9.3     ✔ tidyr     1.3.1\n",
      "✔ purrr     1.0.2     \n",
      "── Conflicts ────────────────────────────────────────── tidyverse_conflicts() ──\n",
      "✖ dplyr::filter() masks stats::filter()\n",
      "✖ dplyr::lag()    masks stats::lag()\n",
      "ℹ Use the conflicted package (<http://conflicted.r-lib.org/>) to force all conflicts to become errors\n",
      "Registered S3 methods overwritten by 'treeio':\n",
      "  method              from    \n",
      "  MRCA.phylo          tidytree\n",
      "  MRCA.treedata       tidytree\n",
      "  Nnode.treedata      tidytree\n",
      "  Ntip.treedata       tidytree\n",
      "  ancestor.phylo      tidytree\n",
      "  ancestor.treedata   tidytree\n",
      "  child.phylo         tidytree\n",
      "  child.treedata      tidytree\n",
      "  full_join.phylo     tidytree\n",
      "  full_join.treedata  tidytree\n",
      "  groupClade.phylo    tidytree\n",
      "  groupClade.treedata tidytree\n",
      "  groupOTU.phylo      tidytree\n",
      "  groupOTU.treedata   tidytree\n",
      "  is.rooted.treedata  tidytree\n",
      "  nodeid.phylo        tidytree\n",
      "  nodeid.treedata     tidytree\n",
      "  nodelab.phylo       tidytree\n",
      "  nodelab.treedata    tidytree\n",
      "  offspring.phylo     tidytree\n",
      "  offspring.treedata  tidytree\n",
      "  parent.phylo        tidytree\n",
      "  parent.treedata     tidytree\n",
      "  root.treedata       tidytree\n",
      "  rootnode.phylo      tidytree\n",
      "  sibling.phylo       tidytree\n",
      "Warning message:\n",
      "package ‘optparse’ was built under R version 4.2.3 \n",
      "Warning message:\n",
      "package ‘frictionless’ was built under R version 4.2.3 \n",
      "\n",
      "Attaching package: ‘jsonlite’\n",
      "\n",
      "The following object is masked from ‘package:purrr’:\n",
      "\n",
      "    flatten\n",
      "\n",
      "Warning message:\n",
      "package ‘jsonlite’ was built under R version 4.2.3 \n"
     ]
    },
    {
     "name": "stdout",
     "output_type": "stream",
     "text": [
      "R version 4.2.2 (2022-10-31) \n"
     ]
    },
    {
     "name": "stderr",
     "output_type": "stream",
     "text": [
      "'ancombc' is deprecated \n",
      "Use 'ancombc2' instead\n",
      "`tax_level` is not speficified \n",
      "No agglomeration will be performed\n",
      "Otherwise, please speficy `tax_level` by one of the following: \n",
      "Species\n"
     ]
    }
   ],
   "source": [
    "import qiime2.plugins.taxa.actions as taxa_actions\n",
    "gut_table_l6, = taxa_actions.collapse(\n",
    "    table=gut_table,\n",
    "    taxonomy=taxonomy,\n",
    "    level=6,)\n",
    "\n",
    "l6_ancombc_subject, = composition_actions.ancombc(\n",
    "    table=gut_table_l6,\n",
    "    metadata=sample_metadata1,\n",
    "    formula='subject',)\n",
    "\n",
    "l6_da_barplot_subject_viz, = composition_actions.da_barplot(\n",
    "    data=l6_ancombc_subject,\n",
    "    significance_threshold=0.001,)"
   ]
  },
  {
   "cell_type": "code",
   "execution_count": 74,
   "id": "401e8161",
   "metadata": {},
   "outputs": [
    {
     "data": {
      "text/plain": [
       "'l6_da_barplot_subject.qzv'"
      ]
     },
     "execution_count": 74,
     "metadata": {},
     "output_type": "execute_result"
    }
   ],
   "source": [
    "gut_table_l6.save('2/gut_table_l6.qza')\n",
    "l6_ancombc_subject.save('2/l6_ancombc_subject.qza')\n",
    "l6_da_barplot_subject_viz.save('2/l6_da_barplot_subject.qzv')"
   ]
  },
  {
   "cell_type": "code",
   "execution_count": 75,
   "id": "1f0014cd",
   "metadata": {
    "collapsed": true
   },
   "outputs": [
    {
     "data": {
      "text/html": [
       "<div><img onload=\"(function(div, url){\n",
       "if (typeof require !== 'undefined') {\n",
       "    var baseURL = require.toUrl('').split('/').slice(0, -2).join('/');\n",
       "} else {\n",
       "    var baseURL = JSON.parse(\n",
       "        document.getElementById('jupyter-config-data').innerHTML\n",
       "    ).baseUrl.slice(0, -1);\n",
       "}\n",
       "url = baseURL + url;\n",
       "fetch(url).then(function(res) {\n",
       "    if (res.status === 404) {\n",
       "        div.innerHTML = 'Install QIIME 2 Jupyter extension with:<br />' +\n",
       "                        '<code>jupyter serverextension enable --py qiime2' +\n",
       "                        ' --sys-prefix</code><br />then restart your server.' +\n",
       "                        '<br /><br />(Interactive output not available on ' +\n",
       "                        'static notebook viewer services like nbviewer.)';\n",
       "    } else if (res.status === 409) {\n",
       "        div.innerHTML = 'Visualization no longer in scope. Re-run this cell' +\n",
       "                        ' to see the visualization.';\n",
       "    } else if (res.ok) {\n",
       "        url = res.url;\n",
       "        div.innerHTML = '<iframe src=\\'' + url + '\\' style=\\'' +\n",
       "                        'width: 100%; height: 700px; border: 0;\\'>' +\n",
       "                        '</iframe><hr />Open in a: <a href=\\'' + url + '\\'' +\n",
       "                        ' target=\\'_blank\\'>new window</a>'\n",
       "    } else {\n",
       "        div.innerHTML = 'Something has gone wrong. Check notebook server for' +\n",
       "                        ' errors.';\n",
       "    }\n",
       "});\n",
       "})(this.parentElement, '/qiime2/redirect?location=/var/folders/hq/mt_9wjp90cx45qsgnk3d7qfc0000gq/T/qiime2/reziw3/data/ff25209a-ea1b-4531-8e20-85a9f6da34e0')\" src=\"data:image/gif;base64,R0lGODlhAQABAIAAAP///wAAACH5BAEAAAAALAAAAAABAAEAAAICRAEAOw==\" /></div>"
      ],
      "text/plain": [
       "<visualization: Visualization uuid: ff25209a-ea1b-4531-8e20-85a9f6da34e0>"
      ]
     },
     "execution_count": 75,
     "metadata": {},
     "output_type": "execute_result"
    }
   ],
   "source": [
    "l6_da_barplot_subject_viz"
   ]
  },
  {
   "cell_type": "code",
   "execution_count": null,
   "id": "30e7dddc",
   "metadata": {},
   "outputs": [],
   "source": []
  },
  {
   "cell_type": "code",
   "execution_count": null,
   "id": "3b076d36",
   "metadata": {},
   "outputs": [],
   "source": [
    "#Machine-learning classifiers"
   ]
  },
  {
   "cell_type": "code",
   "execution_count": 77,
   "id": "a935f0e2",
   "metadata": {},
   "outputs": [],
   "source": [
    "import qiime2.plugins.sample_classifier.actions as sample_classifier_actions"
   ]
  },
  {
   "cell_type": "code",
   "execution_count": 124,
   "id": "0957bcd8",
   "metadata": {},
   "outputs": [],
   "source": [
    "feature = Artifact.load('feature-table.qza')\n",
    "metadata1 = Metadata.load('3/sample-metadata.tsv')"
   ]
  },
  {
   "cell_type": "code",
   "execution_count": 125,
   "id": "c56fe218",
   "metadata": {
    "collapsed": true
   },
   "outputs": [
    {
     "ename": "ValueError",
     "evalue": "You have chosen to predict a metadata column that contains one or more values that match only one sample. For proper stratification of data into training and test sets, each class (value) must contain at least two samples. This is a requirement for classification problems, but stratification can be disabled for regression by setting stratify=False. Alternatively, remove all samples that bear a unique class label for your chosen metadata column. Note that disabling stratification can negatively impact predictive accuracy for small data sets.",
     "output_type": "error",
     "traceback": [
      "\u001b[0;31m---------------------------------------------------------------------------\u001b[0m",
      "\u001b[0;31mValueError\u001b[0m                                Traceback (most recent call last)",
      "File \u001b[0;32m/opt/miniconda3/envs/qiime2a/lib/python3.8/site-packages/q2_sample_classifier/utilities.py:159\u001b[0m, in \u001b[0;36m_split_training_data\u001b[0;34m(feature_data, targets, column, test_size, stratify, random_state, drop_na)\u001b[0m\n\u001b[1;32m    158\u001b[0m \u001b[38;5;28;01mtry\u001b[39;00m:\n\u001b[0;32m--> 159\u001b[0m     y_train, y_test \u001b[38;5;241m=\u001b[39m \u001b[43mtrain_test_split\u001b[49m\u001b[43m(\u001b[49m\n\u001b[1;32m    160\u001b[0m \u001b[43m        \u001b[49m\u001b[43mtargets\u001b[49m\u001b[43m,\u001b[49m\u001b[43m \u001b[49m\u001b[43mtest_size\u001b[49m\u001b[38;5;241;43m=\u001b[39;49m\u001b[43mtest_size\u001b[49m\u001b[43m,\u001b[49m\u001b[43m \u001b[49m\u001b[43mstratify\u001b[49m\u001b[38;5;241;43m=\u001b[39;49m\u001b[43mstratify\u001b[49m\u001b[43m,\u001b[49m\n\u001b[1;32m    161\u001b[0m \u001b[43m        \u001b[49m\u001b[43mrandom_state\u001b[49m\u001b[38;5;241;43m=\u001b[39;49m\u001b[43mrandom_state\u001b[49m\u001b[43m)\u001b[49m\n\u001b[1;32m    162\u001b[0m \u001b[38;5;28;01mexcept\u001b[39;00m \u001b[38;5;167;01mValueError\u001b[39;00m:\n",
      "File \u001b[0;32m/opt/miniconda3/envs/qiime2a/lib/python3.8/site-packages/sklearn/model_selection/_split.py:2197\u001b[0m, in \u001b[0;36mtrain_test_split\u001b[0;34m(test_size, train_size, random_state, shuffle, stratify, *arrays)\u001b[0m\n\u001b[1;32m   2193\u001b[0m     cv \u001b[38;5;241m=\u001b[39m CVClass(test_size\u001b[38;5;241m=\u001b[39mn_test,\n\u001b[1;32m   2194\u001b[0m                  train_size\u001b[38;5;241m=\u001b[39mn_train,\n\u001b[1;32m   2195\u001b[0m                  random_state\u001b[38;5;241m=\u001b[39mrandom_state)\n\u001b[0;32m-> 2197\u001b[0m     train, test \u001b[38;5;241m=\u001b[39m \u001b[38;5;28mnext\u001b[39m(\u001b[43mcv\u001b[49m\u001b[38;5;241;43m.\u001b[39;49m\u001b[43msplit\u001b[49m\u001b[43m(\u001b[49m\u001b[43mX\u001b[49m\u001b[38;5;241;43m=\u001b[39;49m\u001b[43marrays\u001b[49m\u001b[43m[\u001b[49m\u001b[38;5;241;43m0\u001b[39;49m\u001b[43m]\u001b[49m\u001b[43m,\u001b[49m\u001b[43m \u001b[49m\u001b[43my\u001b[49m\u001b[38;5;241;43m=\u001b[39;49m\u001b[43mstratify\u001b[49m\u001b[43m)\u001b[49m)\n\u001b[1;32m   2199\u001b[0m \u001b[38;5;28;01mreturn\u001b[39;00m \u001b[38;5;28mlist\u001b[39m(chain\u001b[38;5;241m.\u001b[39mfrom_iterable((_safe_indexing(a, train),\n\u001b[1;32m   2200\u001b[0m                                  _safe_indexing(a, test)) \u001b[38;5;28;01mfor\u001b[39;00m a \u001b[38;5;129;01min\u001b[39;00m arrays))\n",
      "File \u001b[0;32m/opt/miniconda3/envs/qiime2a/lib/python3.8/site-packages/sklearn/model_selection/_split.py:1793\u001b[0m, in \u001b[0;36mStratifiedShuffleSplit.split\u001b[0;34m(self, X, y, groups)\u001b[0m\n\u001b[1;32m   1760\u001b[0m \u001b[38;5;250m\u001b[39m\u001b[38;5;124;03m\"\"\"Generate indices to split data into training and test set.\u001b[39;00m\n\u001b[1;32m   1761\u001b[0m \n\u001b[1;32m   1762\u001b[0m \u001b[38;5;124;03mParameters\u001b[39;00m\n\u001b[0;32m   (...)\u001b[0m\n\u001b[1;32m   1791\u001b[0m \u001b[38;5;124;03mto an integer.\u001b[39;00m\n\u001b[1;32m   1792\u001b[0m \u001b[38;5;124;03m\"\"\"\u001b[39;00m\n\u001b[0;32m-> 1793\u001b[0m y \u001b[38;5;241m=\u001b[39m \u001b[43mcheck_array\u001b[49m\u001b[43m(\u001b[49m\u001b[43my\u001b[49m\u001b[43m,\u001b[49m\u001b[43m \u001b[49m\u001b[43mensure_2d\u001b[49m\u001b[38;5;241;43m=\u001b[39;49m\u001b[38;5;28;43;01mFalse\u001b[39;49;00m\u001b[43m,\u001b[49m\u001b[43m \u001b[49m\u001b[43mdtype\u001b[49m\u001b[38;5;241;43m=\u001b[39;49m\u001b[38;5;28;43;01mNone\u001b[39;49;00m\u001b[43m)\u001b[49m\n\u001b[1;32m   1794\u001b[0m \u001b[38;5;28;01mreturn\u001b[39;00m \u001b[38;5;28msuper\u001b[39m()\u001b[38;5;241m.\u001b[39msplit(X, y, groups)\n",
      "File \u001b[0;32m/opt/miniconda3/envs/qiime2a/lib/python3.8/site-packages/sklearn/utils/validation.py:63\u001b[0m, in \u001b[0;36m_deprecate_positional_args.<locals>._inner_deprecate_positional_args.<locals>.inner_f\u001b[0;34m(*args, **kwargs)\u001b[0m\n\u001b[1;32m     62\u001b[0m \u001b[38;5;28;01mif\u001b[39;00m extra_args \u001b[38;5;241m<\u001b[39m\u001b[38;5;241m=\u001b[39m \u001b[38;5;241m0\u001b[39m:\n\u001b[0;32m---> 63\u001b[0m     \u001b[38;5;28;01mreturn\u001b[39;00m \u001b[43mf\u001b[49m\u001b[43m(\u001b[49m\u001b[38;5;241;43m*\u001b[39;49m\u001b[43margs\u001b[49m\u001b[43m,\u001b[49m\u001b[43m \u001b[49m\u001b[38;5;241;43m*\u001b[39;49m\u001b[38;5;241;43m*\u001b[39;49m\u001b[43mkwargs\u001b[49m\u001b[43m)\u001b[49m\n\u001b[1;32m     65\u001b[0m \u001b[38;5;66;03m# extra_args > 0\u001b[39;00m\n",
      "File \u001b[0;32m/opt/miniconda3/envs/qiime2a/lib/python3.8/site-packages/sklearn/utils/validation.py:663\u001b[0m, in \u001b[0;36mcheck_array\u001b[0;34m(array, accept_sparse, accept_large_sparse, dtype, order, copy, force_all_finite, ensure_2d, allow_nd, ensure_min_samples, ensure_min_features, estimator)\u001b[0m\n\u001b[1;32m    662\u001b[0m     \u001b[38;5;28;01mif\u001b[39;00m force_all_finite:\n\u001b[0;32m--> 663\u001b[0m         \u001b[43m_assert_all_finite\u001b[49m\u001b[43m(\u001b[49m\u001b[43marray\u001b[49m\u001b[43m,\u001b[49m\n\u001b[1;32m    664\u001b[0m \u001b[43m                           \u001b[49m\u001b[43mallow_nan\u001b[49m\u001b[38;5;241;43m=\u001b[39;49m\u001b[43mforce_all_finite\u001b[49m\u001b[43m \u001b[49m\u001b[38;5;241;43m==\u001b[39;49m\u001b[43m \u001b[49m\u001b[38;5;124;43m'\u001b[39;49m\u001b[38;5;124;43mallow-nan\u001b[39;49m\u001b[38;5;124;43m'\u001b[39;49m\u001b[43m)\u001b[49m\n\u001b[1;32m    666\u001b[0m \u001b[38;5;28;01mif\u001b[39;00m ensure_min_samples \u001b[38;5;241m>\u001b[39m \u001b[38;5;241m0\u001b[39m:\n",
      "File \u001b[0;32m/opt/miniconda3/envs/qiime2a/lib/python3.8/site-packages/sklearn/utils/validation.py:111\u001b[0m, in \u001b[0;36m_assert_all_finite\u001b[0;34m(X, allow_nan, msg_dtype)\u001b[0m\n\u001b[1;32m    110\u001b[0m \u001b[38;5;28;01mif\u001b[39;00m _object_dtype_isnan(X)\u001b[38;5;241m.\u001b[39many():\n\u001b[0;32m--> 111\u001b[0m     \u001b[38;5;28;01mraise\u001b[39;00m \u001b[38;5;167;01mValueError\u001b[39;00m(\u001b[38;5;124m\"\u001b[39m\u001b[38;5;124mInput contains NaN\u001b[39m\u001b[38;5;124m\"\u001b[39m)\n",
      "\u001b[0;31mValueError\u001b[0m: Input contains NaN",
      "\nDuring handling of the above exception, another exception occurred:\n",
      "\u001b[0;31mValueError\u001b[0m                                Traceback (most recent call last)",
      "Cell \u001b[0;32mIn[125], line 1\u001b[0m\n\u001b[0;32m----> 1\u001b[0m sample, \u001b[38;5;241m=\u001b[39m \u001b[43msample_classifier_actions\u001b[49m\u001b[38;5;241;43m.\u001b[39;49m\u001b[43mclassify_samples\u001b[49m\u001b[43m(\u001b[49m\n\u001b[1;32m      2\u001b[0m \u001b[43m    \u001b[49m\u001b[43mtable\u001b[49m\u001b[38;5;241;43m=\u001b[39;49m\u001b[43mfeature\u001b[49m\u001b[43m,\u001b[49m\n\u001b[1;32m      3\u001b[0m \u001b[43m    \u001b[49m\u001b[43mmetadata\u001b[49m\u001b[38;5;241;43m=\u001b[39;49m\u001b[43mmetadata1\u001b[49m\u001b[38;5;241;43m.\u001b[39;49m\u001b[43mget_column\u001b[49m\u001b[43m(\u001b[49m\u001b[38;5;124;43m'\u001b[39;49m\u001b[38;5;124;43mDisease_HCT\u001b[39;49m\u001b[38;5;124;43m'\u001b[39;49m\u001b[43m)\u001b[49m\u001b[43m,\u001b[49m\n\u001b[1;32m      4\u001b[0m \u001b[43m    \u001b[49m\u001b[43mrandom_state\u001b[49m\u001b[38;5;241;43m=\u001b[39;49m\u001b[38;5;241;43m666\u001b[39;49m\u001b[43m,\u001b[49m\n\u001b[1;32m      5\u001b[0m \u001b[43m    \u001b[49m\u001b[43mn_jobs\u001b[49m\u001b[38;5;241;43m=\u001b[39;49m\u001b[38;5;241;43m4\u001b[39;49m\u001b[43m)\u001b[49m\n",
      "File \u001b[0;32m<decorator-gen-444>:2\u001b[0m, in \u001b[0;36mclassify_samples\u001b[0;34m(table, metadata, test_size, step, cv, random_state, n_jobs, n_estimators, estimator, optimize_feature_selection, parameter_tuning, palette, missing_samples)\u001b[0m\n",
      "File \u001b[0;32m/opt/miniconda3/envs/qiime2a/lib/python3.8/site-packages/qiime2/sdk/action.py:342\u001b[0m, in \u001b[0;36mAction._bind.<locals>.bound_callable\u001b[0;34m(*args, **kwargs)\u001b[0m\n\u001b[1;32m    335\u001b[0m callable_args \u001b[38;5;241m=\u001b[39m \u001b[38;5;28mself\u001b[39m\u001b[38;5;241m.\u001b[39msignature\u001b[38;5;241m.\u001b[39mcoerce_user_input(\n\u001b[1;32m    336\u001b[0m     \u001b[38;5;241m*\u001b[39m\u001b[38;5;241m*\u001b[39mcollated_inputs)\n\u001b[1;32m    338\u001b[0m callable_args \u001b[38;5;241m=\u001b[39m \\\n\u001b[1;32m    339\u001b[0m     \u001b[38;5;28mself\u001b[39m\u001b[38;5;241m.\u001b[39msignature\u001b[38;5;241m.\u001b[39mtransform_and_add_callable_args_to_prov(\n\u001b[1;32m    340\u001b[0m         provenance, \u001b[38;5;241m*\u001b[39m\u001b[38;5;241m*\u001b[39mcallable_args)\n\u001b[0;32m--> 342\u001b[0m outputs \u001b[38;5;241m=\u001b[39m \u001b[38;5;28;43mself\u001b[39;49m\u001b[38;5;241;43m.\u001b[39;49m\u001b[43m_callable_executor_\u001b[49m\u001b[43m(\u001b[49m\n\u001b[1;32m    343\u001b[0m \u001b[43m    \u001b[49m\u001b[43mscope\u001b[49m\u001b[43m,\u001b[49m\u001b[43m \u001b[49m\u001b[43mcallable_args\u001b[49m\u001b[43m,\u001b[49m\u001b[43m \u001b[49m\u001b[43moutput_types\u001b[49m\u001b[43m,\u001b[49m\u001b[43m \u001b[49m\u001b[43mprovenance\u001b[49m\u001b[43m)\u001b[49m\n\u001b[1;32m    345\u001b[0m \u001b[38;5;28;01mif\u001b[39;00m \u001b[38;5;28mlen\u001b[39m(outputs) \u001b[38;5;241m!=\u001b[39m \u001b[38;5;28mlen\u001b[39m(\u001b[38;5;28mself\u001b[39m\u001b[38;5;241m.\u001b[39msignature\u001b[38;5;241m.\u001b[39moutputs):\n\u001b[1;32m    346\u001b[0m     \u001b[38;5;28;01mraise\u001b[39;00m \u001b[38;5;167;01mValueError\u001b[39;00m(\n\u001b[1;32m    347\u001b[0m         \u001b[38;5;124m\"\u001b[39m\u001b[38;5;124mNumber of callable outputs must match number of \u001b[39m\u001b[38;5;124m\"\u001b[39m\n\u001b[1;32m    348\u001b[0m         \u001b[38;5;124m\"\u001b[39m\u001b[38;5;124moutputs defined in signature: \u001b[39m\u001b[38;5;132;01m%d\u001b[39;00m\u001b[38;5;124m != \u001b[39m\u001b[38;5;132;01m%d\u001b[39;00m\u001b[38;5;124m\"\u001b[39m \u001b[38;5;241m%\u001b[39m\n\u001b[1;32m    349\u001b[0m         (\u001b[38;5;28mlen\u001b[39m(outputs), \u001b[38;5;28mlen\u001b[39m(\u001b[38;5;28mself\u001b[39m\u001b[38;5;241m.\u001b[39msignature\u001b[38;5;241m.\u001b[39moutputs)))\n",
      "File \u001b[0;32m/opt/miniconda3/envs/qiime2a/lib/python3.8/site-packages/qiime2/sdk/action.py:647\u001b[0m, in \u001b[0;36mPipeline._callable_executor_\u001b[0;34m(self, scope, view_args, output_types, provenance)\u001b[0m\n\u001b[1;32m    646\u001b[0m \u001b[38;5;28;01mdef\u001b[39;00m \u001b[38;5;21m_callable_executor_\u001b[39m(\u001b[38;5;28mself\u001b[39m, scope, view_args, output_types, provenance):\n\u001b[0;32m--> 647\u001b[0m     outputs \u001b[38;5;241m=\u001b[39m \u001b[38;5;28;43mself\u001b[39;49m\u001b[38;5;241;43m.\u001b[39;49m\u001b[43m_callable\u001b[49m\u001b[43m(\u001b[49m\u001b[43mscope\u001b[49m\u001b[38;5;241;43m.\u001b[39;49m\u001b[43mctx\u001b[49m\u001b[43m,\u001b[49m\u001b[43m \u001b[49m\u001b[38;5;241;43m*\u001b[39;49m\u001b[38;5;241;43m*\u001b[39;49m\u001b[43mview_args\u001b[49m\u001b[43m)\u001b[49m\n\u001b[1;32m    648\u001b[0m     \u001b[38;5;66;03m# Just make sure we have an iterable even if there was only one output\u001b[39;00m\n\u001b[1;32m    649\u001b[0m     outputs \u001b[38;5;241m=\u001b[39m tuplize(outputs)\n",
      "File \u001b[0;32m/opt/miniconda3/envs/qiime2a/lib/python3.8/site-packages/q2_sample_classifier/classify.py:195\u001b[0m, in \u001b[0;36mclassify_samples\u001b[0;34m(ctx, table, metadata, test_size, step, cv, random_state, n_jobs, n_estimators, estimator, optimize_feature_selection, parameter_tuning, palette, missing_samples)\u001b[0m\n\u001b[1;32m    192\u001b[0m confusion \u001b[38;5;241m=\u001b[39m ctx\u001b[38;5;241m.\u001b[39mget_action(\u001b[38;5;124m'\u001b[39m\u001b[38;5;124msample_classifier\u001b[39m\u001b[38;5;124m'\u001b[39m, \u001b[38;5;124m'\u001b[39m\u001b[38;5;124mconfusion_matrix\u001b[39m\u001b[38;5;124m'\u001b[39m)\n\u001b[1;32m    193\u001b[0m heat \u001b[38;5;241m=\u001b[39m ctx\u001b[38;5;241m.\u001b[39mget_action(\u001b[38;5;124m'\u001b[39m\u001b[38;5;124msample_classifier\u001b[39m\u001b[38;5;124m'\u001b[39m, \u001b[38;5;124m'\u001b[39m\u001b[38;5;124mheatmap\u001b[39m\u001b[38;5;124m'\u001b[39m)\n\u001b[0;32m--> 195\u001b[0m X_train, X_test, y_train, y_test \u001b[38;5;241m=\u001b[39m \u001b[43msplit\u001b[49m\u001b[43m(\u001b[49m\u001b[43mtable\u001b[49m\u001b[43m,\u001b[49m\u001b[43m \u001b[49m\u001b[43mmetadata\u001b[49m\u001b[43m,\u001b[49m\u001b[43m \u001b[49m\u001b[43mtest_size\u001b[49m\u001b[43m,\u001b[49m\n\u001b[1;32m    196\u001b[0m \u001b[43m                                         \u001b[49m\u001b[43mrandom_state\u001b[49m\u001b[43m,\u001b[49m\n\u001b[1;32m    197\u001b[0m \u001b[43m                                         \u001b[49m\u001b[43mstratify\u001b[49m\u001b[38;5;241;43m=\u001b[39;49m\u001b[38;5;28;43;01mTrue\u001b[39;49;00m\u001b[43m,\u001b[49m\n\u001b[1;32m    198\u001b[0m \u001b[43m                                         \u001b[49m\u001b[43mmissing_samples\u001b[49m\u001b[38;5;241;43m=\u001b[39;49m\u001b[43mmissing_samples\u001b[49m\u001b[43m)\u001b[49m\n\u001b[1;32m    200\u001b[0m sample_estimator, importance \u001b[38;5;241m=\u001b[39m fit(\n\u001b[1;32m    201\u001b[0m     X_train, metadata, step, cv, random_state, n_jobs, n_estimators,\n\u001b[1;32m    202\u001b[0m     estimator, optimize_feature_selection, parameter_tuning,\n\u001b[1;32m    203\u001b[0m     missing_samples\u001b[38;5;241m=\u001b[39m\u001b[38;5;124m'\u001b[39m\u001b[38;5;124mignore\u001b[39m\u001b[38;5;124m'\u001b[39m)\n\u001b[1;32m    205\u001b[0m predictions, probabilities, \u001b[38;5;241m=\u001b[39m predict_test(\n\u001b[1;32m    206\u001b[0m     X_test, sample_estimator, n_jobs)\n",
      "File \u001b[0;32m<decorator-gen-1204>:2\u001b[0m, in \u001b[0;36msplit_table\u001b[0;34m(table, metadata, test_size, random_state, stratify, missing_samples)\u001b[0m\n",
      "File \u001b[0;32m/opt/miniconda3/envs/qiime2a/lib/python3.8/site-packages/qiime2/sdk/context.py:143\u001b[0m, in \u001b[0;36mContext.get_action.<locals>.deferred_action\u001b[0;34m(*args, **kwargs)\u001b[0m\n\u001b[1;32m    140\u001b[0m \u001b[38;5;28;01mif\u001b[39;00m \u001b[38;5;28mself\u001b[39m\u001b[38;5;241m.\u001b[39mparallel:\n\u001b[1;32m    141\u001b[0m     \u001b[38;5;28;01mreturn\u001b[39;00m _bind_parsl_context(\u001b[38;5;28mself\u001b[39m)(\u001b[38;5;241m*\u001b[39margs, \u001b[38;5;241m*\u001b[39m\u001b[38;5;241m*\u001b[39mkwargs)\n\u001b[0;32m--> 143\u001b[0m \u001b[38;5;28;01mreturn\u001b[39;00m \u001b[43maction_obj\u001b[49m\u001b[38;5;241;43m.\u001b[39;49m\u001b[43m_bind\u001b[49m\u001b[43m(\u001b[49m\n\u001b[1;32m    144\u001b[0m \u001b[43m    \u001b[49m\u001b[38;5;28;43;01mlambda\u001b[39;49;00m\u001b[43m:\u001b[49m\u001b[43m \u001b[49m\u001b[43mContext\u001b[49m\u001b[43m(\u001b[49m\u001b[43mparent\u001b[49m\u001b[38;5;241;43m=\u001b[39;49m\u001b[38;5;28;43mself\u001b[39;49m\u001b[43m)\u001b[49m\u001b[43m)\u001b[49m\u001b[43m(\u001b[49m\u001b[38;5;241;43m*\u001b[39;49m\u001b[43margs\u001b[49m\u001b[43m,\u001b[49m\u001b[43m \u001b[49m\u001b[38;5;241;43m*\u001b[39;49m\u001b[38;5;241;43m*\u001b[39;49m\u001b[43mkwargs\u001b[49m\u001b[43m)\u001b[49m\n",
      "File \u001b[0;32m<decorator-gen-1213>:2\u001b[0m, in \u001b[0;36msplit_table\u001b[0;34m(table, metadata, test_size, random_state, stratify, missing_samples)\u001b[0m\n",
      "File \u001b[0;32m/opt/miniconda3/envs/qiime2a/lib/python3.8/site-packages/qiime2/sdk/action.py:342\u001b[0m, in \u001b[0;36mAction._bind.<locals>.bound_callable\u001b[0;34m(*args, **kwargs)\u001b[0m\n\u001b[1;32m    335\u001b[0m callable_args \u001b[38;5;241m=\u001b[39m \u001b[38;5;28mself\u001b[39m\u001b[38;5;241m.\u001b[39msignature\u001b[38;5;241m.\u001b[39mcoerce_user_input(\n\u001b[1;32m    336\u001b[0m     \u001b[38;5;241m*\u001b[39m\u001b[38;5;241m*\u001b[39mcollated_inputs)\n\u001b[1;32m    338\u001b[0m callable_args \u001b[38;5;241m=\u001b[39m \\\n\u001b[1;32m    339\u001b[0m     \u001b[38;5;28mself\u001b[39m\u001b[38;5;241m.\u001b[39msignature\u001b[38;5;241m.\u001b[39mtransform_and_add_callable_args_to_prov(\n\u001b[1;32m    340\u001b[0m         provenance, \u001b[38;5;241m*\u001b[39m\u001b[38;5;241m*\u001b[39mcallable_args)\n\u001b[0;32m--> 342\u001b[0m outputs \u001b[38;5;241m=\u001b[39m \u001b[38;5;28;43mself\u001b[39;49m\u001b[38;5;241;43m.\u001b[39;49m\u001b[43m_callable_executor_\u001b[49m\u001b[43m(\u001b[49m\n\u001b[1;32m    343\u001b[0m \u001b[43m    \u001b[49m\u001b[43mscope\u001b[49m\u001b[43m,\u001b[49m\u001b[43m \u001b[49m\u001b[43mcallable_args\u001b[49m\u001b[43m,\u001b[49m\u001b[43m \u001b[49m\u001b[43moutput_types\u001b[49m\u001b[43m,\u001b[49m\u001b[43m \u001b[49m\u001b[43mprovenance\u001b[49m\u001b[43m)\u001b[49m\n\u001b[1;32m    345\u001b[0m \u001b[38;5;28;01mif\u001b[39;00m \u001b[38;5;28mlen\u001b[39m(outputs) \u001b[38;5;241m!=\u001b[39m \u001b[38;5;28mlen\u001b[39m(\u001b[38;5;28mself\u001b[39m\u001b[38;5;241m.\u001b[39msignature\u001b[38;5;241m.\u001b[39moutputs):\n\u001b[1;32m    346\u001b[0m     \u001b[38;5;28;01mraise\u001b[39;00m \u001b[38;5;167;01mValueError\u001b[39;00m(\n\u001b[1;32m    347\u001b[0m         \u001b[38;5;124m\"\u001b[39m\u001b[38;5;124mNumber of callable outputs must match number of \u001b[39m\u001b[38;5;124m\"\u001b[39m\n\u001b[1;32m    348\u001b[0m         \u001b[38;5;124m\"\u001b[39m\u001b[38;5;124moutputs defined in signature: \u001b[39m\u001b[38;5;132;01m%d\u001b[39;00m\u001b[38;5;124m != \u001b[39m\u001b[38;5;132;01m%d\u001b[39;00m\u001b[38;5;124m\"\u001b[39m \u001b[38;5;241m%\u001b[39m\n\u001b[1;32m    349\u001b[0m         (\u001b[38;5;28mlen\u001b[39m(outputs), \u001b[38;5;28mlen\u001b[39m(\u001b[38;5;28mself\u001b[39m\u001b[38;5;241m.\u001b[39msignature\u001b[38;5;241m.\u001b[39moutputs)))\n",
      "File \u001b[0;32m/opt/miniconda3/envs/qiime2a/lib/python3.8/site-packages/qiime2/sdk/action.py:566\u001b[0m, in \u001b[0;36mMethod._callable_executor_\u001b[0;34m(self, scope, view_args, output_types, provenance)\u001b[0m\n\u001b[1;32m    565\u001b[0m \u001b[38;5;28;01mdef\u001b[39;00m \u001b[38;5;21m_callable_executor_\u001b[39m(\u001b[38;5;28mself\u001b[39m, scope, view_args, output_types, provenance):\n\u001b[0;32m--> 566\u001b[0m     output_views \u001b[38;5;241m=\u001b[39m \u001b[38;5;28;43mself\u001b[39;49m\u001b[38;5;241;43m.\u001b[39;49m\u001b[43m_callable\u001b[49m\u001b[43m(\u001b[49m\u001b[38;5;241;43m*\u001b[39;49m\u001b[38;5;241;43m*\u001b[39;49m\u001b[43mview_args\u001b[49m\u001b[43m)\u001b[49m\n\u001b[1;32m    567\u001b[0m     output_views \u001b[38;5;241m=\u001b[39m tuplize(output_views)\n\u001b[1;32m    569\u001b[0m     \u001b[38;5;66;03m# TODO this won't work if the user has annotated their \"view API\" to\u001b[39;00m\n\u001b[1;32m    570\u001b[0m     \u001b[38;5;66;03m# return a `typing.Tuple` with some number of components. Python will\u001b[39;00m\n\u001b[1;32m    571\u001b[0m     \u001b[38;5;66;03m# return a tuple when there are multiple return values, and this length\u001b[39;00m\n\u001b[0;32m   (...)\u001b[0m\n\u001b[1;32m    574\u001b[0m     \u001b[38;5;66;03m# due to how Python handles multiple returns, and can be worked around\u001b[39;00m\n\u001b[1;32m    575\u001b[0m     \u001b[38;5;66;03m# by using something like `typing.List` instead.\u001b[39;00m\n",
      "File \u001b[0;32m/opt/miniconda3/envs/qiime2a/lib/python3.8/site-packages/q2_sample_classifier/classify.py:344\u001b[0m, in \u001b[0;36msplit_table\u001b[0;34m(table, metadata, test_size, random_state, stratify, missing_samples)\u001b[0m\n\u001b[1;32m    338\u001b[0m \u001b[38;5;28;01mdef\u001b[39;00m \u001b[38;5;21msplit_table\u001b[39m(table: biom\u001b[38;5;241m.\u001b[39mTable, metadata: qiime2\u001b[38;5;241m.\u001b[39mMetadataColumn,\n\u001b[1;32m    339\u001b[0m                 test_size: \u001b[38;5;28mfloat\u001b[39m \u001b[38;5;241m=\u001b[39m defaults[\u001b[38;5;124m'\u001b[39m\u001b[38;5;124mtest_size\u001b[39m\u001b[38;5;124m'\u001b[39m],\n\u001b[1;32m    340\u001b[0m                 random_state: \u001b[38;5;28mint\u001b[39m \u001b[38;5;241m=\u001b[39m \u001b[38;5;28;01mNone\u001b[39;00m, stratify: \u001b[38;5;28mstr\u001b[39m \u001b[38;5;241m=\u001b[39m \u001b[38;5;28;01mTrue\u001b[39;00m,\n\u001b[1;32m    341\u001b[0m                 missing_samples: \u001b[38;5;28mstr\u001b[39m \u001b[38;5;241m=\u001b[39m defaults[\u001b[38;5;124m'\u001b[39m\u001b[38;5;124mmissing_samples\u001b[39m\u001b[38;5;124m'\u001b[39m]\n\u001b[1;32m    342\u001b[0m                 ) \u001b[38;5;241m-\u001b[39m\u001b[38;5;241m>\u001b[39m (biom\u001b[38;5;241m.\u001b[39mTable, biom\u001b[38;5;241m.\u001b[39mTable, pd\u001b[38;5;241m.\u001b[39mSeries, pd\u001b[38;5;241m.\u001b[39mSeries):\n\u001b[1;32m    343\u001b[0m     column \u001b[38;5;241m=\u001b[39m metadata\u001b[38;5;241m.\u001b[39mname\n\u001b[0;32m--> 344\u001b[0m     X_train, X_test, y_train, y_test \u001b[38;5;241m=\u001b[39m \u001b[43m_prepare_training_data\u001b[49m\u001b[43m(\u001b[49m\n\u001b[1;32m    345\u001b[0m \u001b[43m        \u001b[49m\u001b[43mtable\u001b[49m\u001b[43m,\u001b[49m\u001b[43m \u001b[49m\u001b[43mmetadata\u001b[49m\u001b[43m,\u001b[49m\u001b[43m \u001b[49m\u001b[43mcolumn\u001b[49m\u001b[43m,\u001b[49m\u001b[43m \u001b[49m\u001b[43mtest_size\u001b[49m\u001b[43m,\u001b[49m\u001b[43m \u001b[49m\u001b[43mrandom_state\u001b[49m\u001b[43m,\u001b[49m\u001b[43m \u001b[49m\u001b[43mload_data\u001b[49m\u001b[38;5;241;43m=\u001b[39;49m\u001b[38;5;28;43;01mTrue\u001b[39;49;00m\u001b[43m,\u001b[49m\n\u001b[1;32m    346\u001b[0m \u001b[43m        \u001b[49m\u001b[43mstratify\u001b[49m\u001b[38;5;241;43m=\u001b[39;49m\u001b[43mstratify\u001b[49m\u001b[43m,\u001b[49m\u001b[43m \u001b[49m\u001b[43mmissing_samples\u001b[49m\u001b[38;5;241;43m=\u001b[39;49m\u001b[43mmissing_samples\u001b[49m\u001b[43m)\u001b[49m\n\u001b[1;32m    347\u001b[0m     \u001b[38;5;28;01mreturn\u001b[39;00m X_train, X_test, y_train, y_test\n",
      "File \u001b[0;32m/opt/miniconda3/envs/qiime2a/lib/python3.8/site-packages/q2_sample_classifier/utilities.py:394\u001b[0m, in \u001b[0;36m_prepare_training_data\u001b[0;34m(features, targets, column, test_size, random_state, load_data, stratify, missing_samples)\u001b[0m\n\u001b[1;32m    391\u001b[0m \u001b[38;5;28;01melse\u001b[39;00m:\n\u001b[1;32m    392\u001b[0m     strata \u001b[38;5;241m=\u001b[39m \u001b[38;5;28;01mNone\u001b[39;00m\n\u001b[0;32m--> 394\u001b[0m X_train, X_test, y_train, y_test \u001b[38;5;241m=\u001b[39m \u001b[43m_split_training_data\u001b[49m\u001b[43m(\u001b[49m\n\u001b[1;32m    395\u001b[0m \u001b[43m    \u001b[49m\u001b[43mfeatures\u001b[49m\u001b[43m,\u001b[49m\u001b[43m \u001b[49m\u001b[43mtargets\u001b[49m\u001b[43m,\u001b[49m\u001b[43m \u001b[49m\u001b[43mcolumn\u001b[49m\u001b[43m,\u001b[49m\u001b[43m \u001b[49m\u001b[43mtest_size\u001b[49m\u001b[43m,\u001b[49m\u001b[43m \u001b[49m\u001b[43mstrata\u001b[49m\u001b[43m,\u001b[49m\u001b[43m \u001b[49m\u001b[43mrandom_state\u001b[49m\u001b[43m)\u001b[49m\n\u001b[1;32m    397\u001b[0m \u001b[38;5;28;01mreturn\u001b[39;00m X_train, X_test, y_train, y_test\n",
      "File \u001b[0;32m/opt/miniconda3/envs/qiime2a/lib/python3.8/site-packages/q2_sample_classifier/utilities.py:163\u001b[0m, in \u001b[0;36m_split_training_data\u001b[0;34m(feature_data, targets, column, test_size, stratify, random_state, drop_na)\u001b[0m\n\u001b[1;32m    159\u001b[0m         y_train, y_test \u001b[38;5;241m=\u001b[39m train_test_split(\n\u001b[1;32m    160\u001b[0m             targets, test_size\u001b[38;5;241m=\u001b[39mtest_size, stratify\u001b[38;5;241m=\u001b[39mstratify,\n\u001b[1;32m    161\u001b[0m             random_state\u001b[38;5;241m=\u001b[39mrandom_state)\n\u001b[1;32m    162\u001b[0m     \u001b[38;5;28;01mexcept\u001b[39;00m \u001b[38;5;167;01mValueError\u001b[39;00m:\n\u001b[0;32m--> 163\u001b[0m         \u001b[43m_stratification_error\u001b[49m\u001b[43m(\u001b[49m\u001b[43m)\u001b[49m\n\u001b[1;32m    164\u001b[0m \u001b[38;5;28;01melse\u001b[39;00m:\n\u001b[1;32m    165\u001b[0m     warning_msg \u001b[38;5;241m=\u001b[39m _warn_zero_test_split()\n",
      "File \u001b[0;32m/opt/miniconda3/envs/qiime2a/lib/python3.8/site-packages/q2_sample_classifier/utilities.py:185\u001b[0m, in \u001b[0;36m_stratification_error\u001b[0;34m()\u001b[0m\n\u001b[1;32m    184\u001b[0m \u001b[38;5;28;01mdef\u001b[39;00m \u001b[38;5;21m_stratification_error\u001b[39m():\n\u001b[0;32m--> 185\u001b[0m     \u001b[38;5;28;01mraise\u001b[39;00m \u001b[38;5;167;01mValueError\u001b[39;00m((\n\u001b[1;32m    186\u001b[0m         \u001b[38;5;124m'\u001b[39m\u001b[38;5;124mYou have chosen to predict a metadata column that contains \u001b[39m\u001b[38;5;124m'\u001b[39m\n\u001b[1;32m    187\u001b[0m         \u001b[38;5;124m'\u001b[39m\u001b[38;5;124mone or more values that match only one sample. For proper \u001b[39m\u001b[38;5;124m'\u001b[39m\n\u001b[1;32m    188\u001b[0m         \u001b[38;5;124m'\u001b[39m\u001b[38;5;124mstratification of data into training and test sets, each \u001b[39m\u001b[38;5;124m'\u001b[39m\n\u001b[1;32m    189\u001b[0m         \u001b[38;5;124m'\u001b[39m\u001b[38;5;124mclass (value) must contain at least two samples. This is a \u001b[39m\u001b[38;5;124m'\u001b[39m\n\u001b[1;32m    190\u001b[0m         \u001b[38;5;124m'\u001b[39m\u001b[38;5;124mrequirement for classification problems, but stratification \u001b[39m\u001b[38;5;124m'\u001b[39m\n\u001b[1;32m    191\u001b[0m         \u001b[38;5;124m'\u001b[39m\u001b[38;5;124mcan be disabled for regression by setting stratify=False. \u001b[39m\u001b[38;5;124m'\u001b[39m\n\u001b[1;32m    192\u001b[0m         \u001b[38;5;124m'\u001b[39m\u001b[38;5;124mAlternatively, remove all samples that bear a unique class \u001b[39m\u001b[38;5;124m'\u001b[39m\n\u001b[1;32m    193\u001b[0m         \u001b[38;5;124m'\u001b[39m\u001b[38;5;124mlabel for your chosen metadata column. Note that disabling \u001b[39m\u001b[38;5;124m'\u001b[39m\n\u001b[1;32m    194\u001b[0m         \u001b[38;5;124m'\u001b[39m\u001b[38;5;124mstratification can negatively impact predictive accuracy for \u001b[39m\u001b[38;5;124m'\u001b[39m\n\u001b[1;32m    195\u001b[0m         \u001b[38;5;124m'\u001b[39m\u001b[38;5;124msmall data sets.\u001b[39m\u001b[38;5;124m'\u001b[39m))\n",
      "\u001b[0;31mValueError\u001b[0m: You have chosen to predict a metadata column that contains one or more values that match only one sample. For proper stratification of data into training and test sets, each class (value) must contain at least two samples. This is a requirement for classification problems, but stratification can be disabled for regression by setting stratify=False. Alternatively, remove all samples that bear a unique class label for your chosen metadata column. Note that disabling stratification can negatively impact predictive accuracy for small data sets."
     ]
    }
   ],
   "source": [
    "sample, = sample_classifier_actions.classify_samples(\n",
    "    table=feature,\n",
    "    metadata=metadata1.get_column('Disease_HCT'),\n",
    "    random_state=666,\n",
    "    n_jobs=4)"
   ]
  },
  {
   "cell_type": "code",
   "execution_count": null,
   "id": "5aff26fa",
   "metadata": {},
   "outputs": [],
   "source": []
  }
 ],
 "metadata": {
  "kernelspec": {
   "display_name": "Python 3 (ipykernel)",
   "language": "python",
   "name": "python3"
  },
  "language_info": {
   "codemirror_mode": {
    "name": "ipython",
    "version": 3
   },
   "file_extension": ".py",
   "mimetype": "text/x-python",
   "name": "python",
   "nbconvert_exporter": "python",
   "pygments_lexer": "ipython3",
   "version": "3.8.18"
  }
 },
 "nbformat": 4,
 "nbformat_minor": 5
}
